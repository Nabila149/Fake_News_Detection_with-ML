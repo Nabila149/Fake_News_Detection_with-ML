{
  "nbformat": 4,
  "nbformat_minor": 0,
  "metadata": {
    "colab": {
      "provenance": []
    },
    "kernelspec": {
      "name": "python3",
      "display_name": "Python 3"
    },
    "language_info": {
      "name": "python"
    }
  },
  "cells": [
    {
      "cell_type": "markdown",
      "source": [
        "# Bangla Fake News Detection Project\n",
        "\n",
        "This project detects fake vs. real news in Bangla using Machine Learning (ML) models.\n",
        "We apply preprocessing, text vectorization, model training (Naive Bayes, Bernoulli NB, Logistic Regression), and performance evaluation using accuracy, confusion matrix, ROC curves, and classification reports.**"
      ],
      "metadata": {
        "id": "2App7xdA4uba"
      }
    },
    {
      "cell_type": "markdown",
      "source": [
        "# **Import Libraries**"
      ],
      "metadata": {
        "id": "Zh4hayCaAd4I"
      }
    },
    {
      "cell_type": "code",
      "source": [
        "import pandas as pd\n",
        "import numpy as np\n",
        "import seaborn as sns\n",
        "import matplotlib.pyplot as plt\n",
        "from sklearn.model_selection import train_test_split\n",
        "from sklearn.feature_extraction.text import TfidfVectorizer\n",
        "from sklearn.naive_bayes import MultinomialNB, BernoulliNB\n",
        "from sklearn.linear_model import LogisticRegression\n",
        "from sklearn.metrics import accuracy_score, confusion_matrix, roc_auc_score, roc_curve, classification_report\n",
        "from wordcloud import WordCloud\n",
        "from nltk.corpus import stopwords\n",
        "import plotly.express as px\n",
        "import string, warnings\n",
        "warnings.filterwarnings(\"ignore\")"
      ],
      "metadata": {
        "id": "-i6pGJo_AuD4"
      },
      "execution_count": 1,
      "outputs": []
    },
    {
      "cell_type": "markdown",
      "source": [
        "# **Load and Explore Dataset**"
      ],
      "metadata": {
        "id": "KIk38HquDvHX"
      }
    },
    {
      "cell_type": "code",
      "source": [
        "# Load CSVs\n",
        "real = pd.read_csv(\"/content/LabeledAuthentic-7K.csv\", encoding=\"utf-8\")\n",
        "fake = pd.read_csv(\"/content/LabeledFake-1K.csv\", encoding=\"utf-8\")\n",
        "\n",
        "print(real.shape, fake.shape)\n",
        "print(real.columns, fake.columns)"
      ],
      "metadata": {
        "colab": {
          "base_uri": "https://localhost:8080/"
        },
        "id": "pPXXUGH9sHVB",
        "outputId": "8c23f821-dcfc-4abf-947d-00fd1061581f"
      },
      "execution_count": 2,
      "outputs": [
        {
          "output_type": "stream",
          "name": "stdout",
          "text": [
            "(7202, 9) (1299, 10)\n",
            "Index(['articleID', 'domain', 'date', 'category', 'source', 'relation',\n",
            "       'headline', 'content', 'label'],\n",
            "      dtype='object') Index(['articleID', 'domain', 'date', 'category', 'source', 'relation',\n",
            "       'headline', 'content', 'label', 'F-type'],\n",
            "      dtype='object')\n"
          ]
        }
      ]
    },
    {
      "cell_type": "markdown",
      "source": [
        "# **Data Preprocessing**"
      ],
      "metadata": {
        "id": "NIx88o7V5zYg"
      }
    },
    {
      "cell_type": "code",
      "source": [
        "print(real.info())\n",
        "print(fake.info())"
      ],
      "metadata": {
        "colab": {
          "base_uri": "https://localhost:8080/"
        },
        "id": "xxJCNKortDuH",
        "outputId": "1895b2ce-79d5-4d22-bcc7-5774adc05390"
      },
      "execution_count": 3,
      "outputs": [
        {
          "output_type": "stream",
          "name": "stdout",
          "text": [
            "<class 'pandas.core.frame.DataFrame'>\n",
            "RangeIndex: 7202 entries, 0 to 7201\n",
            "Data columns (total 9 columns):\n",
            " #   Column     Non-Null Count  Dtype  \n",
            "---  ------     --------------  -----  \n",
            " 0   articleID  7202 non-null   int64  \n",
            " 1   domain     7202 non-null   object \n",
            " 2   date       7202 non-null   object \n",
            " 3   category   7202 non-null   object \n",
            " 4   source     7202 non-null   object \n",
            " 5   relation   7202 non-null   object \n",
            " 6   headline   7202 non-null   object \n",
            " 7   content    7202 non-null   object \n",
            " 8   label      7202 non-null   float64\n",
            "dtypes: float64(1), int64(1), object(7)\n",
            "memory usage: 506.5+ KB\n",
            "None\n",
            "<class 'pandas.core.frame.DataFrame'>\n",
            "RangeIndex: 1299 entries, 0 to 1298\n",
            "Data columns (total 10 columns):\n",
            " #   Column     Non-Null Count  Dtype \n",
            "---  ------     --------------  ----- \n",
            " 0   articleID  1299 non-null   int64 \n",
            " 1   domain     1299 non-null   object\n",
            " 2   date       1299 non-null   object\n",
            " 3   category   1299 non-null   object\n",
            " 4   source     1299 non-null   object\n",
            " 5   relation   1299 non-null   object\n",
            " 6   headline   1299 non-null   object\n",
            " 7   content    1299 non-null   object\n",
            " 8   label      1299 non-null   int64 \n",
            " 9   F-type     1299 non-null   object\n",
            "dtypes: int64(2), object(8)\n",
            "memory usage: 101.6+ KB\n",
            "None\n"
          ]
        }
      ]
    },
    {
      "cell_type": "code",
      "source": [
        "print(\"Real News:\\n\")\n",
        "real['content'][0]\n",
        "\n"
      ],
      "metadata": {
        "colab": {
          "base_uri": "https://localhost:8080/",
          "height": 192
        },
        "id": "CW1cATP1En_-",
        "outputId": "de257230-3904-4876-de81-bae85396b17e"
      },
      "execution_count": 4,
      "outputs": [
        {
          "output_type": "stream",
          "name": "stdout",
          "text": [
            "Real News:\n",
            "\n"
          ]
        },
        {
          "output_type": "execute_result",
          "data": {
            "text/plain": [
              "'ক্রিকেট বিশ্বের নতুন চমকের নাম আফগানিস্তান। কয়েক বছরে তাদের পারফরম্যান্স নজর কেড়েছে ক্রিকেট জগতের। এশিয়া কাপের ১৪তম আসরেও দারুণ ছন্দে আছে আফগান ক্রিকেটাররা। পাঁচবারের এশিয়া কাপ চ্যাম্পিয়ন শ্রীলঙ্কাকে হারিয়ে এরই মধ্যে সেরা চারে পৌঁছে গেছে তারা। তবে দলের এমন ভালো সময়ে হঠাৎ করেই পদত্যাগ করেন আফগান ক্রিকেট বোর্ড (এসিবি) প্রধান আতিফ মাশাল। তবে হঠাৎ কী কারণে তার এই পদত্যাগ- এ নিয়ে ওঠা প্রশ্নের জবাব দিয়েছেন আতিফ। তিনি জানান, সরকারের অন্য একটি বিশেষ পদে তাকে নিয়োগ দেওয়ার কারণেই বোর্ডের দায়িত্ব থেকে অব্যাহতি। তার পরিবর্তে এসিবির দায়িত্ব নেবেন আফগান বোর্ডের সাবেক সহ সভাপতি আজিজ উল্লাহ ফজলে।\\xa0\\xa0 ২০১৭ সালের জানুয়ারিতে পাঁচ বছরের জন্য আতিফকে বোর্ড প্রধান নির্বাচন করা হলেও দায়িত্বের আড়াই বছরের মাথায় দায়িত্ব থেকে অব্যাহতি দিলেন তিনি। বিডি প্রতিদিন/ ওয়াসিফ'"
            ],
            "application/vnd.google.colaboratory.intrinsic+json": {
              "type": "string"
            }
          },
          "metadata": {},
          "execution_count": 4
        }
      ]
    },
    {
      "cell_type": "code",
      "source": [
        "print(\"Fake News:\\n\")\n",
        "fake['content'][5]"
      ],
      "metadata": {
        "colab": {
          "base_uri": "https://localhost:8080/",
          "height": 227
        },
        "id": "BRXZA-4hG0nb",
        "outputId": "68ef96bd-61cb-46b0-d32f-8b8347bd01bf"
      },
      "execution_count": 5,
      "outputs": [
        {
          "output_type": "stream",
          "name": "stdout",
          "text": [
            "Fake News:\n",
            "\n"
          ]
        },
        {
          "output_type": "execute_result",
          "data": {
            "text/plain": [
              "'বিয়ের সানাই বাজতে চলেছে শীঘ্রই ! সব জল্পনা কল্পনার অবসান ঘটিয়ে অবশেষে বিয়ের পিড়িতে বসতে যাচ্ছেন পশ্চিমের জনপ্রিয় অভিনেত্রী মিয়া খলিফা ! দীর্ঘদিন যাব\\u200dৎ ফেসবুকে রিফাত হোসেন নামে এক বাংলাদেশী তরুণের সাথে চুটিয়ে প্রেম করার পর অবশেষে বিয়ের সিদ্ধান্তের কথা জানালেন কিংবদন্তী এ তারকা। রিফাত হোসেন কুমিল্লার একটি বেসরকারী প্রতিষ্ঠানে অফিস সহকারী হিসেবে কর্মরত আছেন। (ভিডিওতে দেখুন মিয়া খলিফার সাক্ষাৎকার)জানা যায়,\\xa0 পরিচয়টা হয়েছিলো অন্য একটি ওয়েবসাইটে। সেখানে মিয়া খলিফার একটি প্রামাণ্যচিত্র দেখে রিফাত ক্ষিপ্ত হন। এবং মিয়ার আম্মু আব্বুকে নিয়ে অকথ্য ভাষায় গালাগাল করেন। বিষয়টি মিয়া খলিফার নজরে আসলে তিনি রিফাতকে এসএমএস করে ক্ষিপ্ত হওয়ার কারণ জিজ্ঞেস করেন। কথোপকথনের সময় রিফাত মিয়া খলিফার ভূয়সী রুপের প্রশংসা করেন এবং তাকে আলোর পথে ফিরে আসার আহ্বান জানান। রিফাতের এ প্রস্তাবেই বদলে যায় মিয়া খলিফার জীবন। তারপর থেকেই মিয়া চলচ্চিত্রের\\xa0রঙ্গীন পর্দায় অভিনয় বাদ দিয়ে নিজের সাদাকালো জীবনে ফিরে আসেন। গত দুবছরে সবকিছু থেকে দুরে সরে মিয়া খলিফা নিজেকে একটি সংসারী মানসিকতার মধ্যে নিয়ে এসেছেন। আর তাই তো শেষমেষ বাজতে চলেছে মিয়া খলিফার বিয়ের সানাই\\xa0 !সব ঠিকঠাক থাকলে ১৯ সালের জানুয়ারীর প্রথম সপ্তাহেই বাংলাদেশে এসে বিয়ের আনুষ্ঠানিকতা সম্পন্ন করবেন মিয়া পরিবার। মিয়ার বাবা বলেন, “মেয়েকে নিয়ে খুব দুশ্চিন্তায় ছিলাম ভালো পাত্র পাবো কিনা। উপরওয়ালার লাখ লাখ শুকরিয়া আমরা রিফাতের মত একটা ভালো ছেলে পেয়েছি। ওরা সুখী হোক এই দোয়াই করি।”(সুত্রঃ Wedding News Worldwide)'"
            ],
            "application/vnd.google.colaboratory.intrinsic+json": {
              "type": "string"
            }
          },
          "metadata": {},
          "execution_count": 5
        }
      ]
    },
    {
      "cell_type": "markdown",
      "source": [
        "# **Handelling The Unnecessary Columns And Ensure the Label Type As Intiger**"
      ],
      "metadata": {
        "id": "BZk4gt1RHtSU"
      }
    },
    {
      "cell_type": "code",
      "source": [
        "# Ensure labels are int\n",
        "real[\"label\"] = real[\"label\"].astype(int)\n",
        "fake[\"label\"] = fake[\"label\"].astype(int)\n",
        "\n",
        "# Drop extra columns (keep only headline, content, label)\n",
        "real = real[[\"headline\", \"content\", \"label\"]]\n",
        "fake = fake[[\"headline\", \"content\", \"label\"]]\n"
      ],
      "metadata": {
        "id": "safNtVu0Yz3S"
      },
      "execution_count": 6,
      "outputs": []
    },
    {
      "cell_type": "markdown",
      "source": [
        "# **Merge Two datasets**"
      ],
      "metadata": {
        "id": "03Woa_UeJF-3"
      }
    },
    {
      "cell_type": "code",
      "source": [
        "# Merge into one dataframe\n",
        "df = pd.concat([real, fake], axis=0).reset_index(drop=True)\n",
        "\n",
        "# Combine headline + content\n",
        "df[\"text\"] = df[\"headline\"].fillna(\"\") + \" \" + df[\"content\"].fillna(\"\")\n",
        "df = df[[\"text\", \"label\"]]\n",
        "\n",
        "print(df.shape)\n",
        "print(df[\"label\"].value_counts())\n",
        "print(df.sample(5))"
      ],
      "metadata": {
        "colab": {
          "base_uri": "https://localhost:8080/"
        },
        "id": "f-Vqs6Z5IKoe",
        "outputId": "f6b6bdcb-4ec4-466b-bd10-95135034afd8"
      },
      "execution_count": 7,
      "outputs": [
        {
          "output_type": "stream",
          "name": "stdout",
          "text": [
            "(8501, 2)\n",
            "label\n",
            "1    7202\n",
            "0    1299\n",
            "Name: count, dtype: int64\n",
            "                                                   text  label\n",
            "6916  লামায় বজ্রাঘা‌তে শিশু নিহত, আহত ২ বান্দরবানের ...      1\n",
            "562   প্রধানমন্ত্রীর সফরসঙ্গী হলেন আরশেদুল আলম বাচ্চ...      1\n",
            "7868  পাঁচ মিনিটেই ঢাকা দুই ভাগ | দৈনিক মতিকণ্ঠ বিশে...      0\n",
            "8113  একজন অনিকের গোসল সন্ধ্যা এবং কয়েকটি প্রশ্ন! কি...      0\n",
            "5929  কেরানীগঞ্জে দুস্থ নারীদের সেলাই প্রশিক্ষণ ঢাকা...      1\n"
          ]
        }
      ]
    },
    {
      "cell_type": "code",
      "source": [
        "label_Status = df['label'].value_counts()\n",
        "transactions = label_Status.index\n",
        "quantity = label_Status.values\n",
        "\n",
        "figure = px.pie(df,\n",
        "                values=quantity,\n",
        "                names=transactions,\n",
        "                hole=0.5,\n",
        "                title=\"Spam and Ham Status\")\n",
        "figure.show()"
      ],
      "metadata": {
        "colab": {
          "base_uri": "https://localhost:8080/",
          "height": 542
        },
        "id": "Hb6RBY43WhEH",
        "outputId": "4480bd6f-ae77-43bc-8c36-a45b8e471f5b"
      },
      "execution_count": 8,
      "outputs": [
        {
          "output_type": "display_data",
          "data": {
            "text/html": [
              "<html>\n",
              "<head><meta charset=\"utf-8\" /></head>\n",
              "<body>\n",
              "    <div>            <script src=\"https://cdnjs.cloudflare.com/ajax/libs/mathjax/2.7.5/MathJax.js?config=TeX-AMS-MML_SVG\"></script><script type=\"text/javascript\">if (window.MathJax && window.MathJax.Hub && window.MathJax.Hub.Config) {window.MathJax.Hub.Config({SVG: {font: \"STIX-Web\"}});}</script>                <script type=\"text/javascript\">window.PlotlyConfig = {MathJaxConfig: 'local'};</script>\n",
              "        <script charset=\"utf-8\" src=\"https://cdn.plot.ly/plotly-2.35.2.min.js\"></script>                <div id=\"3a5887ce-ed1b-42fa-8f32-2ce416c65d84\" class=\"plotly-graph-div\" style=\"height:525px; width:100%;\"></div>            <script type=\"text/javascript\">                                    window.PLOTLYENV=window.PLOTLYENV || {};                                    if (document.getElementById(\"3a5887ce-ed1b-42fa-8f32-2ce416c65d84\")) {                    Plotly.newPlot(                        \"3a5887ce-ed1b-42fa-8f32-2ce416c65d84\",                        [{\"domain\":{\"x\":[0.0,1.0],\"y\":[0.0,1.0]},\"hole\":0.5,\"hovertemplate\":\"label=%{label}\\u003cbr\\u003evalue=%{value}\\u003cextra\\u003e\\u003c\\u002fextra\\u003e\",\"labels\":[1,0],\"legendgroup\":\"\",\"name\":\"\",\"showlegend\":true,\"values\":[7202,1299],\"type\":\"pie\"}],                        {\"template\":{\"data\":{\"histogram2dcontour\":[{\"type\":\"histogram2dcontour\",\"colorbar\":{\"outlinewidth\":0,\"ticks\":\"\"},\"colorscale\":[[0.0,\"#0d0887\"],[0.1111111111111111,\"#46039f\"],[0.2222222222222222,\"#7201a8\"],[0.3333333333333333,\"#9c179e\"],[0.4444444444444444,\"#bd3786\"],[0.5555555555555556,\"#d8576b\"],[0.6666666666666666,\"#ed7953\"],[0.7777777777777778,\"#fb9f3a\"],[0.8888888888888888,\"#fdca26\"],[1.0,\"#f0f921\"]]}],\"choropleth\":[{\"type\":\"choropleth\",\"colorbar\":{\"outlinewidth\":0,\"ticks\":\"\"}}],\"histogram2d\":[{\"type\":\"histogram2d\",\"colorbar\":{\"outlinewidth\":0,\"ticks\":\"\"},\"colorscale\":[[0.0,\"#0d0887\"],[0.1111111111111111,\"#46039f\"],[0.2222222222222222,\"#7201a8\"],[0.3333333333333333,\"#9c179e\"],[0.4444444444444444,\"#bd3786\"],[0.5555555555555556,\"#d8576b\"],[0.6666666666666666,\"#ed7953\"],[0.7777777777777778,\"#fb9f3a\"],[0.8888888888888888,\"#fdca26\"],[1.0,\"#f0f921\"]]}],\"heatmap\":[{\"type\":\"heatmap\",\"colorbar\":{\"outlinewidth\":0,\"ticks\":\"\"},\"colorscale\":[[0.0,\"#0d0887\"],[0.1111111111111111,\"#46039f\"],[0.2222222222222222,\"#7201a8\"],[0.3333333333333333,\"#9c179e\"],[0.4444444444444444,\"#bd3786\"],[0.5555555555555556,\"#d8576b\"],[0.6666666666666666,\"#ed7953\"],[0.7777777777777778,\"#fb9f3a\"],[0.8888888888888888,\"#fdca26\"],[1.0,\"#f0f921\"]]}],\"heatmapgl\":[{\"type\":\"heatmapgl\",\"colorbar\":{\"outlinewidth\":0,\"ticks\":\"\"},\"colorscale\":[[0.0,\"#0d0887\"],[0.1111111111111111,\"#46039f\"],[0.2222222222222222,\"#7201a8\"],[0.3333333333333333,\"#9c179e\"],[0.4444444444444444,\"#bd3786\"],[0.5555555555555556,\"#d8576b\"],[0.6666666666666666,\"#ed7953\"],[0.7777777777777778,\"#fb9f3a\"],[0.8888888888888888,\"#fdca26\"],[1.0,\"#f0f921\"]]}],\"contourcarpet\":[{\"type\":\"contourcarpet\",\"colorbar\":{\"outlinewidth\":0,\"ticks\":\"\"}}],\"contour\":[{\"type\":\"contour\",\"colorbar\":{\"outlinewidth\":0,\"ticks\":\"\"},\"colorscale\":[[0.0,\"#0d0887\"],[0.1111111111111111,\"#46039f\"],[0.2222222222222222,\"#7201a8\"],[0.3333333333333333,\"#9c179e\"],[0.4444444444444444,\"#bd3786\"],[0.5555555555555556,\"#d8576b\"],[0.6666666666666666,\"#ed7953\"],[0.7777777777777778,\"#fb9f3a\"],[0.8888888888888888,\"#fdca26\"],[1.0,\"#f0f921\"]]}],\"surface\":[{\"type\":\"surface\",\"colorbar\":{\"outlinewidth\":0,\"ticks\":\"\"},\"colorscale\":[[0.0,\"#0d0887\"],[0.1111111111111111,\"#46039f\"],[0.2222222222222222,\"#7201a8\"],[0.3333333333333333,\"#9c179e\"],[0.4444444444444444,\"#bd3786\"],[0.5555555555555556,\"#d8576b\"],[0.6666666666666666,\"#ed7953\"],[0.7777777777777778,\"#fb9f3a\"],[0.8888888888888888,\"#fdca26\"],[1.0,\"#f0f921\"]]}],\"mesh3d\":[{\"type\":\"mesh3d\",\"colorbar\":{\"outlinewidth\":0,\"ticks\":\"\"}}],\"scatter\":[{\"fillpattern\":{\"fillmode\":\"overlay\",\"size\":10,\"solidity\":0.2},\"type\":\"scatter\"}],\"parcoords\":[{\"type\":\"parcoords\",\"line\":{\"colorbar\":{\"outlinewidth\":0,\"ticks\":\"\"}}}],\"scatterpolargl\":[{\"type\":\"scatterpolargl\",\"marker\":{\"colorbar\":{\"outlinewidth\":0,\"ticks\":\"\"}}}],\"bar\":[{\"error_x\":{\"color\":\"#2a3f5f\"},\"error_y\":{\"color\":\"#2a3f5f\"},\"marker\":{\"line\":{\"color\":\"#E5ECF6\",\"width\":0.5},\"pattern\":{\"fillmode\":\"overlay\",\"size\":10,\"solidity\":0.2}},\"type\":\"bar\"}],\"scattergeo\":[{\"type\":\"scattergeo\",\"marker\":{\"colorbar\":{\"outlinewidth\":0,\"ticks\":\"\"}}}],\"scatterpolar\":[{\"type\":\"scatterpolar\",\"marker\":{\"colorbar\":{\"outlinewidth\":0,\"ticks\":\"\"}}}],\"histogram\":[{\"marker\":{\"pattern\":{\"fillmode\":\"overlay\",\"size\":10,\"solidity\":0.2}},\"type\":\"histogram\"}],\"scattergl\":[{\"type\":\"scattergl\",\"marker\":{\"colorbar\":{\"outlinewidth\":0,\"ticks\":\"\"}}}],\"scatter3d\":[{\"type\":\"scatter3d\",\"line\":{\"colorbar\":{\"outlinewidth\":0,\"ticks\":\"\"}},\"marker\":{\"colorbar\":{\"outlinewidth\":0,\"ticks\":\"\"}}}],\"scattermapbox\":[{\"type\":\"scattermapbox\",\"marker\":{\"colorbar\":{\"outlinewidth\":0,\"ticks\":\"\"}}}],\"scatterternary\":[{\"type\":\"scatterternary\",\"marker\":{\"colorbar\":{\"outlinewidth\":0,\"ticks\":\"\"}}}],\"scattercarpet\":[{\"type\":\"scattercarpet\",\"marker\":{\"colorbar\":{\"outlinewidth\":0,\"ticks\":\"\"}}}],\"carpet\":[{\"aaxis\":{\"endlinecolor\":\"#2a3f5f\",\"gridcolor\":\"white\",\"linecolor\":\"white\",\"minorgridcolor\":\"white\",\"startlinecolor\":\"#2a3f5f\"},\"baxis\":{\"endlinecolor\":\"#2a3f5f\",\"gridcolor\":\"white\",\"linecolor\":\"white\",\"minorgridcolor\":\"white\",\"startlinecolor\":\"#2a3f5f\"},\"type\":\"carpet\"}],\"table\":[{\"cells\":{\"fill\":{\"color\":\"#EBF0F8\"},\"line\":{\"color\":\"white\"}},\"header\":{\"fill\":{\"color\":\"#C8D4E3\"},\"line\":{\"color\":\"white\"}},\"type\":\"table\"}],\"barpolar\":[{\"marker\":{\"line\":{\"color\":\"#E5ECF6\",\"width\":0.5},\"pattern\":{\"fillmode\":\"overlay\",\"size\":10,\"solidity\":0.2}},\"type\":\"barpolar\"}],\"pie\":[{\"automargin\":true,\"type\":\"pie\"}]},\"layout\":{\"autotypenumbers\":\"strict\",\"colorway\":[\"#636efa\",\"#EF553B\",\"#00cc96\",\"#ab63fa\",\"#FFA15A\",\"#19d3f3\",\"#FF6692\",\"#B6E880\",\"#FF97FF\",\"#FECB52\"],\"font\":{\"color\":\"#2a3f5f\"},\"hovermode\":\"closest\",\"hoverlabel\":{\"align\":\"left\"},\"paper_bgcolor\":\"white\",\"plot_bgcolor\":\"#E5ECF6\",\"polar\":{\"bgcolor\":\"#E5ECF6\",\"angularaxis\":{\"gridcolor\":\"white\",\"linecolor\":\"white\",\"ticks\":\"\"},\"radialaxis\":{\"gridcolor\":\"white\",\"linecolor\":\"white\",\"ticks\":\"\"}},\"ternary\":{\"bgcolor\":\"#E5ECF6\",\"aaxis\":{\"gridcolor\":\"white\",\"linecolor\":\"white\",\"ticks\":\"\"},\"baxis\":{\"gridcolor\":\"white\",\"linecolor\":\"white\",\"ticks\":\"\"},\"caxis\":{\"gridcolor\":\"white\",\"linecolor\":\"white\",\"ticks\":\"\"}},\"coloraxis\":{\"colorbar\":{\"outlinewidth\":0,\"ticks\":\"\"}},\"colorscale\":{\"sequential\":[[0.0,\"#0d0887\"],[0.1111111111111111,\"#46039f\"],[0.2222222222222222,\"#7201a8\"],[0.3333333333333333,\"#9c179e\"],[0.4444444444444444,\"#bd3786\"],[0.5555555555555556,\"#d8576b\"],[0.6666666666666666,\"#ed7953\"],[0.7777777777777778,\"#fb9f3a\"],[0.8888888888888888,\"#fdca26\"],[1.0,\"#f0f921\"]],\"sequentialminus\":[[0.0,\"#0d0887\"],[0.1111111111111111,\"#46039f\"],[0.2222222222222222,\"#7201a8\"],[0.3333333333333333,\"#9c179e\"],[0.4444444444444444,\"#bd3786\"],[0.5555555555555556,\"#d8576b\"],[0.6666666666666666,\"#ed7953\"],[0.7777777777777778,\"#fb9f3a\"],[0.8888888888888888,\"#fdca26\"],[1.0,\"#f0f921\"]],\"diverging\":[[0,\"#8e0152\"],[0.1,\"#c51b7d\"],[0.2,\"#de77ae\"],[0.3,\"#f1b6da\"],[0.4,\"#fde0ef\"],[0.5,\"#f7f7f7\"],[0.6,\"#e6f5d0\"],[0.7,\"#b8e186\"],[0.8,\"#7fbc41\"],[0.9,\"#4d9221\"],[1,\"#276419\"]]},\"xaxis\":{\"gridcolor\":\"white\",\"linecolor\":\"white\",\"ticks\":\"\",\"title\":{\"standoff\":15},\"zerolinecolor\":\"white\",\"automargin\":true,\"zerolinewidth\":2},\"yaxis\":{\"gridcolor\":\"white\",\"linecolor\":\"white\",\"ticks\":\"\",\"title\":{\"standoff\":15},\"zerolinecolor\":\"white\",\"automargin\":true,\"zerolinewidth\":2},\"scene\":{\"xaxis\":{\"backgroundcolor\":\"#E5ECF6\",\"gridcolor\":\"white\",\"linecolor\":\"white\",\"showbackground\":true,\"ticks\":\"\",\"zerolinecolor\":\"white\",\"gridwidth\":2},\"yaxis\":{\"backgroundcolor\":\"#E5ECF6\",\"gridcolor\":\"white\",\"linecolor\":\"white\",\"showbackground\":true,\"ticks\":\"\",\"zerolinecolor\":\"white\",\"gridwidth\":2},\"zaxis\":{\"backgroundcolor\":\"#E5ECF6\",\"gridcolor\":\"white\",\"linecolor\":\"white\",\"showbackground\":true,\"ticks\":\"\",\"zerolinecolor\":\"white\",\"gridwidth\":2}},\"shapedefaults\":{\"line\":{\"color\":\"#2a3f5f\"}},\"annotationdefaults\":{\"arrowcolor\":\"#2a3f5f\",\"arrowhead\":0,\"arrowwidth\":1},\"geo\":{\"bgcolor\":\"white\",\"landcolor\":\"#E5ECF6\",\"subunitcolor\":\"white\",\"showland\":true,\"showlakes\":true,\"lakecolor\":\"white\"},\"title\":{\"x\":0.05},\"mapbox\":{\"style\":\"light\"}}},\"legend\":{\"tracegroupgap\":0},\"title\":{\"text\":\"Spam and Ham Status\"}},                        {\"responsive\": true}                    ).then(function(){\n",
              "                            \n",
              "var gd = document.getElementById('3a5887ce-ed1b-42fa-8f32-2ce416c65d84');\n",
              "var x = new MutationObserver(function (mutations, observer) {{\n",
              "        var display = window.getComputedStyle(gd).display;\n",
              "        if (!display || display === 'none') {{\n",
              "            console.log([gd, 'removed!']);\n",
              "            Plotly.purge(gd);\n",
              "            observer.disconnect();\n",
              "        }}\n",
              "}});\n",
              "\n",
              "// Listen for the removal of the full notebook cells\n",
              "var notebookContainer = gd.closest('#notebook-container');\n",
              "if (notebookContainer) {{\n",
              "    x.observe(notebookContainer, {childList: true});\n",
              "}}\n",
              "\n",
              "// Listen for the clearing of the current output cell\n",
              "var outputEl = gd.closest('.output');\n",
              "if (outputEl) {{\n",
              "    x.observe(outputEl, {childList: true});\n",
              "}}\n",
              "\n",
              "                        })                };                            </script>        </div>\n",
              "</body>\n",
              "</html>"
            ]
          },
          "metadata": {}
        }
      ]
    },
    {
      "cell_type": "markdown",
      "source": [
        "# **Oversample Fake News**"
      ],
      "metadata": {
        "id": "owjqiYEvQCXx"
      }
    },
    {
      "cell_type": "code",
      "source": [
        "from sklearn.utils import resample\n",
        "\n",
        "# Separate majority and minority classes\n",
        "df_majority = df[df.label == 1]\n",
        "df_minority = df[df.label == 0]\n",
        "\n",
        "# Upsample minority class\n",
        "df_minority_upsampled = resample(df_minority,\n",
        "                                 replace=True,     # sample with replacement\n",
        "                                 n_samples=len(df_majority),    # to match majority class\n",
        "                                 random_state=42) # reproducible results\n",
        "\n",
        "# Combine majority class with upsampled minority class\n",
        "df_upsampled = pd.concat([df_majority, df_minority_upsampled])\n",
        "\n",
        "# Display new class counts\n",
        "print(df_upsampled.label.value_counts())\n",
        "\n",
        "# Display random sample\n",
        "print(df_upsampled.sample(5))\n",
        "\n",
        "# Display total column & column name\n",
        "print(\"\\nShape of the dataset after oversampling:\\n\", df_upsampled.shape)\n",
        "print(\"\\nColumns of the dataset after oversampling:\\n\", df_upsampled.columns)"
      ],
      "metadata": {
        "colab": {
          "base_uri": "https://localhost:8080/"
        },
        "id": "w30zSPKtQM9Y",
        "outputId": "4ab76bdb-a493-4a28-d6bb-feaf9bb46c9a"
      },
      "execution_count": 9,
      "outputs": [
        {
          "output_type": "stream",
          "name": "stdout",
          "text": [
            "label\n",
            "1    7202\n",
            "0    7202\n",
            "Name: count, dtype: int64\n",
            "                                                   text  label\n",
            "6262  ট্রাক্টর পুকুরে পড়ে হেলপারের মৃত্যু কুমিল্লার ...      1\n",
            "5247  যুদ্ধে ক্ষতিগ্রস্ত নারীরা কাজ করছেন কারখানায় য...      1\n",
            "1137  গজারিয়ায় ঢাকা-চট্টগ্রাম মহাসড়ক অবরোধ মহাসড়কে ছ...      1\n",
            "3711  বৃহস্পতিবার বৃষ্টি হতে পারে বঙ্গোপসাগরে সৃষ্ট ...      1\n",
            "1156  রংপুর সফর শেষে ঢাকায় ফিরেছেন এরশাদ রংপুরে তিনদ...      1\n",
            "\n",
            "Shape of the dataset after oversampling:\n",
            " (14404, 2)\n",
            "\n",
            "Columns of the dataset after oversampling:\n",
            " Index(['text', 'label'], dtype='object')\n"
          ]
        }
      ]
    },
    {
      "cell_type": "markdown",
      "source": [
        "# **Visualization**"
      ],
      "metadata": {
        "id": "XaSuCpltVFgl"
      }
    },
    {
      "cell_type": "code",
      "source": [
        "label_Status = df_upsampled['label'].value_counts()\n",
        "transactions = label_Status.index\n",
        "quantity = label_Status.values\n",
        "\n",
        "figure = px.pie(df_upsampled,\n",
        "                values=quantity,\n",
        "                names=transactions,\n",
        "                hole=0.5,\n",
        "                title=\"Spam and Ham Status\")\n",
        "figure.show()\n"
      ],
      "metadata": {
        "colab": {
          "base_uri": "https://localhost:8080/",
          "height": 542
        },
        "id": "0wslRIhGVNC_",
        "outputId": "0cde460a-08d2-4c9e-ed16-ad75cd39ce7f"
      },
      "execution_count": 10,
      "outputs": [
        {
          "output_type": "display_data",
          "data": {
            "text/html": [
              "<html>\n",
              "<head><meta charset=\"utf-8\" /></head>\n",
              "<body>\n",
              "    <div>            <script src=\"https://cdnjs.cloudflare.com/ajax/libs/mathjax/2.7.5/MathJax.js?config=TeX-AMS-MML_SVG\"></script><script type=\"text/javascript\">if (window.MathJax && window.MathJax.Hub && window.MathJax.Hub.Config) {window.MathJax.Hub.Config({SVG: {font: \"STIX-Web\"}});}</script>                <script type=\"text/javascript\">window.PlotlyConfig = {MathJaxConfig: 'local'};</script>\n",
              "        <script charset=\"utf-8\" src=\"https://cdn.plot.ly/plotly-2.35.2.min.js\"></script>                <div id=\"13e59191-158a-4216-8eeb-04bfb8bd9f95\" class=\"plotly-graph-div\" style=\"height:525px; width:100%;\"></div>            <script type=\"text/javascript\">                                    window.PLOTLYENV=window.PLOTLYENV || {};                                    if (document.getElementById(\"13e59191-158a-4216-8eeb-04bfb8bd9f95\")) {                    Plotly.newPlot(                        \"13e59191-158a-4216-8eeb-04bfb8bd9f95\",                        [{\"domain\":{\"x\":[0.0,1.0],\"y\":[0.0,1.0]},\"hole\":0.5,\"hovertemplate\":\"label=%{label}\\u003cbr\\u003evalue=%{value}\\u003cextra\\u003e\\u003c\\u002fextra\\u003e\",\"labels\":[1,0],\"legendgroup\":\"\",\"name\":\"\",\"showlegend\":true,\"values\":[7202,7202],\"type\":\"pie\"}],                        {\"template\":{\"data\":{\"histogram2dcontour\":[{\"type\":\"histogram2dcontour\",\"colorbar\":{\"outlinewidth\":0,\"ticks\":\"\"},\"colorscale\":[[0.0,\"#0d0887\"],[0.1111111111111111,\"#46039f\"],[0.2222222222222222,\"#7201a8\"],[0.3333333333333333,\"#9c179e\"],[0.4444444444444444,\"#bd3786\"],[0.5555555555555556,\"#d8576b\"],[0.6666666666666666,\"#ed7953\"],[0.7777777777777778,\"#fb9f3a\"],[0.8888888888888888,\"#fdca26\"],[1.0,\"#f0f921\"]]}],\"choropleth\":[{\"type\":\"choropleth\",\"colorbar\":{\"outlinewidth\":0,\"ticks\":\"\"}}],\"histogram2d\":[{\"type\":\"histogram2d\",\"colorbar\":{\"outlinewidth\":0,\"ticks\":\"\"},\"colorscale\":[[0.0,\"#0d0887\"],[0.1111111111111111,\"#46039f\"],[0.2222222222222222,\"#7201a8\"],[0.3333333333333333,\"#9c179e\"],[0.4444444444444444,\"#bd3786\"],[0.5555555555555556,\"#d8576b\"],[0.6666666666666666,\"#ed7953\"],[0.7777777777777778,\"#fb9f3a\"],[0.8888888888888888,\"#fdca26\"],[1.0,\"#f0f921\"]]}],\"heatmap\":[{\"type\":\"heatmap\",\"colorbar\":{\"outlinewidth\":0,\"ticks\":\"\"},\"colorscale\":[[0.0,\"#0d0887\"],[0.1111111111111111,\"#46039f\"],[0.2222222222222222,\"#7201a8\"],[0.3333333333333333,\"#9c179e\"],[0.4444444444444444,\"#bd3786\"],[0.5555555555555556,\"#d8576b\"],[0.6666666666666666,\"#ed7953\"],[0.7777777777777778,\"#fb9f3a\"],[0.8888888888888888,\"#fdca26\"],[1.0,\"#f0f921\"]]}],\"heatmapgl\":[{\"type\":\"heatmapgl\",\"colorbar\":{\"outlinewidth\":0,\"ticks\":\"\"},\"colorscale\":[[0.0,\"#0d0887\"],[0.1111111111111111,\"#46039f\"],[0.2222222222222222,\"#7201a8\"],[0.3333333333333333,\"#9c179e\"],[0.4444444444444444,\"#bd3786\"],[0.5555555555555556,\"#d8576b\"],[0.6666666666666666,\"#ed7953\"],[0.7777777777777778,\"#fb9f3a\"],[0.8888888888888888,\"#fdca26\"],[1.0,\"#f0f921\"]]}],\"contourcarpet\":[{\"type\":\"contourcarpet\",\"colorbar\":{\"outlinewidth\":0,\"ticks\":\"\"}}],\"contour\":[{\"type\":\"contour\",\"colorbar\":{\"outlinewidth\":0,\"ticks\":\"\"},\"colorscale\":[[0.0,\"#0d0887\"],[0.1111111111111111,\"#46039f\"],[0.2222222222222222,\"#7201a8\"],[0.3333333333333333,\"#9c179e\"],[0.4444444444444444,\"#bd3786\"],[0.5555555555555556,\"#d8576b\"],[0.6666666666666666,\"#ed7953\"],[0.7777777777777778,\"#fb9f3a\"],[0.8888888888888888,\"#fdca26\"],[1.0,\"#f0f921\"]]}],\"surface\":[{\"type\":\"surface\",\"colorbar\":{\"outlinewidth\":0,\"ticks\":\"\"},\"colorscale\":[[0.0,\"#0d0887\"],[0.1111111111111111,\"#46039f\"],[0.2222222222222222,\"#7201a8\"],[0.3333333333333333,\"#9c179e\"],[0.4444444444444444,\"#bd3786\"],[0.5555555555555556,\"#d8576b\"],[0.6666666666666666,\"#ed7953\"],[0.7777777777777778,\"#fb9f3a\"],[0.8888888888888888,\"#fdca26\"],[1.0,\"#f0f921\"]]}],\"mesh3d\":[{\"type\":\"mesh3d\",\"colorbar\":{\"outlinewidth\":0,\"ticks\":\"\"}}],\"scatter\":[{\"fillpattern\":{\"fillmode\":\"overlay\",\"size\":10,\"solidity\":0.2},\"type\":\"scatter\"}],\"parcoords\":[{\"type\":\"parcoords\",\"line\":{\"colorbar\":{\"outlinewidth\":0,\"ticks\":\"\"}}}],\"scatterpolargl\":[{\"type\":\"scatterpolargl\",\"marker\":{\"colorbar\":{\"outlinewidth\":0,\"ticks\":\"\"}}}],\"bar\":[{\"error_x\":{\"color\":\"#2a3f5f\"},\"error_y\":{\"color\":\"#2a3f5f\"},\"marker\":{\"line\":{\"color\":\"#E5ECF6\",\"width\":0.5},\"pattern\":{\"fillmode\":\"overlay\",\"size\":10,\"solidity\":0.2}},\"type\":\"bar\"}],\"scattergeo\":[{\"type\":\"scattergeo\",\"marker\":{\"colorbar\":{\"outlinewidth\":0,\"ticks\":\"\"}}}],\"scatterpolar\":[{\"type\":\"scatterpolar\",\"marker\":{\"colorbar\":{\"outlinewidth\":0,\"ticks\":\"\"}}}],\"histogram\":[{\"marker\":{\"pattern\":{\"fillmode\":\"overlay\",\"size\":10,\"solidity\":0.2}},\"type\":\"histogram\"}],\"scattergl\":[{\"type\":\"scattergl\",\"marker\":{\"colorbar\":{\"outlinewidth\":0,\"ticks\":\"\"}}}],\"scatter3d\":[{\"type\":\"scatter3d\",\"line\":{\"colorbar\":{\"outlinewidth\":0,\"ticks\":\"\"}},\"marker\":{\"colorbar\":{\"outlinewidth\":0,\"ticks\":\"\"}}}],\"scattermapbox\":[{\"type\":\"scattermapbox\",\"marker\":{\"colorbar\":{\"outlinewidth\":0,\"ticks\":\"\"}}}],\"scatterternary\":[{\"type\":\"scatterternary\",\"marker\":{\"colorbar\":{\"outlinewidth\":0,\"ticks\":\"\"}}}],\"scattercarpet\":[{\"type\":\"scattercarpet\",\"marker\":{\"colorbar\":{\"outlinewidth\":0,\"ticks\":\"\"}}}],\"carpet\":[{\"aaxis\":{\"endlinecolor\":\"#2a3f5f\",\"gridcolor\":\"white\",\"linecolor\":\"white\",\"minorgridcolor\":\"white\",\"startlinecolor\":\"#2a3f5f\"},\"baxis\":{\"endlinecolor\":\"#2a3f5f\",\"gridcolor\":\"white\",\"linecolor\":\"white\",\"minorgridcolor\":\"white\",\"startlinecolor\":\"#2a3f5f\"},\"type\":\"carpet\"}],\"table\":[{\"cells\":{\"fill\":{\"color\":\"#EBF0F8\"},\"line\":{\"color\":\"white\"}},\"header\":{\"fill\":{\"color\":\"#C8D4E3\"},\"line\":{\"color\":\"white\"}},\"type\":\"table\"}],\"barpolar\":[{\"marker\":{\"line\":{\"color\":\"#E5ECF6\",\"width\":0.5},\"pattern\":{\"fillmode\":\"overlay\",\"size\":10,\"solidity\":0.2}},\"type\":\"barpolar\"}],\"pie\":[{\"automargin\":true,\"type\":\"pie\"}]},\"layout\":{\"autotypenumbers\":\"strict\",\"colorway\":[\"#636efa\",\"#EF553B\",\"#00cc96\",\"#ab63fa\",\"#FFA15A\",\"#19d3f3\",\"#FF6692\",\"#B6E880\",\"#FF97FF\",\"#FECB52\"],\"font\":{\"color\":\"#2a3f5f\"},\"hovermode\":\"closest\",\"hoverlabel\":{\"align\":\"left\"},\"paper_bgcolor\":\"white\",\"plot_bgcolor\":\"#E5ECF6\",\"polar\":{\"bgcolor\":\"#E5ECF6\",\"angularaxis\":{\"gridcolor\":\"white\",\"linecolor\":\"white\",\"ticks\":\"\"},\"radialaxis\":{\"gridcolor\":\"white\",\"linecolor\":\"white\",\"ticks\":\"\"}},\"ternary\":{\"bgcolor\":\"#E5ECF6\",\"aaxis\":{\"gridcolor\":\"white\",\"linecolor\":\"white\",\"ticks\":\"\"},\"baxis\":{\"gridcolor\":\"white\",\"linecolor\":\"white\",\"ticks\":\"\"},\"caxis\":{\"gridcolor\":\"white\",\"linecolor\":\"white\",\"ticks\":\"\"}},\"coloraxis\":{\"colorbar\":{\"outlinewidth\":0,\"ticks\":\"\"}},\"colorscale\":{\"sequential\":[[0.0,\"#0d0887\"],[0.1111111111111111,\"#46039f\"],[0.2222222222222222,\"#7201a8\"],[0.3333333333333333,\"#9c179e\"],[0.4444444444444444,\"#bd3786\"],[0.5555555555555556,\"#d8576b\"],[0.6666666666666666,\"#ed7953\"],[0.7777777777777778,\"#fb9f3a\"],[0.8888888888888888,\"#fdca26\"],[1.0,\"#f0f921\"]],\"sequentialminus\":[[0.0,\"#0d0887\"],[0.1111111111111111,\"#46039f\"],[0.2222222222222222,\"#7201a8\"],[0.3333333333333333,\"#9c179e\"],[0.4444444444444444,\"#bd3786\"],[0.5555555555555556,\"#d8576b\"],[0.6666666666666666,\"#ed7953\"],[0.7777777777777778,\"#fb9f3a\"],[0.8888888888888888,\"#fdca26\"],[1.0,\"#f0f921\"]],\"diverging\":[[0,\"#8e0152\"],[0.1,\"#c51b7d\"],[0.2,\"#de77ae\"],[0.3,\"#f1b6da\"],[0.4,\"#fde0ef\"],[0.5,\"#f7f7f7\"],[0.6,\"#e6f5d0\"],[0.7,\"#b8e186\"],[0.8,\"#7fbc41\"],[0.9,\"#4d9221\"],[1,\"#276419\"]]},\"xaxis\":{\"gridcolor\":\"white\",\"linecolor\":\"white\",\"ticks\":\"\",\"title\":{\"standoff\":15},\"zerolinecolor\":\"white\",\"automargin\":true,\"zerolinewidth\":2},\"yaxis\":{\"gridcolor\":\"white\",\"linecolor\":\"white\",\"ticks\":\"\",\"title\":{\"standoff\":15},\"zerolinecolor\":\"white\",\"automargin\":true,\"zerolinewidth\":2},\"scene\":{\"xaxis\":{\"backgroundcolor\":\"#E5ECF6\",\"gridcolor\":\"white\",\"linecolor\":\"white\",\"showbackground\":true,\"ticks\":\"\",\"zerolinecolor\":\"white\",\"gridwidth\":2},\"yaxis\":{\"backgroundcolor\":\"#E5ECF6\",\"gridcolor\":\"white\",\"linecolor\":\"white\",\"showbackground\":true,\"ticks\":\"\",\"zerolinecolor\":\"white\",\"gridwidth\":2},\"zaxis\":{\"backgroundcolor\":\"#E5ECF6\",\"gridcolor\":\"white\",\"linecolor\":\"white\",\"showbackground\":true,\"ticks\":\"\",\"zerolinecolor\":\"white\",\"gridwidth\":2}},\"shapedefaults\":{\"line\":{\"color\":\"#2a3f5f\"}},\"annotationdefaults\":{\"arrowcolor\":\"#2a3f5f\",\"arrowhead\":0,\"arrowwidth\":1},\"geo\":{\"bgcolor\":\"white\",\"landcolor\":\"#E5ECF6\",\"subunitcolor\":\"white\",\"showland\":true,\"showlakes\":true,\"lakecolor\":\"white\"},\"title\":{\"x\":0.05},\"mapbox\":{\"style\":\"light\"}}},\"legend\":{\"tracegroupgap\":0},\"title\":{\"text\":\"Spam and Ham Status\"}},                        {\"responsive\": true}                    ).then(function(){\n",
              "                            \n",
              "var gd = document.getElementById('13e59191-158a-4216-8eeb-04bfb8bd9f95');\n",
              "var x = new MutationObserver(function (mutations, observer) {{\n",
              "        var display = window.getComputedStyle(gd).display;\n",
              "        if (!display || display === 'none') {{\n",
              "            console.log([gd, 'removed!']);\n",
              "            Plotly.purge(gd);\n",
              "            observer.disconnect();\n",
              "        }}\n",
              "}});\n",
              "\n",
              "// Listen for the removal of the full notebook cells\n",
              "var notebookContainer = gd.closest('#notebook-container');\n",
              "if (notebookContainer) {{\n",
              "    x.observe(notebookContainer, {childList: true});\n",
              "}}\n",
              "\n",
              "// Listen for the clearing of the current output cell\n",
              "var outputEl = gd.closest('.output');\n",
              "if (outputEl) {{\n",
              "    x.observe(outputEl, {childList: true});\n",
              "}}\n",
              "\n",
              "                        })                };                            </script>        </div>\n",
              "</body>\n",
              "</html>"
            ]
          },
          "metadata": {}
        }
      ]
    },
    {
      "cell_type": "markdown",
      "source": [
        "# **Create Word Clouds**"
      ],
      "metadata": {
        "id": "uLpUrSbhERXW"
      }
    },
    {
      "cell_type": "code",
      "source": [
        "def plot_wordcloud(text, title):\n",
        "  wordcloud = WordCloud(width=800, height=400, background_color='white').generate(text)\n",
        "  plt.figure(figsize=(10, 5))\n",
        "  plt.imshow(wordcloud, interpolation='bilinear')\n",
        "  plt.axis('off')\n",
        "  plt.title(title)\n",
        "\n",
        "fake_text = ' '.join(df_upsampled[df_upsampled.label == 0].text)\n",
        "real_text = ' '.join(df_upsampled[df_upsampled.label == 1].text)\n",
        "\n",
        "plot_wordcloud(fake_text, 'Fake News')\n",
        "plt.show()\n",
        "\n",
        "print()\n",
        "print()\n",
        "print()\n",
        "\n",
        "\n",
        "plot_wordcloud(real_text, 'Real News')\n",
        "plt.show()"
      ],
      "metadata": {
        "colab": {
          "base_uri": "https://localhost:8080/",
          "height": 923
        },
        "id": "b5HNnO9OEZQR",
        "outputId": "42f0df48-3495-418d-d665-2a520d85b4fa"
      },
      "execution_count": 11,
      "outputs": [
        {
          "output_type": "display_data",
          "data": {
            "text/plain": [
              "<Figure size 1000x500 with 1 Axes>"
            ],
            "image/png": "[encoded data removed]"
          },
          "metadata": {}
        },
        {
          "output_type": "stream",
          "name": "stdout",
          "text": [
            "\n",
            "\n",
            "\n"
          ]
        },
        {
          "output_type": "display_data",
          "data": {
            "text/plain": [
              "<Figure size 1000x500 with 1 Axes>"
            ],
            "image/png": "[encoded data removed]"
          },
          "metadata": {}
        }
      ]
    },
    {
      "cell_type": "markdown",
      "source": [
        "# **Fix for Bangla WordCloud**"
      ],
      "metadata": {
        "id": "780NVhVMJWEI"
      }
    },
    {
      "cell_type": "code",
      "source": [],
      "metadata": {
        "id": "91fEm2fjQUyX"
      },
      "execution_count": 11,
      "outputs": []
    },
    {
      "cell_type": "markdown",
      "source": [
        "# **Text Processing**"
      ],
      "metadata": {
        "id": "Dp6DOF34SFS3"
      }
    },
    {
      "cell_type": "code",
      "source": [
        "text_colum = 'text'\n",
        "label_column = 'label'"
      ],
      "metadata": {
        "id": "cnC8rQ24SKzH"
      },
      "execution_count": 12,
      "outputs": []
    },
    {
      "cell_type": "code",
      "source": [
        "stopword = set([\n",
        "    \"এবং\", \"কিন্তু\", \"অথবা\", \"যদি\", \"তবে\", \"তাহলে\", \"কেন\", \"কি\", \"কোন\",\n",
        "    \"যা\", \"যে\", \"যখন\", \"যখনই\", \"আমার\", \"আমরা\", \"আপনি\", \"তুমি\", \"তারা\",\n",
        "    \"হয়\", \"ছিল\", \"থাকবে\", \"হতে\", \"করে\", \"করছে\", \"করেছে\", \"নয়\", \"না\"\n",
        "])\n",
        "# stopword = set(stopwords.words('bengali'))"
      ],
      "metadata": {
        "id": "8HyrGjDkSxL3"
      },
      "execution_count": 14,
      "outputs": []
    },
    {
      "cell_type": "code",
      "source": [
        "string.punctuation"
      ],
      "metadata": {
        "colab": {
          "base_uri": "https://localhost:8080/",
          "height": 36
        },
        "id": "UZpNEYHfUtu4",
        "outputId": "c868f4a3-7814-4716-e4cc-be769b6ad017"
      },
      "execution_count": 15,
      "outputs": [
        {
          "output_type": "execute_result",
          "data": {
            "text/plain": [
              "'!\"#$%&\\'()*+,-./:;<=>?@[\\\\]^_`{|}~'"
            ],
            "application/vnd.google.colaboratory.intrinsic+json": {
              "type": "string"
            }
          },
          "metadata": {},
          "execution_count": 15
        }
      ]
    },
    {
      "cell_type": "code",
      "source": [
        "def preprocess_text(text):\n",
        "  # Remove punctuation\n",
        "  punctuations = string.punctuation + '।' + '‘' + '’' + '“' + '”'\n",
        "  text_no_punctuation = text.translate(str.maketrans('', '', punctuations))\n",
        "\n",
        "  # Remove stopwords\n",
        "  text_no_stopwords = ' '.join([word for word in text_no_punctuation.split() if word not in stopword])\n",
        "\n",
        "  return text_no_stopwords"
      ],
      "metadata": {
        "id": "wJ3XIpoAWhtf"
      },
      "execution_count": 16,
      "outputs": []
    },
    {
      "cell_type": "code",
      "source": [
        "display(df_upsampled.head(10))"
      ],
      "metadata": {
        "colab": {
          "base_uri": "https://localhost:8080/",
          "height": 363
        },
        "id": "Hxqqh9R2X8Tc",
        "outputId": "20803821-2606-441d-d5e3-14c14a2e56a0"
      },
      "execution_count": 17,
      "outputs": [
        {
          "output_type": "display_data",
          "data": {
            "text/plain": [
              "                                                text  label\n",
              "0  হঠাৎ আফগান ক্রিকেট বোর্ড প্রধানের পদত্যাগ ক্রি...      1\n",
              "1  টস হেরে বোলিংয়ে বাংলাদেশ এশিয়া কাপের ষষ্ঠ ম্যা...      1\n",
              "2  রাজধানীতে বিশেষ অভিযানে আটক ৪৩ রাজধানীতে মাদক ...      1\n",
              "3  উস্কানি রোধে নজরদারি থাকবে সামাজিক যোগাযোগ মাধ...      1\n",
              "4  'যেখানে তেল আসত ৭ দিনে, এখন তা আসবে অতি দ্রুত'...      1\n",
              "5  আইনগত ভিত্তি পেলেই ইভিএম ব্যবহার: সিইসি ﻿আইনগত...      1\n",
              "6  রিয়ালের চ্যাম্পিয়নের মতোই শুরু চ্যাম্পিয়ন্স লি...      1\n",
              "7  ডিজিটাল পাঠ্যবই শিক্ষার্থী ও শিক্ষক উভয়ের জন্য...      1\n",
              "8  আমার পক্ষে বিপক্ষে মিডিয়ায় কে কি লিখলো, না লিখ...      1\n",
              "9  টিম ম্যানেজমেন্টকে বেকায়দায় ফেলে দিলেন লিটন-শা...      1"
            ],
            "text/html": [
              "\n",
              "  <div id=\"df-d3b483d8-718c-492d-a86d-ac1cc1b021ce\" class=\"colab-df-container\">\n",
              "    <div>\n",
              "<style scoped>\n",
              "    .dataframe tbody tr th:only-of-type {\n",
              "        vertical-align: middle;\n",
              "    }\n",
              "\n",
              "    .dataframe tbody tr th {\n",
              "        vertical-align: top;\n",
              "    }\n",
              "\n",
              "    .dataframe thead th {\n",
              "        text-align: right;\n",
              "    }\n",
              "</style>\n",
              "<table border=\"1\" class=\"dataframe\">\n",
              "  <thead>\n",
              "    <tr style=\"text-align: right;\">\n",
              "      <th></th>\n",
              "      <th>text</th>\n",
              "      <th>label</th>\n",
              "    </tr>\n",
              "  </thead>\n",
              "  <tbody>\n",
              "    <tr>\n",
              "      <th>0</th>\n",
              "      <td>হঠাৎ আফগান ক্রিকেট বোর্ড প্রধানের পদত্যাগ ক্রি...</td>\n",
              "      <td>1</td>\n",
              "    </tr>\n",
              "    <tr>\n",
              "      <th>1</th>\n",
              "      <td>টস হেরে বোলিংয়ে বাংলাদেশ এশিয়া কাপের ষষ্ঠ ম্যা...</td>\n",
              "      <td>1</td>\n",
              "    </tr>\n",
              "    <tr>\n",
              "      <th>2</th>\n",
              "      <td>রাজধানীতে বিশেষ অভিযানে আটক ৪৩ রাজধানীতে মাদক ...</td>\n",
              "      <td>1</td>\n",
              "    </tr>\n",
              "    <tr>\n",
              "      <th>3</th>\n",
              "      <td>উস্কানি রোধে নজরদারি থাকবে সামাজিক যোগাযোগ মাধ...</td>\n",
              "      <td>1</td>\n",
              "    </tr>\n",
              "    <tr>\n",
              "      <th>4</th>\n",
              "      <td>'যেখানে তেল আসত ৭ দিনে, এখন তা আসবে অতি দ্রুত'...</td>\n",
              "      <td>1</td>\n",
              "    </tr>\n",
              "    <tr>\n",
              "      <th>5</th>\n",
              "      <td>আইনগত ভিত্তি পেলেই ইভিএম ব্যবহার: সিইসি ﻿আইনগত...</td>\n",
              "      <td>1</td>\n",
              "    </tr>\n",
              "    <tr>\n",
              "      <th>6</th>\n",
              "      <td>রিয়ালের চ্যাম্পিয়নের মতোই শুরু চ্যাম্পিয়ন্স লি...</td>\n",
              "      <td>1</td>\n",
              "    </tr>\n",
              "    <tr>\n",
              "      <th>7</th>\n",
              "      <td>ডিজিটাল পাঠ্যবই শিক্ষার্থী ও শিক্ষক উভয়ের জন্য...</td>\n",
              "      <td>1</td>\n",
              "    </tr>\n",
              "    <tr>\n",
              "      <th>8</th>\n",
              "      <td>আমার পক্ষে বিপক্ষে মিডিয়ায় কে কি লিখলো, না লিখ...</td>\n",
              "      <td>1</td>\n",
              "    </tr>\n",
              "    <tr>\n",
              "      <th>9</th>\n",
              "      <td>টিম ম্যানেজমেন্টকে বেকায়দায় ফেলে দিলেন লিটন-শা...</td>\n",
              "      <td>1</td>\n",
              "    </tr>\n",
              "  </tbody>\n",
              "</table>\n",
              "</div>\n",
              "    <div class=\"colab-df-buttons\">\n",
              "\n",
              "  <div class=\"colab-df-container\">\n",
              "    <button class=\"colab-df-convert\" onclick=\"convertToInteractive('df-d3b483d8-718c-492d-a86d-ac1cc1b021ce')\"\n",
              "            title=\"Convert this dataframe to an interactive table.\"\n",
              "            style=\"display:none;\">\n",
              "\n",
              "  <svg xmlns=\"http://www.w3.org/2000/svg\" height=\"24px\" viewBox=\"0 -960 960 960\">\n",
              "    <path d=\"M120-120v-720h720v720H120Zm60-500h600v-160H180v160Zm220 220h160v-160H400v160Zm0 220h160v-160H400v160ZM180-400h160v-160H180v160Zm440 0h160v-160H620v160ZM180-180h160v-160H180v160Zm440 0h160v-160H620v160Z\"/>\n",
              "  </svg>\n",
              "    </button>\n",
              "\n",
              "  <style>\n",
              "    .colab-df-container {\n",
              "      display:flex;\n",
              "      gap: 12px;\n",
              "    }\n",
              "\n",
              "    .colab-df-convert {\n",
              "      background-color: #E8F0FE;\n",
              "      border: none;\n",
              "      border-radius: 50%;\n",
              "      cursor: pointer;\n",
              "      display: none;\n",
              "      fill: #1967D2;\n",
              "      height: 32px;\n",
              "      padding: 0 0 0 0;\n",
              "      width: 32px;\n",
              "    }\n",
              "\n",
              "    .colab-df-convert:hover {\n",
              "      background-color: #E2EBFA;\n",
              "      box-shadow: 0px 1px 2px rgba(60, 64, 67, 0.3), 0px 1px 3px 1px rgba(60, 64, 67, 0.15);\n",
              "      fill: #174EA6;\n",
              "    }\n",
              "\n",
              "    .colab-df-buttons div {\n",
              "      margin-bottom: 4px;\n",
              "    }\n",
              "\n",
              "    [theme=dark] .colab-df-convert {\n",
              "      background-color: #3B4455;\n",
              "      fill: #D2E3FC;\n",
              "    }\n",
              "\n",
              "    [theme=dark] .colab-df-convert:hover {\n",
              "      background-color: #434B5C;\n",
              "      box-shadow: 0px 1px 3px 1px rgba(0, 0, 0, 0.15);\n",
              "      filter: drop-shadow(0px 1px 2px rgba(0, 0, 0, 0.3));\n",
              "      fill: #FFFFFF;\n",
              "    }\n",
              "  </style>\n",
              "\n",
              "    <script>\n",
              "      const buttonEl =\n",
              "        document.querySelector('#df-d3b483d8-718c-492d-a86d-ac1cc1b021ce button.colab-df-convert');\n",
              "      buttonEl.style.display =\n",
              "        google.colab.kernel.accessAllowed ? 'block' : 'none';\n",
              "\n",
              "      async function convertToInteractive(key) {\n",
              "        const element = document.querySelector('#df-d3b483d8-718c-492d-a86d-ac1cc1b021ce');\n",
              "        const dataTable =\n",
              "          await google.colab.kernel.invokeFunction('convertToInteractive',\n",
              "                                                    [key], {});\n",
              "        if (!dataTable) return;\n",
              "\n",
              "        const docLinkHtml = 'Like what you see? Visit the ' +\n",
              "          '<a target=\"_blank\" href=https://colab.research.google.com/notebooks/data_table.ipynb>data table notebook</a>'\n",
              "          + ' to learn more about interactive tables.';\n",
              "        element.innerHTML = '';\n",
              "        dataTable['output_type'] = 'display_data';\n",
              "        await google.colab.output.renderOutput(dataTable, element);\n",
              "        const docLink = document.createElement('div');\n",
              "        docLink.innerHTML = docLinkHtml;\n",
              "        element.appendChild(docLink);\n",
              "      }\n",
              "    </script>\n",
              "  </div>\n",
              "\n",
              "\n",
              "    <div id=\"df-1f0c6061-a45e-4034-bf06-44b4a582ed41\">\n",
              "      <button class=\"colab-df-quickchart\" onclick=\"quickchart('df-1f0c6061-a45e-4034-bf06-44b4a582ed41')\"\n",
              "                title=\"Suggest charts\"\n",
              "                style=\"display:none;\">\n",
              "\n",
              "<svg xmlns=\"http://www.w3.org/2000/svg\" height=\"24px\"viewBox=\"0 0 24 24\"\n",
              "     width=\"24px\">\n",
              "    <g>\n",
              "        <path d=\"M19 3H5c-1.1 0-2 .9-2 2v14c0 1.1.9 2 2 2h14c1.1 0 2-.9 2-2V5c0-1.1-.9-2-2-2zM9 17H7v-7h2v7zm4 0h-2V7h2v10zm4 0h-2v-4h2v4z\"/>\n",
              "    </g>\n",
              "</svg>\n",
              "      </button>\n",
              "\n",
              "<style>\n",
              "  .colab-df-quickchart {\n",
              "      --bg-color: #E8F0FE;\n",
              "      --fill-color: #1967D2;\n",
              "      --hover-bg-color: #E2EBFA;\n",
              "      --hover-fill-color: #174EA6;\n",
              "      --disabled-fill-color: #AAA;\n",
              "      --disabled-bg-color: #DDD;\n",
              "  }\n",
              "\n",
              "  [theme=dark] .colab-df-quickchart {\n",
              "      --bg-color: #3B4455;\n",
              "      --fill-color: #D2E3FC;\n",
              "      --hover-bg-color: #434B5C;\n",
              "      --hover-fill-color: #FFFFFF;\n",
              "      --disabled-bg-color: #3B4455;\n",
              "      --disabled-fill-color: #666;\n",
              "  }\n",
              "\n",
              "  .colab-df-quickchart {\n",
              "    background-color: var(--bg-color);\n",
              "    border: none;\n",
              "    border-radius: 50%;\n",
              "    cursor: pointer;\n",
              "    display: none;\n",
              "    fill: var(--fill-color);\n",
              "    height: 32px;\n",
              "    padding: 0;\n",
              "    width: 32px;\n",
              "  }\n",
              "\n",
              "  .colab-df-quickchart:hover {\n",
              "    background-color: var(--hover-bg-color);\n",
              "    box-shadow: 0 1px 2px rgba(60, 64, 67, 0.3), 0 1px 3px 1px rgba(60, 64, 67, 0.15);\n",
              "    fill: var(--button-hover-fill-color);\n",
              "  }\n",
              "\n",
              "  .colab-df-quickchart-complete:disabled,\n",
              "  .colab-df-quickchart-complete:disabled:hover {\n",
              "    background-color: var(--disabled-bg-color);\n",
              "    fill: var(--disabled-fill-color);\n",
              "    box-shadow: none;\n",
              "  }\n",
              "\n",
              "  .colab-df-spinner {\n",
              "    border: 2px solid var(--fill-color);\n",
              "    border-color: transparent;\n",
              "    border-bottom-color: var(--fill-color);\n",
              "    animation:\n",
              "      spin 1s steps(1) infinite;\n",
              "  }\n",
              "\n",
              "  @keyframes spin {\n",
              "    0% {\n",
              "      border-color: transparent;\n",
              "      border-bottom-color: var(--fill-color);\n",
              "      border-left-color: var(--fill-color);\n",
              "    }\n",
              "    20% {\n",
              "      border-color: transparent;\n",
              "      border-left-color: var(--fill-color);\n",
              "      border-top-color: var(--fill-color);\n",
              "    }\n",
              "    30% {\n",
              "      border-color: transparent;\n",
              "      border-left-color: var(--fill-color);\n",
              "      border-top-color: var(--fill-color);\n",
              "      border-right-color: var(--fill-color);\n",
              "    }\n",
              "    40% {\n",
              "      border-color: transparent;\n",
              "      border-right-color: var(--fill-color);\n",
              "      border-top-color: var(--fill-color);\n",
              "    }\n",
              "    60% {\n",
              "      border-color: transparent;\n",
              "      border-right-color: var(--fill-color);\n",
              "    }\n",
              "    80% {\n",
              "      border-color: transparent;\n",
              "      border-right-color: var(--fill-color);\n",
              "      border-bottom-color: var(--fill-color);\n",
              "    }\n",
              "    90% {\n",
              "      border-color: transparent;\n",
              "      border-bottom-color: var(--fill-color);\n",
              "    }\n",
              "  }\n",
              "</style>\n",
              "\n",
              "      <script>\n",
              "        async function quickchart(key) {\n",
              "          const quickchartButtonEl =\n",
              "            document.querySelector('#' + key + ' button');\n",
              "          quickchartButtonEl.disabled = true;  // To prevent multiple clicks.\n",
              "          quickchartButtonEl.classList.add('colab-df-spinner');\n",
              "          try {\n",
              "            const charts = await google.colab.kernel.invokeFunction(\n",
              "                'suggestCharts', [key], {});\n",
              "          } catch (error) {\n",
              "            console.error('Error during call to suggestCharts:', error);\n",
              "          }\n",
              "          quickchartButtonEl.classList.remove('colab-df-spinner');\n",
              "          quickchartButtonEl.classList.add('colab-df-quickchart-complete');\n",
              "        }\n",
              "        (() => {\n",
              "          let quickchartButtonEl =\n",
              "            document.querySelector('#df-1f0c6061-a45e-4034-bf06-44b4a582ed41 button');\n",
              "          quickchartButtonEl.style.display =\n",
              "            google.colab.kernel.accessAllowed ? 'block' : 'none';\n",
              "        })();\n",
              "      </script>\n",
              "    </div>\n",
              "\n",
              "    </div>\n",
              "  </div>\n"
            ],
            "application/vnd.google.colaboratory.intrinsic+json": {
              "type": "dataframe",
              "summary": "{\n  \"name\": \"display(df_upsampled\",\n  \"rows\": 10,\n  \"fields\": [\n    {\n      \"column\": \"text\",\n      \"properties\": {\n        \"dtype\": \"string\",\n        \"num_unique_values\": 10,\n        \"samples\": [\n          \"\\u0986\\u09ae\\u09be\\u09b0 \\u09aa\\u0995\\u09cd\\u09b7\\u09c7 \\u09ac\\u09bf\\u09aa\\u0995\\u09cd\\u09b7\\u09c7 \\u09ae\\u09bf\\u09a1\\u09bf\\u09df\\u09be\\u09df \\u0995\\u09c7 \\u0995\\u09bf \\u09b2\\u09bf\\u0996\\u09b2\\u09cb, \\u09a8\\u09be \\u09b2\\u09bf\\u0996\\u09b2\\u09cb \\u099a\\u09bf\\u09a8\\u09cd\\u09a4\\u09be \\u0995\\u09b0\\u09bf \\u09a8\\u09be: \\u09aa\\u09cd\\u09b0\\u09a7\\u09be\\u09a8\\u09ae\\u09a8\\u09cd\\u09a4\\u09cd\\u09b0\\u09c0 \\u09a8\\u09bf\\u0989\\u099c \\u09a1\\u09c7\\u09b8\\u09cd\\u0995 \\u0986\\u09b0\\u099f\\u09bf\\u098f\\u09a8\\u098f\\u09a8 \\u09a2\\u09be\\u0995\\u09be: \\u09aa\\u09cd\\u09b0\\u09a7\\u09be\\u09a8\\u09ae\\u09a8\\u09cd\\u09a4\\u09cd\\u09b0\\u09c0 \\u09b6\\u09c7\\u0996 \\u09b9\\u09be\\u09b8\\u09bf\\u09a8\\u09be \\u09b8\\u09be\\u0982\\u09ac\\u09be\\u09a6\\u09bf\\u0995\\u09a4\\u09be \\u09aa\\u09c7\\u09b6\\u09be\\u0995\\u09c7 \\u09a6\\u09c7\\u09b6\\u09c7\\u09b0 \\u09ac\\u09c3\\u09b9\\u09a4\\u09cd\\u09a4\\u09b0 \\u09b8\\u09cd\\u09ac\\u09be\\u09b0\\u09cd\\u09a5\\u09c7 \\u09ac\\u09cd\\u09af\\u09ac\\u09b9\\u09be\\u09b0\\u09c7\\u09b0 \\u0986\\u09b9\\u09ac\\u09be\\u09a8 \\u099c\\u09be\\u09a8\\u09bf\\u09df\\u09c7 \\u09ac\\u09b2\\u09c7\\u099b\\u09c7\\u09a8, \\u0997\\u09a3\\u09ae\\u09be\\u09a7\\u09cd\\u09af\\u09ae\\u09c7\\u09b0 \\u09b8\\u09cd\\u09ac\\u09be\\u09a7\\u09c0\\u09a8\\u09a4\\u09be\\u0995\\u09c7 \\u0995\\u0996\\u09a8\\u0993 \\u09ac\\u09be\\u09b2\\u0995\\u09b8\\u09c1\\u09b2\\u09ad\\u09ad\\u09be\\u09ac\\u09c7 \\u09ac\\u09cd\\u09af\\u09ac\\u09b9\\u09be\\u09b0 \\u0995\\u09b0\\u09be \\u0989\\u099a\\u09bf\\u09a4 \\u09a8\\u09df\\u0964 \\u09aa\\u09cd\\u09b0\\u09a7\\u09be\\u09a8\\u09ae\\u09a8\\u09cd\\u09a4\\u09cd\\u09b0\\u09c0 \\u09ac\\u09b2\\u09c7\\u09a8, \\u2018\\u0986\\u09ae\\u09b0\\u09be \\u09b8\\u0982\\u09ac\\u09be\\u09a6\\u09aa\\u09a4\\u09cd\\u09b0\\u09c7\\u09b0 \\u09aa\\u09c2\\u09b0\\u09cd\\u09a3 \\u09b8\\u09cd\\u09ac\\u09be\\u09a7\\u09c0\\u09a8\\u09a4\\u09be\\u09df \\u09ac\\u09bf\\u09b6\\u09cd\\u09ac\\u09be\\u09b8\\u09c0\\u0964 \\u0995\\u09bf\\u09a8\\u09cd\\u09a4\\u09c1 \\u098f\\u099f\\u09be\\u0995\\u09c7 \\u09ac\\u09be\\u09b2\\u0996\\u09bf\\u09b2\\u09cd\\u09af\\u09ad\\u09be\\u09ac\\u09c7 \\u09ac\\u09cd\\u09af\\u09ac\\u09b9\\u09be\\u09b0 \\u0995\\u09b0\\u09be \\u0989\\u099a\\u09bf\\u09a4 \\u09a8\\u09df \\u098f\\u09ac\\u0982 \\u09b8\\u09ac\\u09be\\u09b0\\u0987 \\u098f \\u09ac\\u09cd\\u09af\\u09be\\u09aa\\u09be\\u09b0\\u09c7 \\u09b8\\u099a\\u09c7\\u09a4\\u09a8 \\u09a5\\u09be\\u0995\\u09be \\u0989\\u099a\\u09bf\\u09a4\\u0964\\u2019 \\u09a6\\u09c7\\u09b6\\u09c7\\u09b0 \\u099c\\u09a8\\u09cd\\u09af \\u0995\\u09b2\\u09cd\\u09af\\u09be\\u09a3\\u099c\\u09a8\\u0995 \\u09b9\\u09ac\\u09c7 \\u098f\\u09ae\\u09a8 \\u09ad\\u09c2\\u09ae\\u09bf\\u0995\\u09be\\u0987 \\u0997\\u09a3\\u09ae\\u09be\\u09a7\\u09cd\\u09af\\u09ae\\u09c7\\u09b0 \\u09aa\\u09be\\u09b2\\u09a8 \\u0995\\u09b0\\u09be \\u0989\\u099a\\u09bf\\u09a4, \\u09af\\u09cb\\u0997 \\u0995\\u09b0\\u09c7\\u09a8 \\u09a4\\u09bf\\u09a8\\u09bf\\u0964 \\u09aa\\u09cd\\u09b0\\u09a7\\u09be\\u09a8\\u09ae\\u09a8\\u09cd\\u09a4\\u09cd\\u09b0\\u09c0 \\u09b6\\u09c7\\u0996 \\u09b9\\u09be\\u09b8\\u09bf\\u09a8\\u09be \\u09ac\\u09c1\\u09a7\\u09ac\\u09be\\u09b0 \\u09b8\\u0995\\u09be\\u09b2\\u09c7 \\u09a4\\u09be\\u09b0 \\u0995\\u09be\\u09b0\\u09cd\\u09af\\u09be\\u09b2\\u09df\\u09c7 \\u09b8\\u09be\\u0982\\u09ac\\u09be\\u09a6\\u09bf\\u0995 \\u0995\\u09b2\\u09cd\\u09af\\u09be\\u09a3 \\u099f\\u09cd\\u09b0\\u09be\\u09b8\\u09cd\\u099f \\u09b9\\u09a4\\u09c7 \\u0985\\u09b8\\u09c1\\u09b8\\u09cd\\u09a5, \\u0985\\u09b8\\u09cd\\u09ac\\u099a\\u09cd\\u099b\\u09b2 \\u0993 \\u09a6\\u09c1\\u09b0\\u09cd\\u0998\\u099f\\u09a8\\u09be\\u099c\\u09a8\\u09bf\\u09a4 \\u0986\\u09b9\\u09a4 \\u0993 \\u09a8\\u09bf\\u09b9\\u09a4 \\u09b8\\u09be\\u0982\\u09ac\\u09be\\u09a6\\u09bf\\u0995 \\u09aa\\u09b0\\u09bf\\u09ac\\u09be\\u09b0\\u09c7\\u09b0 \\u09b8\\u09a6\\u09b8\\u09cd\\u09af\\u09a6\\u09c7\\u09b0 \\u0985\\u09a8\\u09c1\\u0995\\u09c2\\u09b2\\u09c7 \\u0986\\u09b0\\u09cd\\u09a5\\u09bf\\u0995 \\u0985\\u09a8\\u09c1\\u09a6\\u09be\\u09a8\\u09c7\\u09b0 \\u099a\\u09c7\\u0995 \\u09ac\\u09bf\\u09a4\\u09b0\\u09a3 \\u0989\\u09aa\\u09b2\\u0995\\u09cd\\u09b7\\u09c7 \\u0986\\u09df\\u09cb\\u099c\\u09bf\\u09a4 \\u0985\\u09a8\\u09c1\\u09b7\\u09cd\\u09a0\\u09be\\u09a8\\u09c7 \\u098f \\u0995\\u09a5\\u09be \\u09ac\\u09b2\\u09c7\\u09a8\\u0964 \\u0996\\u09ac\\u09b0 \\u09ac\\u09be\\u09b8\\u09b8\\u09c7\\u09b0\\u0964 \\u099c\\u09be\\u09a4\\u09bf\\u09b0 \\u09aa\\u09bf\\u09a4\\u09be \\u09b8\\u09be\\u0982\\u09ac\\u09be\\u09a6\\u09bf\\u0995\\u09a6\\u09c7\\u09b0 \\u09aa\\u09c2\\u09b0\\u09cd\\u09a3 \\u09b8\\u09cd\\u09ac\\u09be\\u09a7\\u09c0\\u09a8\\u09a4\\u09be \\u09a6\\u09bf\\u09df\\u09c7\\u099b\\u09bf\\u09b2\\u09c7\\u09a8 \\u0989\\u09b2\\u09cd\\u09b2\\u09c7\\u0996 \\u0995\\u09b0\\u09c7 \\u09aa\\u09cd\\u09b0\\u09a7\\u09be\\u09a8\\u09ae\\u09a8\\u09cd\\u09a4\\u09cd\\u09b0\\u09c0 \\u09ac\\u09b2\\u09c7\\u09a8, \\u0986\\u09ae\\u09b0\\u09be \\u09ac\\u09bf\\u09b6\\u09cd\\u09ac\\u09be\\u09b8 \\u0995\\u09b0\\u09bf \\u09b8\\u09cd\\u09ac\\u09be\\u09a7\\u09c0\\u09a8\\u09a4\\u09be \\u09ad\\u09be\\u09b2\\u09cb\\u0964 \\u09a4\\u09ac\\u09c7, \\u098f\\u0996\\u09be\\u09a8\\u09c7 \\u098f\\u0995\\u099f\\u09be \\u0995\\u09a5\\u09be \\u0986\\u099b\\u09c7- \\u09b8\\u09cd\\u09ac\\u09be\\u09a7\\u09c0\\u09a8\\u09a4\\u09be \\u09ad\\u09be\\u09b2 \\u09a4\\u09ac\\u09c7 \\u09a4\\u09be \\u09ac\\u09be\\u09b2\\u0995\\u09c7\\u09b0 \\u099c\\u09a8\\u09cd\\u09af \\u09a8\\u09df\\u0964 \\u0995\\u09be\\u099c\\u09c7\\u0987 \\u098f \\u09a7\\u09b0\\u09a8\\u09c7\\u09b0 \\u09ac\\u09be\\u09b2\\u0996\\u09bf\\u09b2\\u09cd\\u09af \\u09ac\\u09cd\\u09af\\u09ac\\u09b9\\u09be\\u09b0 \\u09af\\u09c7\\u09a8 \\u0995\\u09c7\\u0989 \\u09a8\\u09be \\u0995\\u09b0\\u09c7 \\u09b8\\u09c7\\u09a6\\u09bf\\u0995\\u09c7\\u0993 \\u09a6\\u09c3\\u09b7\\u09cd\\u099f\\u09bf \\u09a6\\u09c7\\u0993\\u09df\\u09be \\u0989\\u099a\\u09bf\\u09a4\\u0964 \\u09a4\\u09bf\\u09a8\\u09bf \\u09ac\\u09b2\\u09c7\\u09a8, \\u0985\\u09a8\\u09cd\\u09a4\\u09a4 \\u0997\\u09a0\\u09a8\\u09ae\\u09c2\\u09b2\\u0995 \\u09a6\\u09be\\u09df\\u09bf\\u09a4\\u09cd\\u09ac\\u09b6\\u09c0\\u09b2 \\u09ad\\u09c2\\u09ae\\u09bf\\u0995\\u09be\\u099f\\u09be \\u09aa\\u09be\\u09b2\\u09a8 \\u0995\\u09b0\\u09be \\u09af\\u09c7\\u099f\\u09be \\u09a6\\u09c7\\u09b6\\u09c7\\u09b0 \\u0995\\u09b2\\u09cd\\u09af\\u09be\\u09a3\\u09c7\\u09b0 \\u0995\\u09be\\u099c\\u09c7 \\u09b2\\u09be\\u0997\\u09ac\\u09c7\\u0964 \\u098f\\u099f\\u09be \\u09b9\\u099a\\u09cd\\u099b\\u09c7 \\u09ac\\u09be\\u09b8\\u09cd\\u09a4\\u09ac\\u09a4\\u09be, \\u0986\\u09ae\\u09bf \\u0986\\u09b6\\u09be \\u0995\\u09b0\\u09bf \\u09a8\\u09bf\\u09b6\\u09cd\\u099a\\u09df\\u0987 \\u09b8\\u09c7\\u099f\\u09be \\u0986\\u09aa\\u09a8\\u09be\\u09b0\\u09be \\u0985\\u09a8\\u09c1\\u09ad\\u09ac \\u0995\\u09b0\\u09ac\\u09c7\\u09a8\\u0964 \\u09aa\\u09cd\\u09b0\\u09a7\\u09be\\u09a8\\u09ae\\u09a8\\u09cd\\u09a4\\u09cd\\u09b0\\u09c0 \\u09ac\\u09b2\\u09c7\\u09a8, \\u09e8\\u09e6\\u09e6\\u09ee-\\u098f\\u09b0 \\u09a8\\u09bf\\u09b0\\u09cd\\u09ac\\u09be\\u099a\\u09a8\\u09c7 \\u09a6\\u09bf\\u09a8 \\u09ac\\u09a6\\u09b2\\u09c7\\u09b0 \\u09af\\u09c7 \\u0985\\u0999\\u09cd\\u0997\\u09c0\\u0995\\u09be\\u09b0 \\u0995\\u09b0\\u09c7\\u099b\\u09bf\\u09b2\\u09be\\u09ae, \\u0986\\u09ae\\u09bf \\u09ae\\u09a8\\u09c7 \\u0995\\u09b0\\u09bf \\u09a8\\u09bf\\u09b6\\u09cd\\u099a\\u09df\\u0987 \\u0986\\u09aa\\u09a8\\u09be\\u09b0\\u09be \\u098f\\u099f\\u09be \\u09b8\\u09cd\\u09ac\\u09c0\\u0995\\u09be\\u09b0 \\u0995\\u09b0\\u09ac\\u09c7\\u09a8 \\u0986\\u099c\\u0995\\u09c7 \\u09ae\\u09be\\u09a8\\u09c1\\u09b7\\u09c7\\u09b0 \\u09a6\\u09bf\\u09a8 \\u09ac\\u09a6\\u09b2 \\u09b9\\u09df\\u09c7\\u099b\\u09c7\\u0964 \\u09aa\\u09cd\\u09b0\\u09a7\\u09be\\u09a8\\u09ae\\u09a8\\u09cd\\u09a4\\u09cd\\u09b0\\u09c0 \\u09ac\\u09b2\\u09c7\\u09a8, \\u09ac\\u09be\\u0982\\u09b2\\u09be\\u09a6\\u09c7\\u09b6\\u0995\\u09c7 \\u09a6\\u09c7\\u0996\\u09be\\u09b0, \\u099c\\u09be\\u09a8\\u09be\\u09b0 \\u099c\\u09a8\\u09cd\\u09af \\u099c\\u09c0\\u09ac\\u09a8\\u09c7 \\u09af\\u09a4\\u09b0\\u0995\\u09ae \\u099d\\u09c1\\u0981\\u0995\\u09bf \\u09a8\\u09c7\\u0993\\u09df\\u09be\\u09b0 \\u09a8\\u09bf\\u09df\\u09c7\\u099b\\u09bf \\u098f\\u09ac\\u0982 \\u09b8\\u09c1\\u09af\\u09cb\\u0997 \\u09aa\\u09c7\\u09b2\\u09c7 \\u0995\\u09bf\\u09ad\\u09be\\u09ac\\u09c7 \\u0995\\u09b0\\u09ac\\u09cb \\u09b8\\u09c7\\u0987 \\u09aa\\u09b0\\u09bf\\u0995\\u09b2\\u09cd\\u09aa\\u09a8\\u09be \\u09a8\\u09bf\\u09df\\u09c7 \\u098f\\u0997\\u09bf\\u09df\\u09c7\\u099b\\u09bf \\u09ac\\u09b2\\u09c7\\u0987 \\u0986\\u099c\\u0995\\u09c7 \\u09ac\\u09be\\u0982\\u09b2\\u09be\\u09a6\\u09c7\\u09b6 \\u098f\\u0997\\u09bf\\u09df\\u09c7 \\u09af\\u09be\\u099a\\u09cd\\u099b\\u09c7\\u0964 \\u09a4\\u09bf\\u09a8\\u09bf \\u09ac\\u09b2\\u09c7\\u09a8, \\u0986\\u099c\\u0995\\u09c7 \\u0986\\u09ae\\u09b0\\u09be \\u09ae\\u09b9\\u09be\\u0995\\u09be\\u09b6\\u0993 \\u099c\\u09df \\u0995\\u09b0\\u09c7\\u099b\\u09bf, \\u09b8\\u09ae\\u09c1\\u09a6\\u09cd\\u09b0 \\u09b8\\u09c0\\u09ae\\u09be\\u09a8\\u09be \\u09a0\\u09bf\\u0995 \\u0995\\u09b0\\u09c7\\u099b\\u09bf \\u0986\\u09ac\\u09be\\u09b0 \\u09b8\\u09cd\\u09a5\\u09b2 \\u09b8\\u09c0\\u09ae\\u09be\\u09a8\\u09be \\u099a\\u09c1\\u0995\\u09cd\\u09a4\\u09bf\\u09b0 \\u09ac\\u09be\\u09b8\\u09cd\\u09a4\\u09ac\\u09be\\u09df\\u09a8 \\u0995\\u09b0\\u09c7\\u099b\\u09bf\\u0964 \\u09af\\u09be\\u0987 \\u0995\\u09b0\\u09c7\\u099b\\u09bf \\u09a4\\u09be\\u09b0 \\u09b6\\u09c1\\u09b0\\u09c1\\u099f\\u09be \\u0995\\u09b0\\u09c7 \\u09a6\\u09bf\\u09df\\u09c7 \\u0997\\u09c7\\u099b\\u09c7\\u09a8 \\u099c\\u09be\\u09a4\\u09bf\\u09b0 \\u09aa\\u09bf\\u09a4\\u09be \\u09ac\\u0999\\u09cd\\u0997\\u09ac\\u09a8\\u09cd\\u09a7\\u09c1 \\u09b6\\u09c7\\u0996 \\u09ae\\u09c1\\u099c\\u09bf\\u09ac\\u0964 \\u098f\\u0987 \\u09b8\\u09ae\\u09df\\u09c7 \\u099c\\u09be\\u09a4\\u09bf\\u09b0 \\u09aa\\u09bf\\u09a4\\u09be\\u09b0 \\u09b8\\u09be\\u09dc\\u09c7 \\u09e9 \\u09ac\\u099b\\u09b0\\u09c7\\u09b0 \\u09b6\\u09be\\u09b8\\u09a8\\u09c7 \\u098f\\u0995\\u099f\\u09bf \\u09af\\u09c1\\u09a6\\u09cd\\u09a7 \\u09ac\\u09bf\\u09a7\\u09cd\\u09ac\\u09b8\\u09cd\\u09a4 \\u09aa\\u09cd\\u09b0\\u09a6\\u09c7\\u09b6\\u0995\\u09c7 \\u098f\\u0995\\u099f\\u09bf \\u09a6\\u09c7\\u09b6 \\u09b9\\u09bf\\u09b8\\u09c7\\u09ac\\u09c7 \\u0997\\u09dc\\u09c7 \\u09a4\\u09cb\\u09b2\\u09be\\u09b0 \\u09aa\\u09be\\u09b6\\u09be\\u09aa\\u09be\\u09b6\\u09bf \\u098f\\u09a4 \\u09aa\\u09b0\\u09bf\\u09ae\\u09be\\u09a3 \\u0995\\u09be\\u099c \\u09a4\\u09bf\\u09a8\\u09bf \\u09b8\\u09ae\\u09cd\\u09aa\\u09be\\u09a6\\u09a8 \\u0995\\u09b0\\u09c7\\u099b\\u09c7\\u09a8 \\u09af\\u09be \\u09a8\\u09bf\\u09df\\u09c7 \\u09ac\\u09bf\\u09b8\\u09cd\\u09ae\\u09df \\u09aa\\u09cd\\u09b0\\u0995\\u09be\\u09b6 \\u0995\\u09b0\\u09c7\\u09a8 \\u09aa\\u09cd\\u09b0\\u09a7\\u09be\\u09a8\\u09ae\\u09a8\\u09cd\\u09a4\\u09cd\\u09b0\\u09c0 \\u0964 \\u099c\\u09be\\u09a4\\u09bf\\u09b0 \\u09aa\\u09bf\\u09a4\\u09be\\u09b0 \\u0985\\u09b8\\u09ae\\u09be\\u09aa\\u09cd\\u09a4 \\u0995\\u09be\\u099c \\u09b6\\u09c7\\u09b7 \\u0995\\u09b0\\u09c7 \\u09af\\u09be\\u0993\\u09df\\u09be\\u0987 \\u09a4\\u09be\\u09b0 \\u0995\\u09b0\\u09cd\\u09a4\\u09ac\\u09cd\\u09af \\u0989\\u09b2\\u09cd\\u09b2\\u09c7\\u0996 \\u0995\\u09b0\\u09c7 \\u09aa\\u09cd\\u09b0\\u09a7\\u09be\\u09a8\\u09ae\\u09a8\\u09cd\\u09a4\\u09cd\\u09b0\\u09c0 \\u09b8\\u09ae\\u09be\\u09b2\\u09cb\\u099a\\u0995\\u09a6\\u09c7\\u09b0 \\u0989\\u09a6\\u09cd\\u09a6\\u09c7\\u09b6\\u09cd\\u09af\\u09c7 \\u09ac\\u09b2\\u09c7\\u09a8, \\u0986\\u09ae\\u09be\\u09b0 \\u09aa\\u0995\\u09cd\\u09b7\\u09c7, \\u09ac\\u09bf\\u09aa\\u0995\\u09cd\\u09b7\\u09c7 \\u09ae\\u09bf\\u09a1\\u09bf\\u09df\\u09be\\u09df \\u0995\\u09c7 \\u0995\\u09bf \\u09b2\\u09bf\\u0996\\u09b2\\u09cb, \\u09a8\\u09be \\u09b2\\u09bf\\u0996\\u09b2\\u09cb \\u0986\\u09ae\\u09bf \\u099a\\u09bf\\u09a8\\u09cd\\u09a4\\u09be \\u0995\\u09b0\\u09bf \\u09a8\\u09be\\u0964 \\u0986\\u09ae\\u09bf \\u099a\\u09bf\\u09a8\\u09cd\\u09a4\\u09be \\u0995\\u09b0\\u09bf \\u0986\\u09ae\\u09bf \\u09af\\u09c7 \\u0995\\u09be\\u099c\\u099f\\u09be \\u0995\\u09b0\\u099b\\u09bf \\u09b8\\u09c7\\u0996\\u09be\\u09a8\\u09c7 \\u09a8\\u09bf\\u099c\\u09c7\\u09b0 \\u0986\\u09a4\\u09cd\\u09ae\\u09ac\\u09bf\\u09b6\\u09cd\\u09ac\\u09be\\u09b8\\u099f\\u09be \\u0986\\u099b\\u09c7 \\u0995\\u09bf \\u09a8\\u09be, \\u09b8\\u09a0\\u09bf\\u0995 \\u0995\\u09b0\\u099b\\u09bf \\u0995\\u09bf \\u09a8\\u09be, \\u09a8\\u09bf\\u099c\\u09c7\\u09b0 \\u0986\\u09a4\\u09cd\\u09ae\\u09ac\\u09bf\\u09b6\\u09cd\\u09ac\\u09be\\u09b8\\u09c7\\u09b0 \\u0993\\u09aa\\u09b0 \\u09a8\\u09bf\\u09b0\\u09cd\\u09ad\\u09b0 \\u0995\\u09b0\\u09c7\\u0987 \\u0986\\u09ae\\u09bf \\u099a\\u09b2\\u09bf\\u0964 \\u0997\\u09a3\\u09ae\\u09be\\u09a7\\u09cd\\u09af\\u09ae\\u0995\\u09c7 \\u09b8\\u09ae\\u09be\\u099c\\u09c7\\u09b0 \\u09a6\\u09b0\\u09cd\\u09aa\\u09a3 \\u0986\\u0996\\u09cd\\u09af\\u09be\\u09df\\u09bf\\u09a4 \\u0995\\u09b0\\u09c7 \\u09aa\\u09cd\\u09b0\\u09a7\\u09be\\u09a8\\u09ae\\u09a8\\u09cd\\u09a4\\u09cd\\u09b0\\u09c0 \\u09ac\\u09b2\\u09c7\\u09a8, \\u09ae\\u09bf\\u09a1\\u09bf\\u09df\\u09be\\u09b0 \\u09ae\\u09be\\u09a7\\u09cd\\u09af\\u09ae\\u09c7 \\u09b8\\u09be\\u0982\\u09ac\\u09be\\u09a6\\u09bf\\u0995\\u09b0\\u09be \\u098f\\u09ae\\u09a8 \\u09aa\\u09cd\\u09b0\\u09a4\\u09cd\\u09af\\u09a8\\u09cd\\u09a4 \\u0985\\u099e\\u09cd\\u099a\\u09b2\\u09c7\\u09b0 \\u09a6\\u09c1:\\u09b8\\u09cd\\u09a5 \\u099c\\u09a8\\u0997\\u09a3\\u09c7\\u09b0 \\u0995\\u09a5\\u09be, \\u09ac\\u09bf\\u09aa\\u09a8\\u09cd\\u09a8 \\u099c\\u09a8\\u09ae\\u09be\\u09a8\\u09c1\\u09b7\\u09c7\\u09b0 \\u0995\\u09a5\\u09be \\u09a4\\u09c1\\u09b2\\u09c7 \\u0986\\u09a8\\u09c7\\u09a8 \\u09ab\\u09b2\\u09c7 \\u09b8\\u09b0\\u0995\\u09be\\u09b0\\u09c7\\u09b0 \\u09a4\\u09be\\u09a6\\u09c7\\u09b0 \\u09aa\\u09be\\u09b6\\u09c7 \\u09a6\\u09be\\u0981\\u09dc\\u09be\\u09a4\\u09c7 \\u09b8\\u09c1\\u09ac\\u09bf\\u09a7\\u09be \\u09b9\\u09df\\u0964 \\u09b8\\u0995\\u09b2\\u09c7\\u09b0 \\u0995\\u09a5\\u09be \\u09ac\\u09b2\\u09be\\u09b0 \\u098f\\u09ac\\u0982 \\u09ae\\u09a4 \\u09aa\\u09cd\\u09b0\\u0995\\u09be\\u09b6\\u09c7\\u09b0 \\u0985\\u09a7\\u09bf\\u0995\\u09be\\u09b0 \\u09a5\\u09be\\u0995\\u09be\\u09b0 \\u0995\\u09a5\\u09be \\u0989\\u09b2\\u09cd\\u09b2\\u09c7\\u0996 \\u0995\\u09b0\\u09c7 \\u09b6\\u09c7\\u0996 \\u09b9\\u09be\\u09b8\\u09bf\\u09a8\\u09be \\u09ac\\u09b2\\u09c7\\u09a8, \\u2018\\u0995\\u09a5\\u09be \\u09ac\\u09b2\\u09be\\u09b0 \\u09b8\\u09cd\\u09ac\\u09be\\u09a7\\u09c0\\u09a8\\u09a4\\u09be \\u098f\\u099f\\u09be \\u09b8\\u0995\\u09b2\\u09c7\\u09b0\\u0987 \\u0986\\u099b\\u09c7\\u0964 \\u09b8\\u0982\\u09ac\\u09be\\u09a6\\u09aa\\u09a4\\u09cd\\u09b0, \\u09b8\\u09be\\u0982\\u09ac\\u09be\\u09a6\\u09bf\\u0995\\u09a6\\u09c7\\u09b0 \\u09b8\\u09cd\\u09ac\\u09be\\u09a7\\u09c0\\u09a8\\u09a4\\u09be\\u09b0 \\u0995\\u09a5\\u09be\\u09df \\u0986\\u09ae\\u09b0\\u09be \\u09b8\\u09ac \\u09b8\\u09ae\\u09df \\u09ac\\u09bf\\u09b6\\u09cd\\u09ac\\u09be\\u09b8 \\u0995\\u09b0\\u09bf\\u0964\\u2019 \\u09a4\\u09bf\\u09a8\\u09bf \\u09ac\\u09b2\\u09c7\\u09a8, \\u2018\\u098f\\u099f\\u09be \\u0995\\u09c7\\u0989 \\u09ac\\u09b2\\u09a4\\u09c7 \\u09aa\\u09be\\u09b0\\u09ac\\u09c7 \\u09a8\\u09be \\u09af\\u09c7 \\u0995\\u09be\\u09b0\\u09cb \\u0997\\u09b2\\u09be \\u099f\\u09bf\\u09aa\\u09c7 \\u09a7\\u09b0\\u09c7\\u099b\\u09bf, \\u0995\\u09be\\u09b0\\u09cb \\u09ae\\u09c1\\u0996 \\u099f\\u09bf\\u09aa\\u09c7 \\u09a7\\u09b0\\u09c7\\u099b\\u09bf \\u0985\\u09a5\\u09ac\\u09be \\u0995\\u09be\\u0989\\u0995\\u09c7 \\u09ac\\u09be\\u09a7\\u09be \\u09a6\\u09bf\\u09df\\u09c7\\u099b\\u09bf- \\u09a6\\u09c7\\u0987\\u09a8\\u09bf, \\u09a6\\u09c7\\u0987 \\u09a8\\u09be\\u0964 \\u09ac\\u09b0\\u0982 \\u09b8\\u09be\\u0982\\u09ac\\u09be\\u09a6\\u09bf\\u0995\\u09a6\\u09c7\\u09b0 \\u0985\\u09a7\\u09bf\\u0995\\u09be\\u09b0 \\u09aa\\u09cd\\u09b0\\u09a4\\u09bf\\u09b7\\u09cd\\u09a0\\u09be\\u09b0 \\u099c\\u09a8\\u09cd\\u09af \\u09af\\u09be \\u09af\\u09be \\u0995\\u09b0\\u09be \\u09a6\\u09b0\\u0995\\u09be\\u09b0 \\u0986\\u09ae\\u09b0\\u09be \\u0995\\u09b0\\u09c7\\u099b\\u09bf\\u0964\\u2019 \\u0985\\u09a8\\u09cd\\u09af\\u09be\\u09a8\\u09cd\\u09af \\u09aa\\u09c7\\u09b6\\u09be\\u099c\\u09c0\\u09ac\\u09c0\\u09a6\\u09c7\\u09b0 \\u09ae\\u09a4 \\u09b8\\u09be\\u0982\\u09ac\\u09be\\u09a6\\u09bf\\u0995 \\u0995\\u09b2\\u09cd\\u09af\\u09be\\u09a3\\u0995\\u09c7 \\u09a4\\u09be\\u0981\\u09b0 \\u09b8\\u09b0\\u0995\\u09be\\u09b0 \\u0985\\u0997\\u09cd\\u09b0\\u09be\\u09a7\\u09bf\\u0995\\u09be\\u09b0 \\u09a6\\u09c7\\u09df \\u0989\\u09b2\\u09cd\\u09b2\\u09c7\\u0996 \\u0995\\u09b0\\u09c7 \\u09b8\\u09b0\\u0995\\u09be\\u09b0 \\u09aa\\u09cd\\u09b0\\u09a7\\u09be\\u09a8 \\u09ac\\u09b2\\u09c7\\u09a8, \\u09b8\\u09be\\u0982\\u09ac\\u09be\\u09a6\\u09bf\\u0995 \\u0995\\u09b2\\u09cd\\u09af\\u09be\\u09a3\\u09c7 \\u09a4\\u09be\\u0981\\u09b0 \\u09b8\\u09b0\\u0995\\u09be\\u09b0 \\u2018\\u09ac\\u09be\\u0982\\u09b2\\u09be\\u09a6\\u09c7\\u09b6 \\u09b8\\u09be\\u0982\\u09ac\\u09be\\u09a6\\u09bf\\u0995 \\u0995\\u09b2\\u09cd\\u09af\\u09be\\u09a3 \\u099f\\u09cd\\u09b0\\u09be\\u09b8\\u09cd\\u099f\\u2019 \\u09b8\\u09cd\\u09a5\\u09be\\u09aa\\u09a8 \\u0995\\u09b0\\u09c7 \\u098f\\u09b0 \\u0985\\u0993\\u09a4\\u09be\\u09df \\u0985\\u09b8\\u09c1\\u09b8\\u09cd\\u09a5, \\u0985\\u09b8\\u09cd\\u09ac\\u099a\\u09cd\\u099b\\u09b2,\\u0986\\u09b9\\u09a4 \\u098f\\u09ac\\u0982 \\u09a8\\u09bf\\u09b9\\u09a4 \\u09b8\\u09be\\u0982\\u09ac\\u09be\\u09a6\\u09bf\\u0995 \\u098f\\u09ac\\u0982 \\u09a4\\u09be\\u09a6\\u09c7\\u09b0 \\u09aa\\u09b0\\u09bf\\u09ac\\u09be\\u09b0\\u09c7\\u09b0 \\u09b8\\u09a6\\u09b8\\u09cd\\u09af\\u09a6\\u09c7\\u09b0 \\u0985\\u09a8\\u09c1\\u09a6\\u09be\\u09a8 \\u09a6\\u09bf\\u09df\\u09c7 \\u0986\\u09b8\\u099b\\u09c7\\u0964 \\u09aa\\u09cd\\u09b0\\u09a7\\u09be\\u09a8\\u09ae\\u09a8\\u09cd\\u09a4\\u09cd\\u09b0\\u09c0 \\u098f \\u09b8\\u09ae\\u09df \\u09ac\\u09be\\u0982\\u09b2\\u09be\\u09a6\\u09c7\\u09b6 \\u09b8\\u09be\\u0982\\u09ac\\u09be\\u09a6\\u09bf\\u0995 \\u0995\\u09b2\\u09cd\\u09af\\u09be\\u09a3 \\u099f\\u09cd\\u09b0\\u09be\\u09b8\\u09cd\\u099f\\u09c7 \\u0986\\u09b0\\u09cb \\u09e8\\u09e6 \\u0995\\u09cb\\u099f\\u09bf \\u099f\\u09be\\u0995\\u09be \\u0985\\u09a8\\u09c1\\u09a6\\u09be\\u09a8 \\u09aa\\u09cd\\u09b0\\u09a6\\u09be\\u09a8\\u09c7\\u09b0 \\u0998\\u09cb\\u09b7\\u09a3\\u09be \\u09a6\\u09c7\\u09a8\\u0964 \\u09a4\\u09a5\\u09cd\\u09af\\u09ae\\u09a8\\u09cd\\u09a4\\u09cd\\u09b0\\u09c0 \\u09b9\\u09be\\u09b8\\u09be\\u09a8\\u09c1\\u09b2 \\u09b9\\u0995 \\u0987\\u09a8\\u09c1 \\u0985\\u09a8\\u09c1\\u09b7\\u09cd\\u09a0\\u09be\\u09a8\\u09c7 \\u09b8\\u09ad\\u09be\\u09aa\\u09a4\\u09bf\\u09a4\\u09cd\\u09ac \\u0995\\u09b0\\u09c7\\u09a8\\u0964 \\u09aa\\u09cd\\u09b0\\u09a7\\u09be\\u09a8\\u09ae\\u09a8\\u09cd\\u09a4\\u09cd\\u09b0\\u09c0\\u09b0 \\u09ae\\u09bf\\u09a1\\u09bf\\u09df\\u09be \\u0989\\u09aa\\u09a6\\u09c7\\u09b7\\u09cd\\u099f\\u09be \\u0987\\u0995\\u09ac\\u09be\\u09b2 \\u09b8\\u09cb\\u09ac\\u09b9\\u09be\\u09a8 \\u099a\\u09cc\\u09a7\\u09c1\\u09b0\\u09c0, \\u09a4\\u09a5\\u09cd\\u09af \\u09aa\\u09cd\\u09b0\\u09a4\\u09bf\\u09ae\\u09a8\\u09cd\\u09a4\\u09cd\\u09b0\\u09c0 \\u0985\\u09cd\\u09af\\u09be\\u09a1\\u09ad\\u09cb\\u0995\\u09c7\\u099f \\u09a4\\u09be\\u09b0\\u09be\\u09a8\\u09be \\u09b9\\u09be\\u09b2\\u09bf\\u09ae, \\u09a4\\u09a5\\u09cd\\u09af \\u09ae\\u09a8\\u09cd\\u09a4\\u09cd\\u09b0\\u09a3\\u09be\\u09b2\\u09df \\u09b8\\u09ae\\u09cd\\u09aa\\u09b0\\u09cd\\u0995\\u09bf\\u09a4 \\u09b8\\u0982\\u09b8\\u09a6\\u09c0\\u09df \\u09b8\\u09cd\\u09a5\\u09be\\u09df\\u09c0 \\u0995\\u09ae\\u09bf\\u099f\\u09bf\\u09b0 \\u09b8\\u09ad\\u09be\\u09aa\\u09a4\\u09bf \\u098f\\u0995\\u09c7\\u098f\\u09ae \\u09b0\\u09b9\\u09ae\\u09a4\\u0989\\u09b2\\u09cd\\u09b2\\u09be\\u09b9 \\u0985\\u09a8\\u09c1\\u09b7\\u09cd\\u09a0\\u09be\\u09a8\\u09c7 \\u09ac\\u09bf\\u09b6\\u09c7\\u09b7 \\u0985\\u09a4\\u09bf\\u09a5\\u09bf \\u09b9\\u09bf\\u09b8\\u09c7\\u09ac\\u09c7 \\u0989\\u09aa\\u09b8\\u09cd\\u09a5\\u09bf\\u09a4 \\u099b\\u09bf\\u09b2\\u09c7\\u09a8\\u0964 \\u09a4\\u09a5\\u09cd\\u09af \\u09b8\\u099a\\u09bf\\u09ac \\u09ae\\u09cb. \\u0986\\u09ac\\u09cd\\u09a6\\u09c1\\u09b2 \\u09ae\\u09be\\u09b2\\u09c7\\u0995 \\u0985\\u09a8\\u09c1\\u09b7\\u09cd\\u09a0\\u09be\\u09a8\\u09c7 \\u09b8\\u09cd\\u09ac\\u09be\\u0997\\u09a4 \\u09ac\\u0995\\u09cd\\u09a4\\u09c3\\u09a4\\u09be \\u0995\\u09b0\\u09c7\\u09a8\\u0964 \\u09ac\\u09be\\u0982\\u09b2\\u09be\\u09a6\\u09c7\\u09b6 \\u09b8\\u09be\\u0982\\u09ac\\u09be\\u09a6\\u09bf\\u0995 \\u0995\\u09b2\\u09cd\\u09af\\u09be\\u09a3 \\u099f\\u09cd\\u09b0\\u09be\\u09b8\\u09cd\\u099f\\u09c7\\u09b0 \\u09ae\\u09b9\\u09be\\u09aa\\u09b0\\u09bf\\u099a\\u09be\\u09b2\\u0995 \\u09b6\\u09be\\u09b9 \\u0986\\u09b2\\u09ae\\u0997\\u09c0\\u09b0\\u0993 \\u0985\\u09a8\\u09c1\\u09b7\\u09cd\\u09a0\\u09be\\u09a8\\u09c7 \\u09ac\\u0995\\u09cd\\u09a4\\u09c3\\u09a4\\u09be \\u0995\\u09b0\\u09c7\\u09a8\\u0964 \\u098f\\u099b\\u09be\\u09dc\\u09be, \\u09ac\\u09be\\u0982\\u09b2\\u09be\\u09a6\\u09c7\\u09b6 \\u09ab\\u09c7\\u09a1\\u09be\\u09b0\\u09c7\\u09b2 \\u09b8\\u09be\\u0982\\u09ac\\u09be\\u09a6\\u09bf\\u0995 \\u0987\\u0989\\u09a8\\u09bf\\u09df\\u09a8\\u09c7\\u09b0 (\\u09ac\\u09bf\\u098f\\u09ab\\u0987\\u0989\\u099c\\u09c7) \\u09b8\\u09ad\\u09be\\u09aa\\u09a4\\u09bf \\u09ae\\u09cb\\u09b2\\u09cd\\u09b2\\u09be \\u099c\\u09be\\u09b2\\u09be\\u09b2, \\u09ae\\u09b9\\u09be\\u09b8\\u099a\\u09bf\\u09ac \\u09b6\\u09be\\u09ac\\u09be\\u09a8 \\u09ae\\u09be\\u09b9\\u09ae\\u09c1\\u09a6, \\u09a2\\u09be\\u0995\\u09be \\u09b8\\u09be\\u0982\\u09ac\\u09be\\u09a6\\u09bf\\u0995 \\u0987\\u0989\\u09a8\\u09bf\\u09df\\u09a8\\u09c7\\u09b0 \\u09b8\\u09ad\\u09be\\u09aa\\u09a4\\u09bf (\\u09a1\\u09bf\\u0987\\u0989\\u099c\\u09c7) \\u0986\\u09ac\\u09c1 \\u099c\\u09be\\u09ab\\u09b0 \\u09b8\\u09c2\\u09b0\\u09cd\\u09af \\u098f\\u09ac\\u0982 \\u09b8\\u09be\\u09a7\\u09be\\u09b0\\u09a3 \\u09b8\\u09ae\\u09cd\\u09aa\\u09be\\u09a6\\u0995 \\u09b8\\u09cb\\u09b9\\u09c7\\u09b2 \\u09b9\\u09be\\u09df\\u09a6\\u09be\\u09b0 \\u099a\\u09cc\\u09a7\\u09c1\\u09b0\\u09c0\\u0993 \\u0985\\u09a8\\u09c1\\u09b7\\u09cd\\u09a0\\u09be\\u09a8\\u09c7 \\u09ac\\u0995\\u09cd\\u09a4\\u09c3\\u09a4\\u09be \\u0995\\u09b0\\u09c7\\u09a8\\u0964\",\n          \"\\u099f\\u09b8 \\u09b9\\u09c7\\u09b0\\u09c7 \\u09ac\\u09cb\\u09b2\\u09bf\\u0982\\u09df\\u09c7 \\u09ac\\u09be\\u0982\\u09b2\\u09be\\u09a6\\u09c7\\u09b6 \\u098f\\u09b6\\u09bf\\u09df\\u09be \\u0995\\u09be\\u09aa\\u09c7\\u09b0 \\u09b7\\u09b7\\u09cd\\u09a0 \\u09ae\\u09cd\\u09af\\u09be\\u099a\\u09c7 \\u09ac\\u09be\\u0982\\u09b2\\u09be\\u09a6\\u09c7\\u09b6 \\u09a6\\u09b2\\u09c7\\u09b0 \\u09ac\\u09bf\\u09aa\\u0995\\u09cd\\u09b7\\u09c7 \\u099f\\u09b8 \\u099c\\u09bf\\u09a4\\u09c7 \\u09aa\\u09cd\\u09b0\\u09a5\\u09ae\\u09c7 \\u09ac\\u09cd\\u09af\\u09be\\u099f \\u0995\\u09b0\\u09be\\u09b0 \\u09b8\\u09bf\\u09a6\\u09cd\\u09a7\\u09be\\u09a8\\u09cd\\u09a4 \\u09a8\\u09bf\\u09df\\u09c7\\u099b\\u09c7\\u09a8 \\u0986\\u09ab\\u0997\\u09be\\u09a8\\u09bf\\u09b8\\u09cd\\u09a4\\u09be\\u09a8 \\u0995\\u09cd\\u09b0\\u09bf\\u0995\\u09c7\\u099f \\u09a6\\u09b2\\u09c7\\u09b0 \\u0985\\u09a7\\u09bf\\u09a8\\u09be\\u09df\\u0995 \\u0986\\u09b8\\u0997\\u09b0 \\u0986\\u09ab\\u0997\\u09be\\u09a8\\u0964 \\u0986\\u09ac\\u09c1\\u09a7\\u09be\\u09ac\\u09bf\\u09a4\\u09c7 \\u0996\\u09c7\\u09b2\\u09be\\u099f\\u09bf \\u0985\\u09a8\\u09c1\\u09b7\\u09cd\\u09a0\\u09bf\\u09a4 \\u09b9\\u099a\\u09cd\\u099b\\u09c7\\u0964 \\u09a6\\u09c7\\u09dc \\u09af\\u09c1\\u0997 \\u0986\\u0997\\u09c7 \\u09ac\\u09be\\u0982\\u09b2\\u09be\\u09a6\\u09c7\\u09b6 \\u09af\\u0996\\u09a8 \\u099f\\u09c7\\u09b8\\u09cd\\u099f \\u0986\\u0999\\u09bf\\u09a8\\u09be\\u09df \\u09aa\\u09be \\u09b0\\u09be\\u0996\\u09c7, \\u0986\\u09ab\\u0997\\u09be\\u09a8\\u09a6\\u09c7\\u09b0 \\u09a4\\u0996\\u09a8 \\u0995\\u09cd\\u09b0\\u09bf\\u0995\\u09c7\\u099f\\u09c7 \\u09b9\\u09be\\u09a4\\u09c7\\u0996\\u09dc\\u09bf\\u0987 \\u09b9\\u09df\\u09a8\\u09bf\\u0964 \\u09e7\\u09ee \\u09ac\\u099b\\u09b0 \\u09aa\\u09b0 \\u0986\\u09a8\\u09cd\\u09a4\\u09b0\\u09cd\\u099c\\u09be\\u09a4\\u09bf\\u0995 \\u0995\\u09cd\\u09b0\\u09bf\\u0995\\u09c7\\u099f\\u09c7 \\u09b8\\u09ac \\u09ab\\u09b0\\u09ae\\u09cd\\u09af\\u09be\\u099f \\u09ae\\u09bf\\u09b2\\u09bf\\u09df\\u09c7 \\u09ae\\u09c1\\u0996\\u09cb\\u09ae\\u09c1\\u0996\\u09bf \\u09b2\\u09dc\\u09be\\u0987\\u09df\\u09c7 \\u09b8\\u09c7\\u0987 \\u0986\\u09ab\\u0997\\u09be\\u09a8\\u09bf\\u09b8\\u09cd\\u09a4\\u09be\\u09a8\\u09c7\\u09b0 \\u099a\\u09c7\\u09df\\u09c7 \\u09aa\\u09bf\\u099b\\u09bf\\u09df\\u09c7 \\u09a5\\u09be\\u0995\\u09be\\u099f\\u09be \\u09ac\\u09be\\u0982\\u09b2\\u09be\\u09a6\\u09c7\\u09b6\\u09c7\\u09b0 \\u099c\\u09a8\\u09cd\\u09af \\u09a8\\u09bf\\u0983\\u09b8\\u09a8\\u09cd\\u09a6\\u09c7\\u09b9\\u09c7 \\u09ac\\u09bf\\u09ac\\u09cd\\u09b0\\u09a4\\u0995\\u09b0 \\u098f\\u0995\\u099f\\u09bf \\u09ac\\u09cd\\u09af\\u09be\\u09aa\\u09be\\u09b0\\u0964 \\u0986\\u09ac\\u09c1\\u09a7\\u09be\\u09ac\\u09bf\\u09a4\\u09c7 \\u098f\\u09b6\\u09bf\\u09df\\u09be \\u0995\\u09be\\u09aa\\u09c7\\u09b0 \\u0997\\u09cd\\u09b0\\u09c1\\u09aa \\u09aa\\u09b0\\u09cd\\u09ac\\u09c7\\u09b0 \\u09b6\\u09c7\\u09b7 \\u09ae\\u09cd\\u09af\\u09be\\u099a\\u09c7 \\u0996\\u09c7\\u09b2\\u099b\\u09c7 \\u09a6\\u09c1\\u2019\\u09a6\\u09b2\\u0964 \\u09a8\\u09bf\\u09df\\u09ae\\u09b0\\u0995\\u09cd\\u09b7\\u09be\\u09b0 \\u098f\\u0987 \\u09ae\\u09cd\\u09af\\u09be\\u099a\\u099f\\u09bf \\u09ac\\u09be\\u0982\\u09b2\\u09be\\u09a6\\u09c7\\u09b6\\u09c7\\u09b0 \\u099c\\u09a8\\u09cd\\u09af \\u09a6\\u09c7\\u09b0\\u09be\\u09a6\\u09c1\\u09a8\\u09c7\\u09b0 \\u0995\\u09cd\\u09b7\\u09a4 \\u09b6\\u09c1\\u0995\\u09be\\u09a8\\u09cb\\u09b0 \\u09a6\\u09be\\u09b0\\u09c1\\u09a3 \\u098f\\u0995\\u099f\\u09bf \\u09b8\\u09c1\\u09af\\u09cb\\u0997\\u0964 \\u0997\\u09a4 \\u099c\\u09c1\\u09a8\\u09c7\\u0987 \\u09ad\\u09be\\u09b0\\u09a4\\u09c7\\u09b0 \\u09a6\\u09c7\\u09b0\\u09be\\u09a6\\u09c1\\u09a8\\u09c7 \\u09a4\\u09bf\\u09a8 \\u09ae\\u09cd\\u09af\\u09be\\u099a\\u09c7\\u09b0 \\u099f\\u09bf-\\u099f\\u09cb\\u09df\\u09c7\\u09a8\\u09cd\\u099f\\u09bf \\u09b8\\u09bf\\u09b0\\u09bf\\u099c\\u09c7\\u09b0 \\u0986\\u09ab\\u0997\\u09be\\u09a8\\u09bf\\u09b8\\u09cd\\u09a4\\u09be\\u09a8\\u09c7\\u09b0 \\u0995\\u09be\\u099b\\u09c7 \\u09e9-\\u09e6\\u09a4\\u09c7 \\u09a7\\u09ac\\u09b2\\u09a7\\u09cb\\u09b2\\u09be\\u0987 \\u09b9\\u0993\\u09df\\u09be\\u09b0 \\u09b2\\u099c\\u09cd\\u099c\\u09be\\u09df \\u09a1\\u09c1\\u09ac\\u09a4\\u09c7 \\u09b9\\u09df\\u09c7\\u099b\\u09bf\\u09b2 \\u09ac\\u09be\\u0982\\u09b2\\u09be\\u09a6\\u09c7\\u09b6\\u0995\\u09c7\\u0964 \\u098f\\u0987 \\u09b8\\u09bf\\u09b0\\u09bf\\u099c\\u099f\\u09bf\\u0987 \\u09ae\\u09c1\\u0996\\u09cb\\u09ae\\u09c1\\u0996\\u09bf \\u09b2\\u09dc\\u09be\\u0987\\u09df\\u09c7 \\u098f\\u0997\\u09bf\\u09df\\u09c7 \\u09a6\\u09bf\\u09df\\u09c7\\u099b\\u09c7 \\u0986\\u09ab\\u0997\\u09be\\u09a8\\u09a6\\u09c7\\u09b0\\u0964 \\u0985\\u09ac\\u09b6\\u09cd\\u09af \\u09b6\\u09c1\\u09a7\\u09c1 \\u0993\\u09df\\u09be\\u09a8\\u09a1\\u09c7\\u09b0 \\u0995\\u09cd\\u09b7\\u09c7\\u09a4\\u09cd\\u09b0\\u09c7 \\u098f\\u0997\\u09bf\\u09df\\u09c7 \\u09ac\\u09be\\u0982\\u09b2\\u09be\\u09a6\\u09c7\\u09b6\\u0964 \\u0993\\u09df\\u09be\\u09a8\\u09a1\\u09c7\\u09a4\\u09c7 \\u09a6\\u09c1\\u2019\\u09a6\\u09b2\\u09c7\\u09b0 \\u0986\\u0997\\u09c7\\u09b0 \\u09aa\\u09be\\u0981\\u099a \\u09ae\\u09cd\\u09af\\u09be\\u099a\\u09c7\\u09b0 \\u09a4\\u09bf\\u09a8\\u099f\\u09bf\\u09a4\\u09c7 \\u099c\\u09bf\\u09a4\\u09c7\\u099b\\u09c7 \\u09ac\\u09be\\u0982\\u09b2\\u09be\\u09a6\\u09c7\\u09b6, \\u09a6\\u09c1\\u099f\\u09bf\\u09a4\\u09c7 \\u0986\\u09ab\\u0997\\u09be\\u09a8\\u09bf\\u09b8\\u09cd\\u09a4\\u09be\\u09a8\\u0964 \\u0986\\u09b0 \\u099f\\u09bf-\\u099f\\u09cb\\u09df\\u09c7\\u09a8\\u09cd\\u099f\\u09bf\\u09a4\\u09c7 \\u099a\\u09be\\u09b0 \\u09ae\\u09cd\\u09af\\u09be\\u099a\\u09c7 \\u0986\\u09ab\\u0997\\u09be\\u09a8\\u09a6\\u09c7\\u09b0 \\u09a4\\u09bf\\u09a8 \\u099c\\u09df\\u09c7\\u09b0 \\u09ac\\u09bf\\u09aa\\u09b0\\u09c0\\u09a4\\u09c7 \\u09ac\\u09be\\u0982\\u09b2\\u09be\\u09a6\\u09c7\\u09b6\\u09c7\\u09b0 \\u099c\\u09a8\\u09cd\\u09af \\u098f\\u0995\\u099f\\u09bf\\u0964 \\u09b8\\u09ac\\u09ae\\u09bf\\u09b2\\u09bf\\u09df\\u09c7 \\u0986\\u09a8\\u09cd\\u09a4\\u09b0\\u09cd\\u099c\\u09be\\u09a4\\u09bf\\u0995 \\u0995\\u09cd\\u09b0\\u09bf\\u0995\\u09c7\\u099f\\u09c7 \\u09a8\\u09df\\u09ac\\u09be\\u09b0\\u09c7\\u09b0 \\u09a6\\u09c7\\u0996\\u09be\\u09df \\u09ac\\u09be\\u0982\\u09b2\\u09be\\u09a6\\u09c7\\u09b6\\u09c7\\u09b0 \\u099c\\u09df \\u099a\\u09be\\u09b0\\u099f\\u09bf, \\u0986\\u09ab\\u0997\\u09be\\u09a8\\u09bf\\u09b8\\u09cd\\u09a4\\u09be\\u09a8\\u09c7\\u09b0 \\u09aa\\u09be\\u0981\\u099a\\u099f\\u09bf\\u0964 \\u0986\\u099c \\u0993\\u09df\\u09be\\u09a8\\u09a1\\u09c7\\u09a4\\u09c7 \\u09a6\\u09c1\\u2019\\u09a6\\u09b2\\u09c7\\u09b0 \\u09b7\\u09b7\\u09cd\\u09a0 \\u09b8\\u09be\\u0995\\u09cd\\u09b7\\u09be\\u09a4\\u09c7 \\u09ac\\u09be\\u0982\\u09b2\\u09be\\u09a6\\u09c7\\u09b6 \\u099c\\u09bf\\u09a4\\u09b2\\u09c7 \\u09ae\\u09c1\\u0996\\u09cb\\u09ae\\u09c1\\u0996\\u09bf \\u09b2\\u09dc\\u09be\\u0987\\u09df\\u09c7 \\u09b8\\u09ae\\u09a4\\u09be \\u09ab\\u09c7\\u09b0\\u09be\\u09b0 \\u09aa\\u09be\\u09b6\\u09be\\u09aa\\u09be\\u09b6\\u09bf \\u09a6\\u09c7\\u09b0\\u09be\\u09a6\\u09c1\\u09a8\\u09c7\\u09b0 \\u099c\\u09cd\\u09ac\\u09be\\u09b2\\u09be\\u0993 \\u0995\\u09bf\\u099b\\u09c1\\u099f\\u09be \\u099c\\u09c1\\u09dc\\u09be\\u09ac\\u09c7\\u0964 \\u09a6\\u09c1\\u2019\\u09a6\\u09b2\\u0987 \\u09b6\\u09cd\\u09b0\\u09c0\\u09b2\\u0982\\u0995\\u09be\\u0995\\u09c7 \\u0989\\u09dc\\u09bf\\u09df\\u09c7 \\u09a6\\u09bf\\u09df\\u09c7 \\u09b6\\u09c1\\u09b0\\u09c1 \\u0995\\u09b0\\u09c7\\u099b\\u09c7 \\u098f\\u09b6\\u09bf\\u09df\\u09be \\u0995\\u09be\\u09aa \\u09af\\u09be\\u09a4\\u09cd\\u09b0\\u09be\\u0964 \\u098f\\u0995 \\u099c\\u09df\\u09c7\\u0987 \\u09a8\\u09bf\\u09b6\\u09cd\\u099a\\u09bf\\u09a4 \\u09b9\\u09df\\u09c7 \\u0997\\u09c7\\u099b\\u09c7 \\u09b8\\u09c1\\u09aa\\u09be\\u09b0 \\u09ab\\u09cb\\u09b0\\u09c7\\u09b0 \\u099f\\u09bf\\u0995\\u09bf\\u099f\\u0964 \\u099f\\u09c1\\u09b0\\u09cd\\u09a8\\u09be\\u09ae\\u09c7\\u09a8\\u09cd\\u099f\\u09c7\\u09b0 \\u09ae\\u09be\\u099d\\u09aa\\u09a5\\u09c7 \\u09b8\\u09c2\\u099a\\u09bf\\u09b0 \\u0986\\u099a\\u09ae\\u0995\\u09be \\u09ac\\u09a6\\u09b2\\u09c7 \\u0997\\u09cd\\u09b0\\u09c1\\u09aa\\u09b8\\u09c7\\u09b0\\u09be \\u09b9\\u0993\\u09df\\u09be\\u09b0 \\u09ac\\u09cd\\u09af\\u09be\\u09aa\\u09be\\u09b0\\u099f\\u09bf \\u09ae\\u09c2\\u09b2\\u09cd\\u09af\\u09b9\\u09c0\\u09a8 \\u09b9\\u09df\\u09c7 \\u09af\\u09be\\u0993\\u09df\\u09be\\u09df \\u0986\\u099c\\u0995\\u09c7\\u09b0 \\u09ae\\u09cd\\u09af\\u09be\\u099a\\u099f\\u09bf \\u09b6\\u09c1\\u09a7\\u09c1\\u0987 \\u09ae\\u09b0\\u09cd\\u09af\\u09be\\u09a6\\u09be\\u09b0 \\u09b2\\u09dc\\u09be\\u0987\\u0964\",\n          \"\\u0986\\u0987\\u09a8\\u0997\\u09a4 \\u09ad\\u09bf\\u09a4\\u09cd\\u09a4\\u09bf \\u09aa\\u09c7\\u09b2\\u09c7\\u0987 \\u0987\\u09ad\\u09bf\\u098f\\u09ae \\u09ac\\u09cd\\u09af\\u09ac\\u09b9\\u09be\\u09b0: \\u09b8\\u09bf\\u0987\\u09b8\\u09bf \\ufeff\\u0986\\u0987\\u09a8\\u0997\\u09a4 \\u09ad\\u09bf\\u09a4\\u09cd\\u09a4\\u09bf \\u09aa\\u09c7\\u09b2\\u09c7\\u0987 \\u0986\\u0997\\u09be\\u09ae\\u09c0 \\u099c\\u09be\\u09a4\\u09c0\\u09df \\u09b8\\u0982\\u09b8\\u09a6 \\u09a8\\u09bf\\u09b0\\u09cd\\u09ac\\u09be\\u099a\\u09a8\\u09c7 \\u0987\\u09b2\\u09c7\\u0995\\u099f\\u09cd\\u09b0\\u09a8\\u09bf\\u0995 \\u09ad\\u09cb\\u099f\\u09bf\\u0982 \\u09ae\\u09c7\\u09b6\\u09bf\\u09a8 (\\u0987\\u09ad\\u09bf\\u098f\\u09ae) \\u09ac\\u09cd\\u09af\\u09ac\\u09b9\\u09be\\u09b0 \\u0995\\u09b0\\u09be \\u09b9\\u09ac\\u09c7 \\u09ac\\u09b2\\u09c7 \\u099c\\u09be\\u09a8\\u09bf\\u09df\\u09c7\\u099b\\u09c7\\u09a8 \\u09aa\\u09cd\\u09b0\\u09a7\\u09be\\u09a8 \\u09a8\\u09bf\\u09b0\\u09cd\\u09ac\\u09be\\u099a\\u09a8 \\u0995\\u09ae\\u09bf\\u09b6\\u09a8\\u09be\\u09b0 (\\u09b8\\u09bf\\u0987\\u09b8\\u09bf) \\u0995\\u09c7 \\u098f\\u09ae \\u09a8\\u09c1\\u09b0\\u09c1\\u09b2 \\u09b9\\u09c1\\u09a6\\u09be\\u0964 \\u09b0\\u09be\\u099c\\u09a7\\u09be\\u09a8\\u09c0\\u09b0 \\u09a8\\u09bf\\u09b0\\u09cd\\u09ac\\u09be\\u099a\\u09a8 \\u09aa\\u09cd\\u09b0\\u09b6\\u09bf\\u0995\\u09cd\\u09b7\\u09a3 \\u0987\\u09a8\\u09b8\\u09cd\\u099f\\u09bf\\u099f\\u09bf\\u0989\\u099f\\u09c7 \\u09b6\\u09a8\\u09bf\\u09ac\\u09be\\u09b0 \\u09a8\\u09bf\\u09b0\\u09cd\\u09ac\\u09be\\u099a\\u09a8 \\u0995\\u09b0\\u09cd\\u09ae\\u0995\\u09b0\\u09cd\\u09a4\\u09be\\u09a6\\u09c7\\u09b0 \\u0987\\u09ad\\u09bf\\u098f\\u09ae \\u09ac\\u09bf\\u09b7\\u09df\\u0995 \\u09aa\\u09cd\\u09b0\\u09b6\\u09bf\\u0995\\u09cd\\u09b7\\u09a3 \\u0995\\u09b0\\u09cd\\u09ae\\u09b6\\u09be\\u09b2\\u09be\\u09b0 \\u0989\\u09a6\\u09cd\\u09ac\\u09cb\\u09a7\\u09a8\\u09c0 \\u0985\\u09a8\\u09c1\\u09b7\\u09cd\\u09a0\\u09be\\u09a8\\u09c7 \\u09a4\\u09bf\\u09a8\\u09bf \\u098f \\u0995\\u09a5\\u09be \\u09ac\\u09b2\\u09c7\\u09a8\\u0964 \\u0985\\u09a8\\u09c1\\u09b7\\u09cd\\u09a0\\u09be\\u09a8\\u09c7 \\u09a8\\u09bf\\u09b0\\u09cd\\u09ac\\u09be\\u099a\\u09a8 \\u0995\\u09b0\\u09cd\\u09ae\\u0995\\u09b0\\u09cd\\u09a4\\u09be\\u09a6\\u09c7\\u09b0 \\u0989\\u09a6\\u09cd\\u09a6\\u09c7\\u09b6\\u09cd\\u09af\\u09c7 \\u09b8\\u09bf\\u0987\\u09b8\\u09bf \\u09ac\\u09b2\\u09c7\\u09a8, '\\u0986\\u09aa\\u09a8\\u09be\\u09b0\\u09be \\u09af\\u09a6\\u09bf \\u0987\\u09ad\\u09bf\\u098f\\u09ae \\u09ac\\u09cd\\u09af\\u09ac\\u09b9\\u09be\\u09b0\\u09c7 \\u09b8\\u09ab\\u09b2 \\u09b9\\u09a8 \\u098f\\u09ac\\u0982 \\u0987\\u09ad\\u09bf\\u098f\\u09ae \\u09af\\u09a6\\u09bf \\u0986\\u0987\\u09a8\\u0997\\u09a4 \\u09ad\\u09bf\\u09a4\\u09cd\\u09a4\\u09bf \\u09aa\\u09be\\u09df, \\u09a4\\u09ac\\u09c7\\u0987 \\u0987\\u09ad\\u09bf\\u098f\\u09ae \\u09ac\\u09cd\\u09af\\u09ac\\u09b9\\u09be\\u09b0 \\u0995\\u09b0\\u09be \\u09b9\\u09ac\\u09c7\\u0964' \\u09a4\\u09ac\\u09c7 \\u09a8\\u09bf\\u09b0\\u09cd\\u09ac\\u09be\\u099a\\u09a8 \\u0995\\u09ae\\u09bf\\u09b6\\u09a8\\u09c7\\u09b0 \\u09b8\\u0995\\u09cd\\u09b7\\u09ae\\u09a4\\u09be\\u09b0 \\u0985\\u09a4\\u09bf\\u09b0\\u09bf\\u0995\\u09cd\\u09a4 \\u0987\\u09ad\\u09bf\\u098f\\u09ae \\u09a8\\u09bf\\u09b0\\u09cd\\u09ac\\u09be\\u099a\\u09a8\\u09c7 \\u09ac\\u09cd\\u09af\\u09ac\\u09b9\\u09be\\u09b0 \\u0995\\u09b0\\u09be \\u09b9\\u09ac\\u09c7 \\u09a8\\u09be \\u099c\\u09be\\u09a8\\u09bf\\u09df\\u09c7 \\u09a4\\u09bf\\u09a8\\u09bf \\u09ac\\u09b2\\u09c7\\u09a8, \\u0986\\u09ae\\u09b0\\u09be \\u09af\\u09a4\\u099f\\u09c1\\u0995\\u09c1 \\u09aa\\u09be\\u09b0\\u09ac\\u09cb, \\u09a4\\u09a4\\u099f\\u09c1\\u0995\\u09c1 \\u09ac\\u09cd\\u09af\\u09ac\\u09b9\\u09be\\u09b0 \\u0995\\u09b0\\u09ac\\u09cb\\u0964 \\u0985\\u09a4\\u09bf\\u09b0\\u09bf\\u0995\\u09cd\\u09a4 \\u099a\\u09be\\u09aa\\u09bf\\u09df\\u09c7 \\u09a6\\u09c7\\u0993\\u09df\\u09be \\u09b9\\u09ac\\u09c7 \\u09a8\\u09be\\u0964' \\u0987\\u09ad\\u09bf\\u098f\\u09ae \\u09a8\\u09bf\\u09df\\u09c7 \\u09ae\\u09be\\u09a8\\u09c1\\u09b7\\u09c7\\u09b0 \\u09ae\\u09a8\\u09c7\\u09b0 \\u09b8\\u09a8\\u09cd\\u09a6\\u09c7\\u09b9 \\u09a6\\u09c2\\u09b0 \\u0995\\u09b0\\u09a4\\u09c7 \\u09aa\\u09cd\\u09b0\\u09df\\u09cb\\u099c\\u09a8\\u09c0\\u09df \\u0995\\u09b0\\u09cd\\u09ae\\u09b8\\u09c2\\u099a\\u09bf \\u0997\\u09cd\\u09b0\\u09b9\\u09a3\\u09c7 \\u09a8\\u09bf\\u09b0\\u09cd\\u09ac\\u09be\\u099a\\u09a8 \\u0995\\u09b0\\u09cd\\u09ae\\u0995\\u09b0\\u09cd\\u09a4\\u09be\\u09a6\\u09c7\\u09b0 \\u09a8\\u09bf\\u09b0\\u09cd\\u09a6\\u09c7\\u09b6 \\u09a6\\u09bf\\u09df\\u09c7 \\u09b8\\u09bf\\u0987\\u09b8\\u09bf \\u09ac\\u09b2\\u09c7\\u09a8, '\\u0987\\u09ad\\u09bf\\u098f\\u09ae \\u0995\\u09c0\\u09ad\\u09be\\u09ac\\u09c7 \\u09ac\\u09cd\\u09af\\u09ac\\u09b9\\u09be\\u09b0 \\u0995\\u09b0\\u09be \\u09b9\\u09ac\\u09c7, \\u09b8\\u09c7\\u099f\\u09be \\u099c\\u09be\\u09a8\\u09be \\u09a8\\u09be \\u09a5\\u09be\\u0995\\u09b2\\u09c7 \\u09a4\\u09cb \\u09ae\\u09be\\u09a8\\u09c1\\u09b7\\u09c7\\u09b0 \\u09ae\\u09a8\\u09c7 \\u09aa\\u09cd\\u09b0\\u09b6\\u09cd\\u09a8 \\u09a5\\u09c7\\u0995\\u09c7\\u0987 \\u09af\\u09be\\u09ac\\u09c7\\u0964 \\u0987\\u09ad\\u09bf\\u098f\\u09ae\\u09c7\\u09b0 \\u0995\\u09be\\u09b0\\u09bf\\u0997\\u09b0\\u09bf \\u09a6\\u09bf\\u0995 \\u09b8\\u09ae\\u09cd\\u09aa\\u09b0\\u09cd\\u0995\\u09c7 \\u09a7\\u09be\\u09b0\\u09a3\\u09be \\u09a8\\u09be \\u09a5\\u09be\\u0995\\u09b2\\u09c7 \\u09af\\u09a8\\u09cd\\u09a4\\u09cd\\u09b0\\u099f\\u09bf \\u09b8\\u09ae\\u09cd\\u09aa\\u09b0\\u09cd\\u0995\\u09c7 \\u09a4\\u09be\\u09a6\\u09c7\\u09b0 \\u09aa\\u09cd\\u09b0\\u09b6\\u09cd\\u09a8 \\u09a5\\u09c7\\u0995\\u09c7\\u0987 \\u09af\\u09be\\u09ac\\u09c7\\u0964 \\u09a4\\u09be\\u0987 \\u0987\\u09ad\\u09bf\\u098f\\u09ae \\u0995\\u09c0, \\u098f\\u09b0 \\u0989\\u09aa\\u0995\\u09be\\u09b0\\u09bf\\u09a4\\u09be \\u0995\\u09c0\\u2014 \\u09b8\\u09c7 \\u09ac\\u09bf\\u09b7\\u09df\\u09c7 \\u09aa\\u09cd\\u09b0\\u099a\\u09be\\u09b0 \\u099a\\u09be\\u09b2\\u09be\\u09a4\\u09c7 \\u09b9\\u09ac\\u09c7\\u0964' \\u0985\\u09a8\\u09c1\\u09b7\\u09cd\\u09a0\\u09be\\u09a8\\u09c7 \\u09b8\\u09ad\\u09be\\u09aa\\u09a4\\u09bf\\u09a4\\u09cd\\u09ac \\u0995\\u09b0\\u09c7\\u09a8 \\u09a8\\u09bf\\u09b0\\u09cd\\u09ac\\u09be\\u099a\\u09a8 \\u09aa\\u09cd\\u09b0\\u09b6\\u09bf\\u0995\\u09cd\\u09b7\\u09a3 \\u0987\\u09a8\\u09b8\\u09cd\\u099f\\u09bf\\u099f\\u09bf\\u0989\\u099f\\u09c7\\u09b0 \\u09ae\\u09b9\\u09be\\u09aa\\u09b0\\u09bf\\u099a\\u09be\\u09b2\\u0995 \\u09ae\\u09cb\\u09b8\\u09cd\\u09a4\\u09ab\\u09be \\u09ab\\u09be\\u09b0\\u09c1\\u0995\\u0964 \\u098f\\u09a4\\u09c7 \\u0985\\u09a8\\u09cd\\u09af\\u09a6\\u09c7\\u09b0 \\u09ae\\u09a7\\u09cd\\u09af\\u09c7 \\u0987\\u09b8\\u09bf \\u09b8\\u099a\\u09bf\\u09ac\\u09be\\u09b2\\u09df\\u09c7\\u09b0 \\u0985\\u09a4\\u09bf\\u09b0\\u09bf\\u0995\\u09cd\\u09a4 \\u09b8\\u099a\\u09bf\\u09ac \\u09ae\\u09cb\\u0996\\u09b2\\u09c7\\u099b\\u09c1\\u09b0 \\u09b0\\u09b9\\u09ae\\u09be\\u09a8 \\u0993 \\u09aa\\u09b0\\u09bf\\u099a\\u09be\\u09b2\\u0995 (\\u09aa\\u09cd\\u09b0\\u09b6\\u09bf\\u0995\\u09cd\\u09b7\\u09a3) \\u09ac\\u09c7\\u09b2\\u09be\\u09df\\u09c7\\u09a4 \\u09b9\\u09cb\\u09b8\\u09c7\\u09a8 \\u09ac\\u0995\\u09cd\\u09a4\\u09ac\\u09cd\\u09af \\u09a6\\u09c7\\u09a8\\u0964\"\n        ],\n        \"semantic_type\": \"\",\n        \"description\": \"\"\n      }\n    },\n    {\n      \"column\": \"label\",\n      \"properties\": {\n        \"dtype\": \"number\",\n        \"std\": 0,\n        \"min\": 1,\n        \"max\": 1,\n        \"num_unique_values\": 1,\n        \"samples\": [\n          1\n        ],\n        \"semantic_type\": \"\",\n        \"description\": \"\"\n      }\n    }\n  ]\n}"
            }
          },
          "metadata": {}
        }
      ]
    },
    {
      "cell_type": "code",
      "metadata": {
        "colab": {
          "base_uri": "https://localhost:8080/",
          "height": 206
        },
        "id": "39842241",
        "outputId": "ca398265-b44d-4f2c-8484-b794b9c4d228"
      },
      "source": [
        "df_upsampled = df_upsampled.rename(columns={'text_no_stopwords': 'cleaned_text'})\n",
        "display(df_upsampled.head())"
      ],
      "execution_count": 18,
      "outputs": [
        {
          "output_type": "display_data",
          "data": {
            "text/plain": [
              "                                                text  label\n",
              "0  হঠাৎ আফগান ক্রিকেট বোর্ড প্রধানের পদত্যাগ ক্রি...      1\n",
              "1  টস হেরে বোলিংয়ে বাংলাদেশ এশিয়া কাপের ষষ্ঠ ম্যা...      1\n",
              "2  রাজধানীতে বিশেষ অভিযানে আটক ৪৩ রাজধানীতে মাদক ...      1\n",
              "3  উস্কানি রোধে নজরদারি থাকবে সামাজিক যোগাযোগ মাধ...      1\n",
              "4  'যেখানে তেল আসত ৭ দিনে, এখন তা আসবে অতি দ্রুত'...      1"
            ],
            "text/html": [
              "\n",
              "  <div id=\"df-9302f624-4d34-440f-bd63-4a0041480683\" class=\"colab-df-container\">\n",
              "    <div>\n",
              "<style scoped>\n",
              "    .dataframe tbody tr th:only-of-type {\n",
              "        vertical-align: middle;\n",
              "    }\n",
              "\n",
              "    .dataframe tbody tr th {\n",
              "        vertical-align: top;\n",
              "    }\n",
              "\n",
              "    .dataframe thead th {\n",
              "        text-align: right;\n",
              "    }\n",
              "</style>\n",
              "<table border=\"1\" class=\"dataframe\">\n",
              "  <thead>\n",
              "    <tr style=\"text-align: right;\">\n",
              "      <th></th>\n",
              "      <th>text</th>\n",
              "      <th>label</th>\n",
              "    </tr>\n",
              "  </thead>\n",
              "  <tbody>\n",
              "    <tr>\n",
              "      <th>0</th>\n",
              "      <td>হঠাৎ আফগান ক্রিকেট বোর্ড প্রধানের পদত্যাগ ক্রি...</td>\n",
              "      <td>1</td>\n",
              "    </tr>\n",
              "    <tr>\n",
              "      <th>1</th>\n",
              "      <td>টস হেরে বোলিংয়ে বাংলাদেশ এশিয়া কাপের ষষ্ঠ ম্যা...</td>\n",
              "      <td>1</td>\n",
              "    </tr>\n",
              "    <tr>\n",
              "      <th>2</th>\n",
              "      <td>রাজধানীতে বিশেষ অভিযানে আটক ৪৩ রাজধানীতে মাদক ...</td>\n",
              "      <td>1</td>\n",
              "    </tr>\n",
              "    <tr>\n",
              "      <th>3</th>\n",
              "      <td>উস্কানি রোধে নজরদারি থাকবে সামাজিক যোগাযোগ মাধ...</td>\n",
              "      <td>1</td>\n",
              "    </tr>\n",
              "    <tr>\n",
              "      <th>4</th>\n",
              "      <td>'যেখানে তেল আসত ৭ দিনে, এখন তা আসবে অতি দ্রুত'...</td>\n",
              "      <td>1</td>\n",
              "    </tr>\n",
              "  </tbody>\n",
              "</table>\n",
              "</div>\n",
              "    <div class=\"colab-df-buttons\">\n",
              "\n",
              "  <div class=\"colab-df-container\">\n",
              "    <button class=\"colab-df-convert\" onclick=\"convertToInteractive('df-9302f624-4d34-440f-bd63-4a0041480683')\"\n",
              "            title=\"Convert this dataframe to an interactive table.\"\n",
              "            style=\"display:none;\">\n",
              "\n",
              "  <svg xmlns=\"http://www.w3.org/2000/svg\" height=\"24px\" viewBox=\"0 -960 960 960\">\n",
              "    <path d=\"M120-120v-720h720v720H120Zm60-500h600v-160H180v160Zm220 220h160v-160H400v160Zm0 220h160v-160H400v160ZM180-400h160v-160H180v160Zm440 0h160v-160H620v160ZM180-180h160v-160H180v160Zm440 0h160v-160H620v160Z\"/>\n",
              "  </svg>\n",
              "    </button>\n",
              "\n",
              "  <style>\n",
              "    .colab-df-container {\n",
              "      display:flex;\n",
              "      gap: 12px;\n",
              "    }\n",
              "\n",
              "    .colab-df-convert {\n",
              "      background-color: #E8F0FE;\n",
              "      border: none;\n",
              "      border-radius: 50%;\n",
              "      cursor: pointer;\n",
              "      display: none;\n",
              "      fill: #1967D2;\n",
              "      height: 32px;\n",
              "      padding: 0 0 0 0;\n",
              "      width: 32px;\n",
              "    }\n",
              "\n",
              "    .colab-df-convert:hover {\n",
              "      background-color: #E2EBFA;\n",
              "      box-shadow: 0px 1px 2px rgba(60, 64, 67, 0.3), 0px 1px 3px 1px rgba(60, 64, 67, 0.15);\n",
              "      fill: #174EA6;\n",
              "    }\n",
              "\n",
              "    .colab-df-buttons div {\n",
              "      margin-bottom: 4px;\n",
              "    }\n",
              "\n",
              "    [theme=dark] .colab-df-convert {\n",
              "      background-color: #3B4455;\n",
              "      fill: #D2E3FC;\n",
              "    }\n",
              "\n",
              "    [theme=dark] .colab-df-convert:hover {\n",
              "      background-color: #434B5C;\n",
              "      box-shadow: 0px 1px 3px 1px rgba(0, 0, 0, 0.15);\n",
              "      filter: drop-shadow(0px 1px 2px rgba(0, 0, 0, 0.3));\n",
              "      fill: #FFFFFF;\n",
              "    }\n",
              "  </style>\n",
              "\n",
              "    <script>\n",
              "      const buttonEl =\n",
              "        document.querySelector('#df-9302f624-4d34-440f-bd63-4a0041480683 button.colab-df-convert');\n",
              "      buttonEl.style.display =\n",
              "        google.colab.kernel.accessAllowed ? 'block' : 'none';\n",
              "\n",
              "      async function convertToInteractive(key) {\n",
              "        const element = document.querySelector('#df-9302f624-4d34-440f-bd63-4a0041480683');\n",
              "        const dataTable =\n",
              "          await google.colab.kernel.invokeFunction('convertToInteractive',\n",
              "                                                    [key], {});\n",
              "        if (!dataTable) return;\n",
              "\n",
              "        const docLinkHtml = 'Like what you see? Visit the ' +\n",
              "          '<a target=\"_blank\" href=https://colab.research.google.com/notebooks/data_table.ipynb>data table notebook</a>'\n",
              "          + ' to learn more about interactive tables.';\n",
              "        element.innerHTML = '';\n",
              "        dataTable['output_type'] = 'display_data';\n",
              "        await google.colab.output.renderOutput(dataTable, element);\n",
              "        const docLink = document.createElement('div');\n",
              "        docLink.innerHTML = docLinkHtml;\n",
              "        element.appendChild(docLink);\n",
              "      }\n",
              "    </script>\n",
              "  </div>\n",
              "\n",
              "\n",
              "    <div id=\"df-f3f2d43c-24db-462e-a035-1fb28eb05ffa\">\n",
              "      <button class=\"colab-df-quickchart\" onclick=\"quickchart('df-f3f2d43c-24db-462e-a035-1fb28eb05ffa')\"\n",
              "                title=\"Suggest charts\"\n",
              "                style=\"display:none;\">\n",
              "\n",
              "<svg xmlns=\"http://www.w3.org/2000/svg\" height=\"24px\"viewBox=\"0 0 24 24\"\n",
              "     width=\"24px\">\n",
              "    <g>\n",
              "        <path d=\"M19 3H5c-1.1 0-2 .9-2 2v14c0 1.1.9 2 2 2h14c1.1 0 2-.9 2-2V5c0-1.1-.9-2-2-2zM9 17H7v-7h2v7zm4 0h-2V7h2v10zm4 0h-2v-4h2v4z\"/>\n",
              "    </g>\n",
              "</svg>\n",
              "      </button>\n",
              "\n",
              "<style>\n",
              "  .colab-df-quickchart {\n",
              "      --bg-color: #E8F0FE;\n",
              "      --fill-color: #1967D2;\n",
              "      --hover-bg-color: #E2EBFA;\n",
              "      --hover-fill-color: #174EA6;\n",
              "      --disabled-fill-color: #AAA;\n",
              "      --disabled-bg-color: #DDD;\n",
              "  }\n",
              "\n",
              "  [theme=dark] .colab-df-quickchart {\n",
              "      --bg-color: #3B4455;\n",
              "      --fill-color: #D2E3FC;\n",
              "      --hover-bg-color: #434B5C;\n",
              "      --hover-fill-color: #FFFFFF;\n",
              "      --disabled-bg-color: #3B4455;\n",
              "      --disabled-fill-color: #666;\n",
              "  }\n",
              "\n",
              "  .colab-df-quickchart {\n",
              "    background-color: var(--bg-color);\n",
              "    border: none;\n",
              "    border-radius: 50%;\n",
              "    cursor: pointer;\n",
              "    display: none;\n",
              "    fill: var(--fill-color);\n",
              "    height: 32px;\n",
              "    padding: 0;\n",
              "    width: 32px;\n",
              "  }\n",
              "\n",
              "  .colab-df-quickchart:hover {\n",
              "    background-color: var(--hover-bg-color);\n",
              "    box-shadow: 0 1px 2px rgba(60, 64, 67, 0.3), 0 1px 3px 1px rgba(60, 64, 67, 0.15);\n",
              "    fill: var(--button-hover-fill-color);\n",
              "  }\n",
              "\n",
              "  .colab-df-quickchart-complete:disabled,\n",
              "  .colab-df-quickchart-complete:disabled:hover {\n",
              "    background-color: var(--disabled-bg-color);\n",
              "    fill: var(--disabled-fill-color);\n",
              "    box-shadow: none;\n",
              "  }\n",
              "\n",
              "  .colab-df-spinner {\n",
              "    border: 2px solid var(--fill-color);\n",
              "    border-color: transparent;\n",
              "    border-bottom-color: var(--fill-color);\n",
              "    animation:\n",
              "      spin 1s steps(1) infinite;\n",
              "  }\n",
              "\n",
              "  @keyframes spin {\n",
              "    0% {\n",
              "      border-color: transparent;\n",
              "      border-bottom-color: var(--fill-color);\n",
              "      border-left-color: var(--fill-color);\n",
              "    }\n",
              "    20% {\n",
              "      border-color: transparent;\n",
              "      border-left-color: var(--fill-color);\n",
              "      border-top-color: var(--fill-color);\n",
              "    }\n",
              "    30% {\n",
              "      border-color: transparent;\n",
              "      border-left-color: var(--fill-color);\n",
              "      border-top-color: var(--fill-color);\n",
              "      border-right-color: var(--fill-color);\n",
              "    }\n",
              "    40% {\n",
              "      border-color: transparent;\n",
              "      border-right-color: var(--fill-color);\n",
              "      border-top-color: var(--fill-color);\n",
              "    }\n",
              "    60% {\n",
              "      border-color: transparent;\n",
              "      border-right-color: var(--fill-color);\n",
              "    }\n",
              "    80% {\n",
              "      border-color: transparent;\n",
              "      border-right-color: var(--fill-color);\n",
              "      border-bottom-color: var(--fill-color);\n",
              "    }\n",
              "    90% {\n",
              "      border-color: transparent;\n",
              "      border-bottom-color: var(--fill-color);\n",
              "    }\n",
              "  }\n",
              "</style>\n",
              "\n",
              "      <script>\n",
              "        async function quickchart(key) {\n",
              "          const quickchartButtonEl =\n",
              "            document.querySelector('#' + key + ' button');\n",
              "          quickchartButtonEl.disabled = true;  // To prevent multiple clicks.\n",
              "          quickchartButtonEl.classList.add('colab-df-spinner');\n",
              "          try {\n",
              "            const charts = await google.colab.kernel.invokeFunction(\n",
              "                'suggestCharts', [key], {});\n",
              "          } catch (error) {\n",
              "            console.error('Error during call to suggestCharts:', error);\n",
              "          }\n",
              "          quickchartButtonEl.classList.remove('colab-df-spinner');\n",
              "          quickchartButtonEl.classList.add('colab-df-quickchart-complete');\n",
              "        }\n",
              "        (() => {\n",
              "          let quickchartButtonEl =\n",
              "            document.querySelector('#df-f3f2d43c-24db-462e-a035-1fb28eb05ffa button');\n",
              "          quickchartButtonEl.style.display =\n",
              "            google.colab.kernel.accessAllowed ? 'block' : 'none';\n",
              "        })();\n",
              "      </script>\n",
              "    </div>\n",
              "\n",
              "    </div>\n",
              "  </div>\n"
            ],
            "application/vnd.google.colaboratory.intrinsic+json": {
              "type": "dataframe",
              "summary": "{\n  \"name\": \"display(df_upsampled\",\n  \"rows\": 5,\n  \"fields\": [\n    {\n      \"column\": \"text\",\n      \"properties\": {\n        \"dtype\": \"string\",\n        \"num_unique_values\": 5,\n        \"samples\": [\n          \"\\u099f\\u09b8 \\u09b9\\u09c7\\u09b0\\u09c7 \\u09ac\\u09cb\\u09b2\\u09bf\\u0982\\u09df\\u09c7 \\u09ac\\u09be\\u0982\\u09b2\\u09be\\u09a6\\u09c7\\u09b6 \\u098f\\u09b6\\u09bf\\u09df\\u09be \\u0995\\u09be\\u09aa\\u09c7\\u09b0 \\u09b7\\u09b7\\u09cd\\u09a0 \\u09ae\\u09cd\\u09af\\u09be\\u099a\\u09c7 \\u09ac\\u09be\\u0982\\u09b2\\u09be\\u09a6\\u09c7\\u09b6 \\u09a6\\u09b2\\u09c7\\u09b0 \\u09ac\\u09bf\\u09aa\\u0995\\u09cd\\u09b7\\u09c7 \\u099f\\u09b8 \\u099c\\u09bf\\u09a4\\u09c7 \\u09aa\\u09cd\\u09b0\\u09a5\\u09ae\\u09c7 \\u09ac\\u09cd\\u09af\\u09be\\u099f \\u0995\\u09b0\\u09be\\u09b0 \\u09b8\\u09bf\\u09a6\\u09cd\\u09a7\\u09be\\u09a8\\u09cd\\u09a4 \\u09a8\\u09bf\\u09df\\u09c7\\u099b\\u09c7\\u09a8 \\u0986\\u09ab\\u0997\\u09be\\u09a8\\u09bf\\u09b8\\u09cd\\u09a4\\u09be\\u09a8 \\u0995\\u09cd\\u09b0\\u09bf\\u0995\\u09c7\\u099f \\u09a6\\u09b2\\u09c7\\u09b0 \\u0985\\u09a7\\u09bf\\u09a8\\u09be\\u09df\\u0995 \\u0986\\u09b8\\u0997\\u09b0 \\u0986\\u09ab\\u0997\\u09be\\u09a8\\u0964 \\u0986\\u09ac\\u09c1\\u09a7\\u09be\\u09ac\\u09bf\\u09a4\\u09c7 \\u0996\\u09c7\\u09b2\\u09be\\u099f\\u09bf \\u0985\\u09a8\\u09c1\\u09b7\\u09cd\\u09a0\\u09bf\\u09a4 \\u09b9\\u099a\\u09cd\\u099b\\u09c7\\u0964 \\u09a6\\u09c7\\u09dc \\u09af\\u09c1\\u0997 \\u0986\\u0997\\u09c7 \\u09ac\\u09be\\u0982\\u09b2\\u09be\\u09a6\\u09c7\\u09b6 \\u09af\\u0996\\u09a8 \\u099f\\u09c7\\u09b8\\u09cd\\u099f \\u0986\\u0999\\u09bf\\u09a8\\u09be\\u09df \\u09aa\\u09be \\u09b0\\u09be\\u0996\\u09c7, \\u0986\\u09ab\\u0997\\u09be\\u09a8\\u09a6\\u09c7\\u09b0 \\u09a4\\u0996\\u09a8 \\u0995\\u09cd\\u09b0\\u09bf\\u0995\\u09c7\\u099f\\u09c7 \\u09b9\\u09be\\u09a4\\u09c7\\u0996\\u09dc\\u09bf\\u0987 \\u09b9\\u09df\\u09a8\\u09bf\\u0964 \\u09e7\\u09ee \\u09ac\\u099b\\u09b0 \\u09aa\\u09b0 \\u0986\\u09a8\\u09cd\\u09a4\\u09b0\\u09cd\\u099c\\u09be\\u09a4\\u09bf\\u0995 \\u0995\\u09cd\\u09b0\\u09bf\\u0995\\u09c7\\u099f\\u09c7 \\u09b8\\u09ac \\u09ab\\u09b0\\u09ae\\u09cd\\u09af\\u09be\\u099f \\u09ae\\u09bf\\u09b2\\u09bf\\u09df\\u09c7 \\u09ae\\u09c1\\u0996\\u09cb\\u09ae\\u09c1\\u0996\\u09bf \\u09b2\\u09dc\\u09be\\u0987\\u09df\\u09c7 \\u09b8\\u09c7\\u0987 \\u0986\\u09ab\\u0997\\u09be\\u09a8\\u09bf\\u09b8\\u09cd\\u09a4\\u09be\\u09a8\\u09c7\\u09b0 \\u099a\\u09c7\\u09df\\u09c7 \\u09aa\\u09bf\\u099b\\u09bf\\u09df\\u09c7 \\u09a5\\u09be\\u0995\\u09be\\u099f\\u09be \\u09ac\\u09be\\u0982\\u09b2\\u09be\\u09a6\\u09c7\\u09b6\\u09c7\\u09b0 \\u099c\\u09a8\\u09cd\\u09af \\u09a8\\u09bf\\u0983\\u09b8\\u09a8\\u09cd\\u09a6\\u09c7\\u09b9\\u09c7 \\u09ac\\u09bf\\u09ac\\u09cd\\u09b0\\u09a4\\u0995\\u09b0 \\u098f\\u0995\\u099f\\u09bf \\u09ac\\u09cd\\u09af\\u09be\\u09aa\\u09be\\u09b0\\u0964 \\u0986\\u09ac\\u09c1\\u09a7\\u09be\\u09ac\\u09bf\\u09a4\\u09c7 \\u098f\\u09b6\\u09bf\\u09df\\u09be \\u0995\\u09be\\u09aa\\u09c7\\u09b0 \\u0997\\u09cd\\u09b0\\u09c1\\u09aa \\u09aa\\u09b0\\u09cd\\u09ac\\u09c7\\u09b0 \\u09b6\\u09c7\\u09b7 \\u09ae\\u09cd\\u09af\\u09be\\u099a\\u09c7 \\u0996\\u09c7\\u09b2\\u099b\\u09c7 \\u09a6\\u09c1\\u2019\\u09a6\\u09b2\\u0964 \\u09a8\\u09bf\\u09df\\u09ae\\u09b0\\u0995\\u09cd\\u09b7\\u09be\\u09b0 \\u098f\\u0987 \\u09ae\\u09cd\\u09af\\u09be\\u099a\\u099f\\u09bf \\u09ac\\u09be\\u0982\\u09b2\\u09be\\u09a6\\u09c7\\u09b6\\u09c7\\u09b0 \\u099c\\u09a8\\u09cd\\u09af \\u09a6\\u09c7\\u09b0\\u09be\\u09a6\\u09c1\\u09a8\\u09c7\\u09b0 \\u0995\\u09cd\\u09b7\\u09a4 \\u09b6\\u09c1\\u0995\\u09be\\u09a8\\u09cb\\u09b0 \\u09a6\\u09be\\u09b0\\u09c1\\u09a3 \\u098f\\u0995\\u099f\\u09bf \\u09b8\\u09c1\\u09af\\u09cb\\u0997\\u0964 \\u0997\\u09a4 \\u099c\\u09c1\\u09a8\\u09c7\\u0987 \\u09ad\\u09be\\u09b0\\u09a4\\u09c7\\u09b0 \\u09a6\\u09c7\\u09b0\\u09be\\u09a6\\u09c1\\u09a8\\u09c7 \\u09a4\\u09bf\\u09a8 \\u09ae\\u09cd\\u09af\\u09be\\u099a\\u09c7\\u09b0 \\u099f\\u09bf-\\u099f\\u09cb\\u09df\\u09c7\\u09a8\\u09cd\\u099f\\u09bf \\u09b8\\u09bf\\u09b0\\u09bf\\u099c\\u09c7\\u09b0 \\u0986\\u09ab\\u0997\\u09be\\u09a8\\u09bf\\u09b8\\u09cd\\u09a4\\u09be\\u09a8\\u09c7\\u09b0 \\u0995\\u09be\\u099b\\u09c7 \\u09e9-\\u09e6\\u09a4\\u09c7 \\u09a7\\u09ac\\u09b2\\u09a7\\u09cb\\u09b2\\u09be\\u0987 \\u09b9\\u0993\\u09df\\u09be\\u09b0 \\u09b2\\u099c\\u09cd\\u099c\\u09be\\u09df \\u09a1\\u09c1\\u09ac\\u09a4\\u09c7 \\u09b9\\u09df\\u09c7\\u099b\\u09bf\\u09b2 \\u09ac\\u09be\\u0982\\u09b2\\u09be\\u09a6\\u09c7\\u09b6\\u0995\\u09c7\\u0964 \\u098f\\u0987 \\u09b8\\u09bf\\u09b0\\u09bf\\u099c\\u099f\\u09bf\\u0987 \\u09ae\\u09c1\\u0996\\u09cb\\u09ae\\u09c1\\u0996\\u09bf \\u09b2\\u09dc\\u09be\\u0987\\u09df\\u09c7 \\u098f\\u0997\\u09bf\\u09df\\u09c7 \\u09a6\\u09bf\\u09df\\u09c7\\u099b\\u09c7 \\u0986\\u09ab\\u0997\\u09be\\u09a8\\u09a6\\u09c7\\u09b0\\u0964 \\u0985\\u09ac\\u09b6\\u09cd\\u09af \\u09b6\\u09c1\\u09a7\\u09c1 \\u0993\\u09df\\u09be\\u09a8\\u09a1\\u09c7\\u09b0 \\u0995\\u09cd\\u09b7\\u09c7\\u09a4\\u09cd\\u09b0\\u09c7 \\u098f\\u0997\\u09bf\\u09df\\u09c7 \\u09ac\\u09be\\u0982\\u09b2\\u09be\\u09a6\\u09c7\\u09b6\\u0964 \\u0993\\u09df\\u09be\\u09a8\\u09a1\\u09c7\\u09a4\\u09c7 \\u09a6\\u09c1\\u2019\\u09a6\\u09b2\\u09c7\\u09b0 \\u0986\\u0997\\u09c7\\u09b0 \\u09aa\\u09be\\u0981\\u099a \\u09ae\\u09cd\\u09af\\u09be\\u099a\\u09c7\\u09b0 \\u09a4\\u09bf\\u09a8\\u099f\\u09bf\\u09a4\\u09c7 \\u099c\\u09bf\\u09a4\\u09c7\\u099b\\u09c7 \\u09ac\\u09be\\u0982\\u09b2\\u09be\\u09a6\\u09c7\\u09b6, \\u09a6\\u09c1\\u099f\\u09bf\\u09a4\\u09c7 \\u0986\\u09ab\\u0997\\u09be\\u09a8\\u09bf\\u09b8\\u09cd\\u09a4\\u09be\\u09a8\\u0964 \\u0986\\u09b0 \\u099f\\u09bf-\\u099f\\u09cb\\u09df\\u09c7\\u09a8\\u09cd\\u099f\\u09bf\\u09a4\\u09c7 \\u099a\\u09be\\u09b0 \\u09ae\\u09cd\\u09af\\u09be\\u099a\\u09c7 \\u0986\\u09ab\\u0997\\u09be\\u09a8\\u09a6\\u09c7\\u09b0 \\u09a4\\u09bf\\u09a8 \\u099c\\u09df\\u09c7\\u09b0 \\u09ac\\u09bf\\u09aa\\u09b0\\u09c0\\u09a4\\u09c7 \\u09ac\\u09be\\u0982\\u09b2\\u09be\\u09a6\\u09c7\\u09b6\\u09c7\\u09b0 \\u099c\\u09a8\\u09cd\\u09af \\u098f\\u0995\\u099f\\u09bf\\u0964 \\u09b8\\u09ac\\u09ae\\u09bf\\u09b2\\u09bf\\u09df\\u09c7 \\u0986\\u09a8\\u09cd\\u09a4\\u09b0\\u09cd\\u099c\\u09be\\u09a4\\u09bf\\u0995 \\u0995\\u09cd\\u09b0\\u09bf\\u0995\\u09c7\\u099f\\u09c7 \\u09a8\\u09df\\u09ac\\u09be\\u09b0\\u09c7\\u09b0 \\u09a6\\u09c7\\u0996\\u09be\\u09df \\u09ac\\u09be\\u0982\\u09b2\\u09be\\u09a6\\u09c7\\u09b6\\u09c7\\u09b0 \\u099c\\u09df \\u099a\\u09be\\u09b0\\u099f\\u09bf, \\u0986\\u09ab\\u0997\\u09be\\u09a8\\u09bf\\u09b8\\u09cd\\u09a4\\u09be\\u09a8\\u09c7\\u09b0 \\u09aa\\u09be\\u0981\\u099a\\u099f\\u09bf\\u0964 \\u0986\\u099c \\u0993\\u09df\\u09be\\u09a8\\u09a1\\u09c7\\u09a4\\u09c7 \\u09a6\\u09c1\\u2019\\u09a6\\u09b2\\u09c7\\u09b0 \\u09b7\\u09b7\\u09cd\\u09a0 \\u09b8\\u09be\\u0995\\u09cd\\u09b7\\u09be\\u09a4\\u09c7 \\u09ac\\u09be\\u0982\\u09b2\\u09be\\u09a6\\u09c7\\u09b6 \\u099c\\u09bf\\u09a4\\u09b2\\u09c7 \\u09ae\\u09c1\\u0996\\u09cb\\u09ae\\u09c1\\u0996\\u09bf \\u09b2\\u09dc\\u09be\\u0987\\u09df\\u09c7 \\u09b8\\u09ae\\u09a4\\u09be \\u09ab\\u09c7\\u09b0\\u09be\\u09b0 \\u09aa\\u09be\\u09b6\\u09be\\u09aa\\u09be\\u09b6\\u09bf \\u09a6\\u09c7\\u09b0\\u09be\\u09a6\\u09c1\\u09a8\\u09c7\\u09b0 \\u099c\\u09cd\\u09ac\\u09be\\u09b2\\u09be\\u0993 \\u0995\\u09bf\\u099b\\u09c1\\u099f\\u09be \\u099c\\u09c1\\u09dc\\u09be\\u09ac\\u09c7\\u0964 \\u09a6\\u09c1\\u2019\\u09a6\\u09b2\\u0987 \\u09b6\\u09cd\\u09b0\\u09c0\\u09b2\\u0982\\u0995\\u09be\\u0995\\u09c7 \\u0989\\u09dc\\u09bf\\u09df\\u09c7 \\u09a6\\u09bf\\u09df\\u09c7 \\u09b6\\u09c1\\u09b0\\u09c1 \\u0995\\u09b0\\u09c7\\u099b\\u09c7 \\u098f\\u09b6\\u09bf\\u09df\\u09be \\u0995\\u09be\\u09aa \\u09af\\u09be\\u09a4\\u09cd\\u09b0\\u09be\\u0964 \\u098f\\u0995 \\u099c\\u09df\\u09c7\\u0987 \\u09a8\\u09bf\\u09b6\\u09cd\\u099a\\u09bf\\u09a4 \\u09b9\\u09df\\u09c7 \\u0997\\u09c7\\u099b\\u09c7 \\u09b8\\u09c1\\u09aa\\u09be\\u09b0 \\u09ab\\u09cb\\u09b0\\u09c7\\u09b0 \\u099f\\u09bf\\u0995\\u09bf\\u099f\\u0964 \\u099f\\u09c1\\u09b0\\u09cd\\u09a8\\u09be\\u09ae\\u09c7\\u09a8\\u09cd\\u099f\\u09c7\\u09b0 \\u09ae\\u09be\\u099d\\u09aa\\u09a5\\u09c7 \\u09b8\\u09c2\\u099a\\u09bf\\u09b0 \\u0986\\u099a\\u09ae\\u0995\\u09be \\u09ac\\u09a6\\u09b2\\u09c7 \\u0997\\u09cd\\u09b0\\u09c1\\u09aa\\u09b8\\u09c7\\u09b0\\u09be \\u09b9\\u0993\\u09df\\u09be\\u09b0 \\u09ac\\u09cd\\u09af\\u09be\\u09aa\\u09be\\u09b0\\u099f\\u09bf \\u09ae\\u09c2\\u09b2\\u09cd\\u09af\\u09b9\\u09c0\\u09a8 \\u09b9\\u09df\\u09c7 \\u09af\\u09be\\u0993\\u09df\\u09be\\u09df \\u0986\\u099c\\u0995\\u09c7\\u09b0 \\u09ae\\u09cd\\u09af\\u09be\\u099a\\u099f\\u09bf \\u09b6\\u09c1\\u09a7\\u09c1\\u0987 \\u09ae\\u09b0\\u09cd\\u09af\\u09be\\u09a6\\u09be\\u09b0 \\u09b2\\u09dc\\u09be\\u0987\\u0964\",\n          \"'\\u09af\\u09c7\\u0996\\u09be\\u09a8\\u09c7 \\u09a4\\u09c7\\u09b2 \\u0986\\u09b8\\u09a4 \\u09ed \\u09a6\\u09bf\\u09a8\\u09c7, \\u098f\\u0996\\u09a8 \\u09a4\\u09be \\u0986\\u09b8\\u09ac\\u09c7 \\u0985\\u09a4\\u09bf \\u09a6\\u09cd\\u09b0\\u09c1\\u09a4' \\u09ad\\u09be\\u09b0\\u09a4 \\u09a5\\u09c7\\u0995\\u09c7 \\u09aa\\u09be\\u0987\\u09aa \\u09b2\\u09be\\u0987\\u09a8\\u09c7\\u09b0 \\u09ae\\u09be\\u09a7\\u09cd\\u09af\\u09ae\\u09c7 \\u09b8\\u09b0\\u09be\\u09b8\\u09b0\\u09bf \\u09a6\\u09c7\\u09b6\\u09c7 \\u099c\\u09cd\\u09ac\\u09be\\u09b2\\u09be\\u09a8\\u09bf \\u09a4\\u09c7\\u09b2 \\u09b8\\u09b0\\u09ac\\u09b0\\u09be\\u09b9 \\u09b9\\u09b2\\u09c7 \\u09a8\\u09be\\u09a8\\u09be\\u09ad\\u09be\\u09ac\\u09c7 \\u09b8\\u09c1\\u09ab\\u09b2 \\u09aa\\u09be\\u09ac\\u09c7 \\u0989\\u09a4\\u09cd\\u09a4\\u09b0\\u09be\\u099e\\u09cd\\u099a\\u09b2\\u09c7\\u09b0 \\u09ae\\u09be\\u09a8\\u09c1\\u09b7\\u0964 \\u09ac\\u09cd\\u09af\\u09ac\\u09b8\\u09be-\\u09ac\\u09be\\u09a3\\u09bf\\u099c\\u09cd\\u09af\\u09c7\\u09b0 \\u09aa\\u09be\\u09b6\\u09be\\u09aa\\u09be\\u09b6\\u09bf \\u09b8\\u09ae\\u09c3\\u09a6\\u09cd\\u09a7 \\u09b9\\u09ac\\u09c7 \\u098f \\u0985\\u099e\\u09cd\\u099a\\u09b2\\u09c7\\u09b0 \\u0995\\u09c3\\u09b7\\u09bf \\u09ad\\u09bf\\u09a4\\u09cd\\u09a4\\u09bf\\u0995 \\u0985\\u09b0\\u09cd\\u09a5\\u09a8\\u09c0\\u09a4\\u09bf\\u0964 \\u0987\\u09a4\\u09bf\\u09ac\\u09be\\u099a\\u0995 \\u09aa\\u09cd\\u09b0\\u09ad\\u09be\\u09ac \\u09aa\\u09dc\\u09ac\\u09c7 \\u09a6\\u09c7\\u09b6\\u09c7\\u09b0 \\u09b8\\u09be\\u09b0\\u09cd\\u09ac\\u09bf\\u0995 \\u0989\\u09a8\\u09cd\\u09a8\\u09df\\u09a8\\u09c7\\u0964 \\u09b8\\u09b0\\u0995\\u09be\\u09b0\\u09c7\\u09b0 \\u098f\\u0987 \\u0989\\u09a6\\u09cd\\u09af\\u09cb\\u0997\\u0995\\u09c7 \\u09b8\\u09cd\\u09ac\\u09be\\u0997\\u09a4 \\u099c\\u09be\\u09a8\\u09bf\\u09df\\u09c7 \\u09a6\\u09cd\\u09b0\\u09c1\\u09a4 \\u09aa\\u09be\\u0987\\u09aa \\u09b2\\u09be\\u0987\\u09a8\\u09c7\\u09b0 \\u0995\\u09be\\u099c \\u09b6\\u09c1\\u09b0\\u09c1 \\u0995\\u09b0\\u09be\\u09b0 \\u09a6\\u09be\\u09ac\\u09bf \\u099c\\u09be\\u09a8\\u09bf\\u09df\\u09c7\\u099b\\u09c7\\u09a8 \\u09ac\\u09cd\\u09af\\u09ac\\u09b8\\u09be\\u09df\\u09c0\\u09b0\\u09be\\u0964\\u00a0 \\u0989\\u09a4\\u09cd\\u09a4\\u09b0\\u09be\\u099e\\u09cd\\u099a\\u09b2\\u09c7\\u09b0 \\u099c\\u09cd\\u09ac\\u09be\\u09b2\\u09be\\u09a8\\u09bf \\u09a8\\u09bf\\u09b0\\u09be\\u09aa\\u09a4\\u09cd\\u09a4\\u09be \\u09a8\\u09bf\\u09b6\\u09cd\\u099a\\u09bf\\u09a4 \\u0995\\u09b0\\u09a4\\u09c7 \\u09ae\\u0999\\u09cd\\u0997\\u09b2\\u09ac\\u09be\\u09b0 \\u09ad\\u09bf\\u09a1\\u09bf\\u0993 \\u0995\\u09a8\\u09ab\\u09be\\u09b0\\u09c7\\u09a8\\u09cd\\u09b8\\u09c7\\u09b0 \\u09ae\\u09be\\u09a7\\u09cd\\u09af\\u09ae\\u09c7 \\u09e7\\u09b6' \\u09e9\\u09e6 \\u0995\\u09bf\\u09b2\\u09cb\\u09ae\\u09bf\\u099f\\u09be\\u09b0 \\u09a6\\u09c0\\u09b0\\u09cd\\u0998- \\u0987\\u09a8\\u09cd\\u09a1\\u09bf\\u09df\\u09be-\\u09ac\\u09be\\u0982\\u09b2\\u09be\\u09a6\\u09c7\\u09b6 \\u09ab\\u09cd\\u09b0\\u09c7\\u09a8\\u09cd\\u09a1\\u09b6\\u09bf\\u09aa \\u09aa\\u09be\\u0987\\u09aa \\u09b2\\u09be\\u0987\\u09a8 \\u09a8\\u09bf\\u09b0\\u09cd\\u09ae\\u09be\\u09a3 \\u09aa\\u09cd\\u09b0\\u0995\\u09b2\\u09cd\\u09aa\\u09c7\\u09b0 \\u0989\\u09a6\\u09cd\\u09ac\\u09cb\\u09a7\\u09a8 \\u0995\\u09b0\\u09c7\\u09a8 \\u09ac\\u09be\\u0982\\u09b2\\u09be\\u09a6\\u09c7\\u09b6\\u09c7\\u09b0 \\u09aa\\u09cd\\u09b0\\u09a7\\u09be\\u09a8\\u09ae\\u09a8\\u09cd\\u09a4\\u09cd\\u09b0\\u09c0 \\u09b6\\u09c7\\u0996 \\u09b9\\u09be\\u09b8\\u09bf\\u09a8\\u09be \\u0993 \\u09ad\\u09be\\u09b0\\u09a4\\u09c7\\u09b0 \\u09aa\\u09cd\\u09b0\\u09a7\\u09be\\u09a8\\u09ae\\u09a8\\u09cd\\u09a4\\u09cd\\u09b0\\u09c0 \\u09a8\\u09b0\\u09c7\\u09a8\\u09cd\\u09a6\\u09cd\\u09b0 \\u09ae\\u09cb\\u09a6\\u09c0\\u0964 \\u098f\\u09b0 \\u09ae\\u09be\\u09a7\\u09cd\\u09af\\u09ae\\u09c7 \\u09ad\\u09be\\u09b0\\u09a4\\u09c7\\u09b0 \\u09b6\\u09bf\\u09b2\\u09bf\\u0997\\u09c1\\u09dc\\u09bf \\u09a5\\u09c7\\u0995\\u09c7 \\u09a6\\u09bf\\u09a8\\u09be\\u099c\\u09aa\\u09c1\\u09b0\\u09c7\\u09b0 \\u09aa\\u09be\\u09b0\\u09cd\\u09ac\\u09a4\\u09c0\\u09aa\\u09c1\\u09b0\\u09c7 \\u0995\\u09df\\u09c7\\u0995 \\u0998\\u09a3\\u09cd\\u099f\\u09be\\u09b0 \\u09ae\\u09a7\\u09cd\\u09af\\u09c7 \\u09aa\\u09cc\\u0981\\u099b\\u09c7 \\u09af\\u09be\\u09ac\\u09c7 \\u099c\\u09cd\\u09ac\\u09be\\u09b2\\u09be\\u09a8\\u09bf \\u09a4\\u09c7\\u09b2\\u0964 \\u098f\\u09a4\\u09c7 \\u0996\\u09c1\\u09b6\\u09bf \\u0989\\u09a4\\u09cd\\u09a4\\u09b0\\u09be\\u099e\\u09cd\\u099a\\u09b2\\u09c7\\u09b0 \\u09ae\\u09be\\u09a8\\u09c1\\u09b7\\u0964 \\u098f\\u0995\\u099c\\u09a8 \\u099f\\u09cd\\u09af\\u09be\\u0982\\u0995\\u09b2\\u09dc\\u09bf\\u09b0 \\u099a\\u09be\\u09b2\\u0995 \\u09ac\\u09b2\\u09c7\\u09a8, '\\u09ad\\u09be\\u09b0\\u09a4 \\u09a5\\u09c7\\u0995\\u09c7 \\u09aa\\u09be\\u0987\\u09aa\\u09b2\\u09be\\u0987\\u09a8\\u09c7 \\u09af\\u09c7 \\u09a4\\u09c7\\u09b2 \\u0986\\u09b8\\u09a4\\u09c7\\u099b\\u09c7, \\u098f\\u0996\\u09be\\u09a8\\u0995\\u09be\\u09b0 \\u09a4\\u09c7\\u09b2 \\u09b8\\u0982\\u0997\\u09cd\\u09b0\\u09b9 \\u0986\\u09ae\\u09be\\u09a6\\u09c7\\u09b0 \\u099c\\u09a8\\u09cd\\u09af \\u0996\\u09c1\\u09ac\\u0987 \\u09b8\\u09c1\\u09ac\\u09bf\\u09a7\\u09c7 \\u09b9\\u09ac\\u09c7\\u0964' \\u09aa\\u09c7\\u099f\\u09cd\\u09b0\\u09cb\\u09b2 \\u09aa\\u09be\\u09ae\\u09cd\\u09aa \\u09ae\\u09be\\u09b2\\u09bf\\u0995 \\u09b8\\u09ae\\u09bf\\u09a4\\u09bf \\u09b8\\u09ad\\u09be\\u09aa\\u09a4\\u09bf \\u098f \\u099c\\u09c7\\u09a1 \\u09ae\\u09c7\\u09a8\\u09b9\\u09be\\u099c\\u09c1\\u09b2 \\u09b9\\u0995 \\u09ac\\u09b2\\u09c7\\u09a8, '\\u09af\\u09c7\\u0996\\u09be\\u09a8\\u09c7 \\u099a\\u09bf\\u099f\\u09be\\u0997\\u09be\\u0982 \\u09a5\\u09c7\\u0995\\u09c7 \\u09ed\\u09a6\\u09bf\\u09a8 \\u09b2\\u09be\\u0997\\u09c7, \\u09b8\\u09c7\\u0996\\u09be\\u09a8\\u09c7 \\u098f\\u0996\\u09be\\u09a8\\u09c7 \\u09aa\\u09be\\u0987\\u09aa\\u09b2\\u09be\\u0987\\u09a8 \\u09b9\\u09b2\\u09c7 \\u0985\\u09a4\\u09bf \\u09a6\\u09cd\\u09b0\\u09c1\\u09a4 \\u098f\\u0996\\u09be\\u09a8\\u09c7 \\u09a4\\u09c7\\u09b2 \\u09aa\\u09cc\\u0981\\u099b\\u09be\\u09ac\\u09c7\\u0964' \\u09ac\\u09b0\\u09cd\\u09a4\\u09ae\\u09be\\u09a8\\u09c7, \\u09a8\\u09cc\\u09aa\\u09a5\\u09c7 \\u098f\\u09ac\\u0982 \\u09b0\\u09c7\\u09b2 \\u0993\\u09df\\u09be\\u0997\\u09a8\\u09c7\\u09b0 \\u09ae\\u09be\\u09a7\\u09cd\\u09af\\u09ae\\u09c7 \\u09ad\\u09be\\u09b0\\u09a4 \\u09a5\\u09c7\\u0995\\u09c7 \\u09aa\\u09be\\u09b0\\u09cd\\u09ac\\u09a4\\u09c0 \\u09aa\\u09c1\\u09b0\\u09c7 \\u099c\\u09cd\\u09ac\\u09be\\u09b2\\u09be\\u09a8\\u09bf \\u09a4\\u09c7\\u09b2 \\u0986\\u09ae\\u09a6\\u09be\\u09a8\\u09bf \\u0995\\u09b0\\u09be \\u09b9\\u09df\\u0964 \\u09ac\\u09cd\\u09af\\u09ac\\u09b8\\u09be\\u09df\\u09c0 \\u09a8\\u09c7\\u09a4\\u09be \\u0993 \\u09b8\\u0982\\u09b6\\u09cd\\u09b2\\u09bf\\u09b7\\u09cd\\u099f \\u09ae\\u09a8\\u09cd\\u09a4\\u09cd\\u09b0\\u09a3\\u09be\\u09b2\\u09df\\u09c7\\u09b0 \\u0985\\u09a4\\u09bf\\u09b0\\u09bf\\u0995\\u09cd\\u09a4 \\u09b8\\u099a\\u09bf\\u09ac \\u09ac\\u09b2\\u099b\\u09c7\\u09a8, \\u09aa\\u09cd\\u09b0\\u0995\\u09b2\\u09cd\\u09aa\\u099f\\u09bf \\u09ac\\u09be\\u09b8\\u09cd\\u09a4\\u09ac\\u09be\\u09df\\u09a8 \\u09b9\\u09b2\\u09c7 \\u0989\\u09a4\\u09cd\\u09a4\\u09b0\\u09be\\u099e\\u09cd\\u099a\\u09b2\\u09c7\\u09b0 \\u09af\\u09be\\u09a8\\u09ac\\u09be\\u09b9\\u09a8, \\u09ac\\u09cd\\u09af\\u09ac\\u09b8\\u09be-\\u09ac\\u09be\\u09a3\\u09bf\\u099c\\u09cd\\u09af \\u0993 \\u0995\\u09c3\\u09b7\\u09bf\\u09a4\\u09c7 \\u09a8\\u09a4\\u09c1\\u09a8 \\u09ae\\u09be\\u09a4\\u09cd\\u09b0\\u09be \\u09aa\\u09be\\u09ac\\u09c7\\u0964 \\u09ac\\u09be\\u0981\\u099a\\u09ac\\u09c7 \\u09b8\\u09ae\\u09df, \\u09b8\\u09be\\u09b6\\u09cd\\u09b0\\u09df \\u09b9\\u09ac\\u09c7 \\u0985\\u09b0\\u09cd\\u09a5\\u0964 \\u09a6\\u09bf\\u09a8\\u09be\\u099c\\u09aa\\u09c1\\u09b0 \\u099a\\u09c7\\u09ae\\u09cd\\u09ac\\u09be\\u09b0 \\u0985\\u09ac \\u0995\\u09ae\\u09be\\u09b0\\u09cd\\u09b8 \\u09b8\\u09ad\\u09be\\u09aa\\u09a4\\u09bf \\u09b8\\u09c1\\u099c\\u09be\\u0989\\u09b0 \\u09b0\\u09ac \\u099a\\u09cc\\u09a7\\u09c1\\u09b0\\u09c0 \\u09ac\\u09b2\\u09c7\\u09a8, '\\u0987\\u09a4\\u09bf\\u09ae\\u09a7\\u09cd\\u09af\\u09c7 \\u09af\\u09c7 \\u09a4\\u09c7\\u09b2 \\u0986\\u09b8\\u09a4 \\u09a4\\u09be \\u099a\\u09bf\\u099f\\u09be\\u0997\\u09be\\u0982 \\u09b9\\u09df\\u09c7 \\u09a6\\u09bf\\u09a8\\u09be\\u099c\\u09aa\\u09c1\\u09b0\\u09c7 \\u09aa\\u09c7\\u09a4\\u09be\\u09ae, \\u098f\\u099f\\u09be \\u098f\\u0996\\u09a8 \\u0996\\u09c1\\u09ac \\u09a4\\u09be\\u09dc\\u09be\\u09a4\\u09be\\u09dc\\u09bf \\u09aa\\u09be\\u09ac\\u0964' \\u099c\\u09cd\\u09ac\\u09be\\u09b2\\u09be\\u09a8\\u09bf \\u0993 \\u0996\\u09a8\\u09bf\\u099c \\u09b8\\u09ae\\u09cd\\u09aa\\u09a6 \\u09ae\\u09a8\\u09cd\\u09a4\\u09cd\\u09b0\\u09a3\\u09be\\u09b2\\u09df \\u0985\\u09a4\\u09bf\\u09b0\\u09bf\\u0995\\u09cd\\u09a4 \\u09b8\\u099a\\u09bf\\u09ac \\u09b0\\u09a4\\u09a8 \\u099a\\u09a8\\u09cd\\u09a6\\u09cd\\u09b0 \\u09aa\\u09a3\\u09cd\\u09a1\\u09bf\\u09a4 \\u09ac\\u09b2\\u09c7\\u09a8, '\\u09aa\\u09be\\u0987\\u09aa\\u09b2\\u09be\\u0987\\u09a8\\u09c7\\u09b0 \\u09ae\\u09be\\u09a7\\u09cd\\u09af\\u09ae\\u09c7 \\u09af\\u09a6\\u09bf \\u0986\\u09ae\\u09b0\\u09be \\u098f\\u0996\\u09be\\u09a8\\u09c7 \\u09a4\\u09c7\\u09b2 \\u0986\\u09a8\\u09bf, \\u0986\\u09ae\\u09b0\\u09be \\u099c\\u09cd\\u09ac\\u09be\\u09b2\\u09be\\u09a8\\u09bf \\u09b9\\u09bf\\u09b8\\u09c7\\u09ac\\u09c7 \\u09ac\\u09cd\\u09af\\u09ac\\u09b9\\u09be\\u09b0 \\u0995\\u09b0\\u09a4\\u09c7 \\u09aa\\u09be\\u09b0\\u09ac\\u09c7\\u0964'\\u00a0 \\u0987\\u09a8\\u09cd\\u09a1\\u09bf\\u09df\\u09be-\\u09ac\\u09be\\u0982\\u09b2\\u09be\\u09a6\\u09c7\\u09b6 \\u09ab\\u09cd\\u09b0\\u09c7\\u09a8\\u09cd\\u09a1\\u09b6\\u09bf\\u09aa \\u09aa\\u09be\\u0987\\u09aa \\u09b2\\u09be\\u0987\\u09a8 \\u09a8\\u09bf\\u09b0\\u09cd\\u09ae\\u09be\\u09a3\\u09c7 \\u09ac\\u09cd\\u09af\\u09df \\u09a7\\u09b0\\u09be \\u09b9\\u09df\\u09c7\\u099b\\u09c7 \\u09eb\\u09b6' \\u09e8\\u09e6 \\u0995\\u09cb\\u099f\\u09bf \\u099f\\u09be\\u0995\\u09be\\u0964 \\u09a8\\u09bf\\u09b0\\u09cd\\u09ae\\u09be\\u09a3\\u09c7 \\u09b8\\u09ae\\u09df \\u09b2\\u09be\\u0997\\u09ac\\u09c7 \\u0985\\u09a8\\u09cd\\u09a4\\u09a4 \\u0986\\u09dc\\u09be\\u0987 \\u09ac\\u099b\\u09b0\\u0964\",\n          \"\\u09b0\\u09be\\u099c\\u09a7\\u09be\\u09a8\\u09c0\\u09a4\\u09c7 \\u09ac\\u09bf\\u09b6\\u09c7\\u09b7 \\u0985\\u09ad\\u09bf\\u09af\\u09be\\u09a8\\u09c7 \\u0986\\u099f\\u0995 \\u09ea\\u09e9 \\u09b0\\u09be\\u099c\\u09a7\\u09be\\u09a8\\u09c0\\u09a4\\u09c7 \\u09ae\\u09be\\u09a6\\u0995 \\u09ac\\u09bf\\u09b0\\u09cb\\u09a7\\u09c0 \\u09ac\\u09bf\\u09b6\\u09c7\\u09b7 \\u0985\\u09ad\\u09bf\\u09af\\u09be\\u09a8 \\u09aa\\u09b0\\u09bf\\u099a\\u09be\\u09b2\\u09a8\\u09be \\u0995\\u09b0\\u09c7 \\u09a2\\u09be\\u0995\\u09be \\u09ae\\u09c7\\u099f\\u09cd\\u09b0\\u09cb \\u09aa\\u09b2\\u09bf\\u099f\\u09a8 \\u09aa\\u09c1\\u09b2\\u09bf\\u09b6\\u0964 \\u098f \\u09b8\\u09ae\\u09df \\u09ae\\u09be\\u09a6\\u0995 \\u09b8\\u09c7\\u09ac\\u09a8 \\u0993 \\u09ac\\u09bf\\u0995\\u09cd\\u09b0\\u09bf\\u09b0 \\u0985\\u09ad\\u09bf\\u09af\\u09cb\\u0997\\u09c7 \\u09ea\\u09e9 \\u099c\\u09a8\\u0995\\u09c7 \\u0986\\u099f\\u0995 \\u0995\\u09b0\\u09c7 \\u09a4\\u09be\\u09b0\\u09be\\u0964 \\u09ac\\u09c1\\u09a7\\u09ac\\u09be\\u09b0 (\\u09e7\\u09ef \\u09b8\\u09c7\\u09aa\\u09cd\\u099f\\u09c7\\u09ae\\u09cd\\u09ac\\u09b0) \\u09ad\\u09cb\\u09b0 \\u099b\\u09df\\u099f\\u09be \\u09a5\\u09c7\\u0995\\u09c7 \\u0986\\u099c \\u09ac\\u09c3\\u09b9\\u09b8\\u09cd\\u09aa\\u09a4\\u09bf\\u09ac\\u09be\\u09b0 (\\u09e8\\u09e6 \\u09b8\\u09c7\\u09aa\\u09cd\\u099f\\u09c7\\u09ae\\u09cd\\u09ac\\u09b0) \\u09ad\\u09cb\\u09b0 \\u099b\\u09df\\u099f\\u09be \\u09aa\\u09b0\\u09cd\\u09af\\u09a8\\u09cd\\u09a4 \\u09b0\\u09be\\u099c\\u09a7\\u09be\\u09a8\\u09c0\\u09b0 \\u09ac\\u09bf\\u09ad\\u09bf\\u09a8\\u09cd\\u09a8 \\u09a5\\u09be\\u09a8\\u09be \\u098f\\u09b2\\u09be\\u0995\\u09be\\u09df \\u0985\\u09ad\\u09bf\\u09af\\u09be\\u09a8 \\u099a\\u09be\\u09b2\\u09bf\\u09df\\u09c7 \\u09a4\\u09be\\u09a6\\u09c7\\u09b0\\u0995\\u09c7 \\u0986\\u099f\\u0995 \\u0995\\u09b0\\u09c7 \\u09ac\\u09b2\\u09c7 \\u09a1\\u09bf\\u098f\\u09ae\\u09aa\\u09bf\\u09b0 \\u098f\\u0995\\u099f\\u09bf \\u09b8\\u09c2\\u09a4\\u09cd\\u09b0 \\u099c\\u09be\\u09a8\\u09be\\u09df\\u0964 \\u09a1\\u09bf\\u098f\\u09ae\\u09aa\\u09bf\\u09b0 \\u0985\\u09a7\\u09c0\\u09a8\\u09b8\\u09cd\\u09a5 \\u09ac\\u09bf\\u09ad\\u09bf\\u09a8\\u09cd\\u09a8 \\u09a5\\u09be\\u09a8\\u09be \\u0993 \\u0997\\u09cb\\u09df\\u09c7\\u09a8\\u09cd\\u09a6\\u09be \\u09aa\\u09c1\\u09b2\\u09bf\\u09b6 \\u09b0\\u09be\\u099c\\u09a7\\u09be\\u09a8\\u09c0\\u09b0 \\u0995\\u09df\\u09c7\\u0995\\u099f\\u09bf \\u098f\\u09b2\\u09be\\u0995\\u09be\\u09df \\u0985\\u09ad\\u09bf\\u09af\\u09be\\u09a8 \\u09aa\\u09b0\\u09bf\\u099a\\u09be\\u09b2\\u09a8\\u09be \\u0995\\u09b0\\u09c7 \\u09a4\\u09be\\u09a6\\u09c7\\u09b0\\u0995\\u09c7 \\u0986\\u099f\\u0995 \\u0995\\u09b0\\u09c7\\u0964 \\u098f \\u09b8\\u09ae\\u09df \\u09e8\\u09ef\\u09eb\\u09e7 \\u09aa\\u09bf\\u09b8 \\u0987\\u09df\\u09be\\u09ac\\u09be, \\u09eb\\u09e9\\u09eb \\u0997\\u09cd\\u09b0\\u09be\\u09ae \\u09e8\\u09ee\\u09e8 \\u09aa\\u09c1\\u09b0\\u09bf\\u09df\\u09be \\u09b9\\u09c7\\u09b0\\u09cb\\u0987\\u09a8, \\u09e7 \\u0995\\u09c7\\u099c\\u09bf \\u09e9\\u09eb\\u09eb \\u0997\\u09cd\\u09b0\\u09be\\u09ae \\u0997\\u09be\\u0981\\u099c\\u09be \\u0993 \\u09e9\\u09e8\\u09ef \\u0995\\u09c7\\u099c\\u09bf \\u0996\\u09be\\u099f \\u099c\\u09be\\u09a4\\u09c0\\u09df \\u09ae\\u09be\\u09a6\\u0995\\u09a6\\u09cd\\u09b0\\u09ac\\u09cd\\u09af \\u0989\\u09a6\\u09cd\\u09a7\\u09be\\u09b0 \\u0995\\u09b0\\u09be \\u09b9\\u09df\\u0964 \\u0986\\u099f\\u0995\\u0995\\u09c3\\u09a4\\u09a6\\u09c7\\u09b0 \\u09ac\\u09bf\\u09b0\\u09c1\\u09a6\\u09cd\\u09a7\\u09c7 \\u09b8\\u0982\\u09b6\\u09cd\\u09b2\\u09bf\\u09b7\\u09cd\\u099f \\u09a5\\u09be\\u09a8\\u09be\\u09df \\u09ae\\u09be\\u09a6\\u0995\\u09a6\\u09cd\\u09b0\\u09ac\\u09cd\\u09af \\u09a8\\u09bf\\u09df\\u09a8\\u09cd\\u09a4\\u09cd\\u09b0\\u09a3 \\u0986\\u0987\\u09a8\\u09c7 \\u09e8\\u09ed \\u099f\\u09bf \\u09ae\\u09be\\u09ae\\u09b2\\u09be \\u0995\\u09b0\\u09be \\u09b9\\u09df\\u09c7\\u099b\\u09c7\\u0964 \\u09ac\\u09bf\\u09a1\\u09bf\\u09e8\\u09ea\\u09b2\\u09be\\u0987\\u09ad/\\u098f\\u098f\\u09ab\\u0995\\u09c7/\\u098f\\u09ae\\u0986\\u09b0\"\n        ],\n        \"semantic_type\": \"\",\n        \"description\": \"\"\n      }\n    },\n    {\n      \"column\": \"label\",\n      \"properties\": {\n        \"dtype\": \"number\",\n        \"std\": 0,\n        \"min\": 1,\n        \"max\": 1,\n        \"num_unique_values\": 1,\n        \"samples\": [\n          1\n        ],\n        \"semantic_type\": \"\",\n        \"description\": \"\"\n      }\n    }\n  ]\n}"
            }
          },
          "metadata": {}
        }
      ]
    },
    {
      "cell_type": "code",
      "source": [
        "df_upsampled['cleaned_text'] = df_upsampled['text'].apply(preprocess_text)"
      ],
      "metadata": {
        "id": "MSCFwYEqnC1k"
      },
      "execution_count": 19,
      "outputs": []
    },
    {
      "cell_type": "code",
      "source": [
        "df_upsampled['cleaned_text']"
      ],
      "metadata": {
        "colab": {
          "base_uri": "https://localhost:8080/",
          "height": 458
        },
        "id": "2jKRSuZ6nxGy",
        "outputId": "18dab956-d7e7-41ba-df74-45b77f620b1b"
      },
      "execution_count": 20,
      "outputs": [
        {
          "output_type": "execute_result",
          "data": {
            "text/plain": [
              "0       হঠাৎ আফগান ক্রিকেট বোর্ড প্রধানের পদত্যাগ ক্রি...\n",
              "1       টস হেরে বোলিংয়ে বাংলাদেশ এশিয়া কাপের ষষ্ঠ ম্যা...\n",
              "2       রাজধানীতে বিশেষ অভিযানে আটক ৪৩ রাজধানীতে মাদক ...\n",
              "3       উস্কানি রোধে নজরদারি সামাজিক যোগাযোগ মাধ্যমে স...\n",
              "4       যেখানে তেল আসত ৭ দিনে এখন তা আসবে অতি দ্রুত ভা...\n",
              "                              ...                        \n",
              "7778    শ্বশুর বাড়ির দেয়া বেগুনিতে বেগুন পেয়ে স্ত্রীকে...\n",
              "8434    ভালোবাসা দিবসে গোলাপ দেওয়ায় স্ত্রীর হাতে কানমল...\n",
              "7964    ইমরুল কায়েসকে দলে নিলে বিয়ে করবে কুমিল্লার তান...\n",
              "7318    বিএনপির শরীরচর্চা কর্মসূচি আসছে দৈনিক মতিকণ্ঠ ...\n",
              "7829    পাণ্ডে নহে গাণ্ডে বেবী দৈনিক মতিকণ্ঠ খুলনা মতি...\n",
              "Name: cleaned_text, Length: 14404, dtype: object"
            ],
            "text/html": [
              "<div>\n",
              "<style scoped>\n",
              "    .dataframe tbody tr th:only-of-type {\n",
              "        vertical-align: middle;\n",
              "    }\n",
              "\n",
              "    .dataframe tbody tr th {\n",
              "        vertical-align: top;\n",
              "    }\n",
              "\n",
              "    .dataframe thead th {\n",
              "        text-align: right;\n",
              "    }\n",
              "</style>\n",
              "<table border=\"1\" class=\"dataframe\">\n",
              "  <thead>\n",
              "    <tr style=\"text-align: right;\">\n",
              "      <th></th>\n",
              "      <th>cleaned_text</th>\n",
              "    </tr>\n",
              "  </thead>\n",
              "  <tbody>\n",
              "    <tr>\n",
              "      <th>0</th>\n",
              "      <td>হঠাৎ আফগান ক্রিকেট বোর্ড প্রধানের পদত্যাগ ক্রি...</td>\n",
              "    </tr>\n",
              "    <tr>\n",
              "      <th>1</th>\n",
              "      <td>টস হেরে বোলিংয়ে বাংলাদেশ এশিয়া কাপের ষষ্ঠ ম্যা...</td>\n",
              "    </tr>\n",
              "    <tr>\n",
              "      <th>2</th>\n",
              "      <td>রাজধানীতে বিশেষ অভিযানে আটক ৪৩ রাজধানীতে মাদক ...</td>\n",
              "    </tr>\n",
              "    <tr>\n",
              "      <th>3</th>\n",
              "      <td>উস্কানি রোধে নজরদারি সামাজিক যোগাযোগ মাধ্যমে স...</td>\n",
              "    </tr>\n",
              "    <tr>\n",
              "      <th>4</th>\n",
              "      <td>যেখানে তেল আসত ৭ দিনে এখন তা আসবে অতি দ্রুত ভা...</td>\n",
              "    </tr>\n",
              "    <tr>\n",
              "      <th>...</th>\n",
              "      <td>...</td>\n",
              "    </tr>\n",
              "    <tr>\n",
              "      <th>7778</th>\n",
              "      <td>শ্বশুর বাড়ির দেয়া বেগুনিতে বেগুন পেয়ে স্ত্রীকে...</td>\n",
              "    </tr>\n",
              "    <tr>\n",
              "      <th>8434</th>\n",
              "      <td>ভালোবাসা দিবসে গোলাপ দেওয়ায় স্ত্রীর হাতে কানমল...</td>\n",
              "    </tr>\n",
              "    <tr>\n",
              "      <th>7964</th>\n",
              "      <td>ইমরুল কায়েসকে দলে নিলে বিয়ে করবে কুমিল্লার তান...</td>\n",
              "    </tr>\n",
              "    <tr>\n",
              "      <th>7318</th>\n",
              "      <td>বিএনপির শরীরচর্চা কর্মসূচি আসছে দৈনিক মতিকণ্ঠ ...</td>\n",
              "    </tr>\n",
              "    <tr>\n",
              "      <th>7829</th>\n",
              "      <td>পাণ্ডে নহে গাণ্ডে বেবী দৈনিক মতিকণ্ঠ খুলনা মতি...</td>\n",
              "    </tr>\n",
              "  </tbody>\n",
              "</table>\n",
              "<p>14404 rows × 1 columns</p>\n",
              "</div><br><label><b>dtype:</b> object</label>"
            ]
          },
          "metadata": {},
          "execution_count": 20
        }
      ]
    },
    {
      "cell_type": "markdown",
      "source": [
        "# **Feature Extraction (TF-IDF)**"
      ],
      "metadata": {
        "id": "9Fq-28C96tyl"
      }
    },
    {
      "cell_type": "code",
      "source": [
        "vectorizer = TfidfVectorizer()\n",
        "X = vectorizer.fit_transform(df_upsampled['cleaned_text'])\n",
        "y = df_upsampled['label']"
      ],
      "metadata": {
        "id": "S62CNw6xHD-D"
      },
      "execution_count": 21,
      "outputs": []
    },
    {
      "cell_type": "markdown",
      "source": [
        "# **Split dataset into training and testing sets**"
      ],
      "metadata": {
        "id": "ZJwkeBdlIjhY"
      }
    },
    {
      "cell_type": "code",
      "source": [
        "X_train, X_test, y_train, y_test = train_test_split(X, y, test_size=0.2, random_state=42)"
      ],
      "metadata": {
        "id": "pf6VCCCNIhhQ"
      },
      "execution_count": 22,
      "outputs": []
    },
    {
      "cell_type": "markdown",
      "source": [
        "# **Model Evaluation Function**"
      ],
      "metadata": {
        "id": "lhnino2AJFIJ"
      }
    },
    {
      "cell_type": "code",
      "source": [
        " def evaluate_model(model, X_test, y_test):\n",
        "  y_pred = model.predict(X_test)\n",
        "  accuracy = accuracy_score(y_test, y_pred)\n",
        "  cm = confusion_matrix(y_test,y_pred)\n",
        "  prob = model.predict_proba(X_test) [:, 1]\n",
        "  roc_auc = roc_auc_score(y_test, prob)\n",
        "  fpr, tpr, thresholds = roc_curve(y_test, prob)\n",
        "  precision, recall, _ = precision_recall_curve(y_test, prob)\n",
        "  pr_auc = auc(recall, precision)\n",
        "\n",
        "  return {\n",
        "      'Accuracy': accuracy,\n",
        "      'Confusion Matrix': cm,\n",
        "\n",
        "  }"
      ],
      "metadata": {
        "id": "Li7xSY8SJO_W"
      },
      "execution_count": 23,
      "outputs": []
    },
    {
      "cell_type": "markdown",
      "source": [
        "# **Build Naive Bayes Models**"
      ],
      "metadata": {
        "id": "2JC_Habc7xUH"
      }
    },
    {
      "cell_type": "markdown",
      "source": [
        "**Multinomial Naive Bayes**"
      ],
      "metadata": {
        "id": "xECWpR0z8AmI"
      }
    },
    {
      "cell_type": "code",
      "source": [
        "mnb_model = MultinomialNB(alpha=1.0, fit_prior=True, class_prior=None)\n",
        "mnb_model.fit(X_train, y_train)"
      ],
      "metadata": {
        "colab": {
          "base_uri": "https://localhost:8080/",
          "height": 80
        },
        "id": "-1xdRhvQ8It5",
        "outputId": "6b0c4546-12ed-4d60-d2d5-dbdd6145039d"
      },
      "execution_count": 24,
      "outputs": [
        {
          "output_type": "execute_result",
          "data": {
            "text/plain": [
              "MultinomialNB()"
            ],
            "text/html": [
              "<style>#sk-container-id-1 {\n",
              "  /* Definition of color scheme common for light and dark mode */\n",
              "  --sklearn-color-text: #000;\n",
              "  --sklearn-color-text-muted: #666;\n",
              "  --sklearn-color-line: gray;\n",
              "  /* Definition of color scheme for unfitted estimators */\n",
              "  --sklearn-color-unfitted-level-0: #fff5e6;\n",
              "  --sklearn-color-unfitted-level-1: #f6e4d2;\n",
              "  --sklearn-color-unfitted-level-2: #ffe0b3;\n",
              "  --sklearn-color-unfitted-level-3: chocolate;\n",
              "  /* Definition of color scheme for fitted estimators */\n",
              "  --sklearn-color-fitted-level-0: #f0f8ff;\n",
              "  --sklearn-color-fitted-level-1: #d4ebff;\n",
              "  --sklearn-color-fitted-level-2: #b3dbfd;\n",
              "  --sklearn-color-fitted-level-3: cornflowerblue;\n",
              "\n",
              "  /* Specific color for light theme */\n",
              "  --sklearn-color-text-on-default-background: var(--sg-text-color, var(--theme-code-foreground, var(--jp-content-font-color1, black)));\n",
              "  --sklearn-color-background: var(--sg-background-color, var(--theme-background, var(--jp-layout-color0, white)));\n",
              "  --sklearn-color-border-box: var(--sg-text-color, var(--theme-code-foreground, var(--jp-content-font-color1, black)));\n",
              "  --sklearn-color-icon: #696969;\n",
              "\n",
              "  @media (prefers-color-scheme: dark) {\n",
              "    /* Redefinition of color scheme for dark theme */\n",
              "    --sklearn-color-text-on-default-background: var(--sg-text-color, var(--theme-code-foreground, var(--jp-content-font-color1, white)));\n",
              "    --sklearn-color-background: var(--sg-background-color, var(--theme-background, var(--jp-layout-color0, #111)));\n",
              "    --sklearn-color-border-box: var(--sg-text-color, var(--theme-code-foreground, var(--jp-content-font-color1, white)));\n",
              "    --sklearn-color-icon: #878787;\n",
              "  }\n",
              "}\n",
              "\n",
              "#sk-container-id-1 {\n",
              "  color: var(--sklearn-color-text);\n",
              "}\n",
              "\n",
              "#sk-container-id-1 pre {\n",
              "  padding: 0;\n",
              "}\n",
              "\n",
              "#sk-container-id-1 input.sk-hidden--visually {\n",
              "  border: 0;\n",
              "  clip: rect(1px 1px 1px 1px);\n",
              "  clip: rect(1px, 1px, 1px, 1px);\n",
              "  height: 1px;\n",
              "  margin: -1px;\n",
              "  overflow: hidden;\n",
              "  padding: 0;\n",
              "  position: absolute;\n",
              "  width: 1px;\n",
              "}\n",
              "\n",
              "#sk-container-id-1 div.sk-dashed-wrapped {\n",
              "  border: 1px dashed var(--sklearn-color-line);\n",
              "  margin: 0 0.4em 0.5em 0.4em;\n",
              "  box-sizing: border-box;\n",
              "  padding-bottom: 0.4em;\n",
              "  background-color: var(--sklearn-color-background);\n",
              "}\n",
              "\n",
              "#sk-container-id-1 div.sk-container {\n",
              "  /* jupyter's `normalize.less` sets `[hidden] { display: none; }`\n",
              "     but bootstrap.min.css set `[hidden] { display: none !important; }`\n",
              "     so we also need the `!important` here to be able to override the\n",
              "     default hidden behavior on the sphinx rendered scikit-learn.org.\n",
              "     See: https://github.com/scikit-learn/scikit-learn/issues/21755 */\n",
              "  display: inline-block !important;\n",
              "  position: relative;\n",
              "}\n",
              "\n",
              "#sk-container-id-1 div.sk-text-repr-fallback {\n",
              "  display: none;\n",
              "}\n",
              "\n",
              "div.sk-parallel-item,\n",
              "div.sk-serial,\n",
              "div.sk-item {\n",
              "  /* draw centered vertical line to link estimators */\n",
              "  background-image: linear-gradient(var(--sklearn-color-text-on-default-background), var(--sklearn-color-text-on-default-background));\n",
              "  background-size: 2px 100%;\n",
              "  background-repeat: no-repeat;\n",
              "  background-position: center center;\n",
              "}\n",
              "\n",
              "/* Parallel-specific style estimator block */\n",
              "\n",
              "#sk-container-id-1 div.sk-parallel-item::after {\n",
              "  content: \"\";\n",
              "  width: 100%;\n",
              "  border-bottom: 2px solid var(--sklearn-color-text-on-default-background);\n",
              "  flex-grow: 1;\n",
              "}\n",
              "\n",
              "#sk-container-id-1 div.sk-parallel {\n",
              "  display: flex;\n",
              "  align-items: stretch;\n",
              "  justify-content: center;\n",
              "  background-color: var(--sklearn-color-background);\n",
              "  position: relative;\n",
              "}\n",
              "\n",
              "#sk-container-id-1 div.sk-parallel-item {\n",
              "  display: flex;\n",
              "  flex-direction: column;\n",
              "}\n",
              "\n",
              "#sk-container-id-1 div.sk-parallel-item:first-child::after {\n",
              "  align-self: flex-end;\n",
              "  width: 50%;\n",
              "}\n",
              "\n",
              "#sk-container-id-1 div.sk-parallel-item:last-child::after {\n",
              "  align-self: flex-start;\n",
              "  width: 50%;\n",
              "}\n",
              "\n",
              "#sk-container-id-1 div.sk-parallel-item:only-child::after {\n",
              "  width: 0;\n",
              "}\n",
              "\n",
              "/* Serial-specific style estimator block */\n",
              "\n",
              "#sk-container-id-1 div.sk-serial {\n",
              "  display: flex;\n",
              "  flex-direction: column;\n",
              "  align-items: center;\n",
              "  background-color: var(--sklearn-color-background);\n",
              "  padding-right: 1em;\n",
              "  padding-left: 1em;\n",
              "}\n",
              "\n",
              "\n",
              "/* Toggleable style: style used for estimator/Pipeline/ColumnTransformer box that is\n",
              "clickable and can be expanded/collapsed.\n",
              "- Pipeline and ColumnTransformer use this feature and define the default style\n",
              "- Estimators will overwrite some part of the style using the `sk-estimator` class\n",
              "*/\n",
              "\n",
              "/* Pipeline and ColumnTransformer style (default) */\n",
              "\n",
              "#sk-container-id-1 div.sk-toggleable {\n",
              "  /* Default theme specific background. It is overwritten whether we have a\n",
              "  specific estimator or a Pipeline/ColumnTransformer */\n",
              "  background-color: var(--sklearn-color-background);\n",
              "}\n",
              "\n",
              "/* Toggleable label */\n",
              "#sk-container-id-1 label.sk-toggleable__label {\n",
              "  cursor: pointer;\n",
              "  display: flex;\n",
              "  width: 100%;\n",
              "  margin-bottom: 0;\n",
              "  padding: 0.5em;\n",
              "  box-sizing: border-box;\n",
              "  text-align: center;\n",
              "  align-items: start;\n",
              "  justify-content: space-between;\n",
              "  gap: 0.5em;\n",
              "}\n",
              "\n",
              "#sk-container-id-1 label.sk-toggleable__label .caption {\n",
              "  font-size: 0.6rem;\n",
              "  font-weight: lighter;\n",
              "  color: var(--sklearn-color-text-muted);\n",
              "}\n",
              "\n",
              "#sk-container-id-1 label.sk-toggleable__label-arrow:before {\n",
              "  /* Arrow on the left of the label */\n",
              "  content: \"▸\";\n",
              "  float: left;\n",
              "  margin-right: 0.25em;\n",
              "  color: var(--sklearn-color-icon);\n",
              "}\n",
              "\n",
              "#sk-container-id-1 label.sk-toggleable__label-arrow:hover:before {\n",
              "  color: var(--sklearn-color-text);\n",
              "}\n",
              "\n",
              "/* Toggleable content - dropdown */\n",
              "\n",
              "#sk-container-id-1 div.sk-toggleable__content {\n",
              "  max-height: 0;\n",
              "  max-width: 0;\n",
              "  overflow: hidden;\n",
              "  text-align: left;\n",
              "  /* unfitted */\n",
              "  background-color: var(--sklearn-color-unfitted-level-0);\n",
              "}\n",
              "\n",
              "#sk-container-id-1 div.sk-toggleable__content.fitted {\n",
              "  /* fitted */\n",
              "  background-color: var(--sklearn-color-fitted-level-0);\n",
              "}\n",
              "\n",
              "#sk-container-id-1 div.sk-toggleable__content pre {\n",
              "  margin: 0.2em;\n",
              "  border-radius: 0.25em;\n",
              "  color: var(--sklearn-color-text);\n",
              "  /* unfitted */\n",
              "  background-color: var(--sklearn-color-unfitted-level-0);\n",
              "}\n",
              "\n",
              "#sk-container-id-1 div.sk-toggleable__content.fitted pre {\n",
              "  /* unfitted */\n",
              "  background-color: var(--sklearn-color-fitted-level-0);\n",
              "}\n",
              "\n",
              "#sk-container-id-1 input.sk-toggleable__control:checked~div.sk-toggleable__content {\n",
              "  /* Expand drop-down */\n",
              "  max-height: 200px;\n",
              "  max-width: 100%;\n",
              "  overflow: auto;\n",
              "}\n",
              "\n",
              "#sk-container-id-1 input.sk-toggleable__control:checked~label.sk-toggleable__label-arrow:before {\n",
              "  content: \"▾\";\n",
              "}\n",
              "\n",
              "/* Pipeline/ColumnTransformer-specific style */\n",
              "\n",
              "#sk-container-id-1 div.sk-label input.sk-toggleable__control:checked~label.sk-toggleable__label {\n",
              "  color: var(--sklearn-color-text);\n",
              "  background-color: var(--sklearn-color-unfitted-level-2);\n",
              "}\n",
              "\n",
              "#sk-container-id-1 div.sk-label.fitted input.sk-toggleable__control:checked~label.sk-toggleable__label {\n",
              "  background-color: var(--sklearn-color-fitted-level-2);\n",
              "}\n",
              "\n",
              "/* Estimator-specific style */\n",
              "\n",
              "/* Colorize estimator box */\n",
              "#sk-container-id-1 div.sk-estimator input.sk-toggleable__control:checked~label.sk-toggleable__label {\n",
              "  /* unfitted */\n",
              "  background-color: var(--sklearn-color-unfitted-level-2);\n",
              "}\n",
              "\n",
              "#sk-container-id-1 div.sk-estimator.fitted input.sk-toggleable__control:checked~label.sk-toggleable__label {\n",
              "  /* fitted */\n",
              "  background-color: var(--sklearn-color-fitted-level-2);\n",
              "}\n",
              "\n",
              "#sk-container-id-1 div.sk-label label.sk-toggleable__label,\n",
              "#sk-container-id-1 div.sk-label label {\n",
              "  /* The background is the default theme color */\n",
              "  color: var(--sklearn-color-text-on-default-background);\n",
              "}\n",
              "\n",
              "/* On hover, darken the color of the background */\n",
              "#sk-container-id-1 div.sk-label:hover label.sk-toggleable__label {\n",
              "  color: var(--sklearn-color-text);\n",
              "  background-color: var(--sklearn-color-unfitted-level-2);\n",
              "}\n",
              "\n",
              "/* Label box, darken color on hover, fitted */\n",
              "#sk-container-id-1 div.sk-label.fitted:hover label.sk-toggleable__label.fitted {\n",
              "  color: var(--sklearn-color-text);\n",
              "  background-color: var(--sklearn-color-fitted-level-2);\n",
              "}\n",
              "\n",
              "/* Estimator label */\n",
              "\n",
              "#sk-container-id-1 div.sk-label label {\n",
              "  font-family: monospace;\n",
              "  font-weight: bold;\n",
              "  display: inline-block;\n",
              "  line-height: 1.2em;\n",
              "}\n",
              "\n",
              "#sk-container-id-1 div.sk-label-container {\n",
              "  text-align: center;\n",
              "}\n",
              "\n",
              "/* Estimator-specific */\n",
              "#sk-container-id-1 div.sk-estimator {\n",
              "  font-family: monospace;\n",
              "  border: 1px dotted var(--sklearn-color-border-box);\n",
              "  border-radius: 0.25em;\n",
              "  box-sizing: border-box;\n",
              "  margin-bottom: 0.5em;\n",
              "  /* unfitted */\n",
              "  background-color: var(--sklearn-color-unfitted-level-0);\n",
              "}\n",
              "\n",
              "#sk-container-id-1 div.sk-estimator.fitted {\n",
              "  /* fitted */\n",
              "  background-color: var(--sklearn-color-fitted-level-0);\n",
              "}\n",
              "\n",
              "/* on hover */\n",
              "#sk-container-id-1 div.sk-estimator:hover {\n",
              "  /* unfitted */\n",
              "  background-color: var(--sklearn-color-unfitted-level-2);\n",
              "}\n",
              "\n",
              "#sk-container-id-1 div.sk-estimator.fitted:hover {\n",
              "  /* fitted */\n",
              "  background-color: var(--sklearn-color-fitted-level-2);\n",
              "}\n",
              "\n",
              "/* Specification for estimator info (e.g. \"i\" and \"?\") */\n",
              "\n",
              "/* Common style for \"i\" and \"?\" */\n",
              "\n",
              ".sk-estimator-doc-link,\n",
              "a:link.sk-estimator-doc-link,\n",
              "a:visited.sk-estimator-doc-link {\n",
              "  float: right;\n",
              "  font-size: smaller;\n",
              "  line-height: 1em;\n",
              "  font-family: monospace;\n",
              "  background-color: var(--sklearn-color-background);\n",
              "  border-radius: 1em;\n",
              "  height: 1em;\n",
              "  width: 1em;\n",
              "  text-decoration: none !important;\n",
              "  margin-left: 0.5em;\n",
              "  text-align: center;\n",
              "  /* unfitted */\n",
              "  border: var(--sklearn-color-unfitted-level-1) 1pt solid;\n",
              "  color: var(--sklearn-color-unfitted-level-1);\n",
              "}\n",
              "\n",
              ".sk-estimator-doc-link.fitted,\n",
              "a:link.sk-estimator-doc-link.fitted,\n",
              "a:visited.sk-estimator-doc-link.fitted {\n",
              "  /* fitted */\n",
              "  border: var(--sklearn-color-fitted-level-1) 1pt solid;\n",
              "  color: var(--sklearn-color-fitted-level-1);\n",
              "}\n",
              "\n",
              "/* On hover */\n",
              "div.sk-estimator:hover .sk-estimator-doc-link:hover,\n",
              ".sk-estimator-doc-link:hover,\n",
              "div.sk-label-container:hover .sk-estimator-doc-link:hover,\n",
              ".sk-estimator-doc-link:hover {\n",
              "  /* unfitted */\n",
              "  background-color: var(--sklearn-color-unfitted-level-3);\n",
              "  color: var(--sklearn-color-background);\n",
              "  text-decoration: none;\n",
              "}\n",
              "\n",
              "div.sk-estimator.fitted:hover .sk-estimator-doc-link.fitted:hover,\n",
              ".sk-estimator-doc-link.fitted:hover,\n",
              "div.sk-label-container:hover .sk-estimator-doc-link.fitted:hover,\n",
              ".sk-estimator-doc-link.fitted:hover {\n",
              "  /* fitted */\n",
              "  background-color: var(--sklearn-color-fitted-level-3);\n",
              "  color: var(--sklearn-color-background);\n",
              "  text-decoration: none;\n",
              "}\n",
              "\n",
              "/* Span, style for the box shown on hovering the info icon */\n",
              ".sk-estimator-doc-link span {\n",
              "  display: none;\n",
              "  z-index: 9999;\n",
              "  position: relative;\n",
              "  font-weight: normal;\n",
              "  right: .2ex;\n",
              "  padding: .5ex;\n",
              "  margin: .5ex;\n",
              "  width: min-content;\n",
              "  min-width: 20ex;\n",
              "  max-width: 50ex;\n",
              "  color: var(--sklearn-color-text);\n",
              "  box-shadow: 2pt 2pt 4pt #999;\n",
              "  /* unfitted */\n",
              "  background: var(--sklearn-color-unfitted-level-0);\n",
              "  border: .5pt solid var(--sklearn-color-unfitted-level-3);\n",
              "}\n",
              "\n",
              ".sk-estimator-doc-link.fitted span {\n",
              "  /* fitted */\n",
              "  background: var(--sklearn-color-fitted-level-0);\n",
              "  border: var(--sklearn-color-fitted-level-3);\n",
              "}\n",
              "\n",
              ".sk-estimator-doc-link:hover span {\n",
              "  display: block;\n",
              "}\n",
              "\n",
              "/* \"?\"-specific style due to the `<a>` HTML tag */\n",
              "\n",
              "#sk-container-id-1 a.estimator_doc_link {\n",
              "  float: right;\n",
              "  font-size: 1rem;\n",
              "  line-height: 1em;\n",
              "  font-family: monospace;\n",
              "  background-color: var(--sklearn-color-background);\n",
              "  border-radius: 1rem;\n",
              "  height: 1rem;\n",
              "  width: 1rem;\n",
              "  text-decoration: none;\n",
              "  /* unfitted */\n",
              "  color: var(--sklearn-color-unfitted-level-1);\n",
              "  border: var(--sklearn-color-unfitted-level-1) 1pt solid;\n",
              "}\n",
              "\n",
              "#sk-container-id-1 a.estimator_doc_link.fitted {\n",
              "  /* fitted */\n",
              "  border: var(--sklearn-color-fitted-level-1) 1pt solid;\n",
              "  color: var(--sklearn-color-fitted-level-1);\n",
              "}\n",
              "\n",
              "/* On hover */\n",
              "#sk-container-id-1 a.estimator_doc_link:hover {\n",
              "  /* unfitted */\n",
              "  background-color: var(--sklearn-color-unfitted-level-3);\n",
              "  color: var(--sklearn-color-background);\n",
              "  text-decoration: none;\n",
              "}\n",
              "\n",
              "#sk-container-id-1 a.estimator_doc_link.fitted:hover {\n",
              "  /* fitted */\n",
              "  background-color: var(--sklearn-color-fitted-level-3);\n",
              "}\n",
              "</style><div id=\"sk-container-id-1\" class=\"sk-top-container\"><div class=\"sk-text-repr-fallback\"><pre>MultinomialNB()</pre><b>In a Jupyter environment, please rerun this cell to show the HTML representation or trust the notebook. <br />On GitHub, the HTML representation is unable to render, please try loading this page with nbviewer.org.</b></div><div class=\"sk-container\" hidden><div class=\"sk-item\"><div class=\"sk-estimator fitted sk-toggleable\"><input class=\"sk-toggleable__control sk-hidden--visually\" id=\"sk-estimator-id-1\" type=\"checkbox\" checked><label for=\"sk-estimator-id-1\" class=\"sk-toggleable__label fitted sk-toggleable__label-arrow\"><div><div>MultinomialNB</div></div><div><a class=\"sk-estimator-doc-link fitted\" rel=\"noreferrer\" target=\"_blank\" href=\"https://scikit-learn.org/1.6/modules/generated/sklearn.naive_bayes.MultinomialNB.html\">?<span>Documentation for MultinomialNB</span></a><span class=\"sk-estimator-doc-link fitted\">i<span>Fitted</span></span></div></label><div class=\"sk-toggleable__content fitted\"><pre>MultinomialNB()</pre></div> </div></div></div></div>"
            ]
          },
          "metadata": {},
          "execution_count": 24
        }
      ]
    },
    {
      "cell_type": "code",
      "source": [
        "from sklearn.metrics import precision_recall_curve, auc"
      ],
      "metadata": {
        "id": "MLm9_dNh8cVG"
      },
      "execution_count": 25,
      "outputs": []
    },
    {
      "cell_type": "code",
      "source": [
        "nb_result = evaluate_model(mnb_model, X_test, y_test)\n",
        "nb_result"
      ],
      "metadata": {
        "colab": {
          "base_uri": "https://localhost:8080/"
        },
        "id": "B_B-IamP9QdT",
        "outputId": "ffc97a7e-1eeb-4ce2-fb16-c16bbe514aae"
      },
      "execution_count": 26,
      "outputs": [
        {
          "output_type": "execute_result",
          "data": {
            "text/plain": [
              "{'Accuracy': 0.9271086428323498,\n",
              " 'Confusion Matrix': array([[1373,   84],\n",
              "        [ 126, 1298]])}"
            ]
          },
          "metadata": {},
          "execution_count": 26
        }
      ]
    },
    {
      "cell_type": "code",
      "source": [
        "# Create a heatmap\n",
        "\n",
        "plt.figure(figsize=(10, 6))\n",
        "sns.heatmap(nb_result['Confusion Matrix'], annot=True, fmt='d', cmap='Blues', cbar=False,\n",
        "            xticklabels=['Predicted_Fake', 'Predicted_Real'], yticklabels=['Actual_Fake', 'Actual_Real'])\n",
        "plt.xlabel('Predicted')\n",
        "plt.ylabel('Actual')\n",
        "plt.title('Confusion Matrix')\n",
        "plt.show()"
      ],
      "metadata": {
        "colab": {
          "base_uri": "https://localhost:8080/",
          "height": 537
        },
        "id": "aiDQgHLj-UMo",
        "outputId": "1f0c1b46-82ab-4ab0-b858-eb53de78ff19"
      },
      "execution_count": 27,
      "outputs": [
        {
          "output_type": "display_data",
          "data": {
            "text/plain": [
              "<Figure size 1000x600 with 1 Axes>"
            ],
            "image/png": "[encoded data removed]"
          },
          "metadata": {}
        }
      ]
    },
    {
      "cell_type": "code",
      "source": [
        "print(classification_report(y_test, mnb_model.predict(X_test)))"
      ],
      "metadata": {
        "colab": {
          "base_uri": "https://localhost:8080/"
        },
        "id": "yYZrNH4h_gUE",
        "outputId": "7192a12f-f6d7-4c62-831e-0ac0fcbe2b5c"
      },
      "execution_count": 28,
      "outputs": [
        {
          "output_type": "stream",
          "name": "stdout",
          "text": [
            "              precision    recall  f1-score   support\n",
            "\n",
            "           0       0.92      0.94      0.93      1457\n",
            "           1       0.94      0.91      0.93      1424\n",
            "\n",
            "    accuracy                           0.93      2881\n",
            "   macro avg       0.93      0.93      0.93      2881\n",
            "weighted avg       0.93      0.93      0.93      2881\n",
            "\n"
          ]
        }
      ]
    },
    {
      "cell_type": "code",
      "source": [
        "from sklearn.metrics import roc_curve, auc\n",
        "\n",
        "y_pred_proba = mnb_model.predict_proba(X_test)[:, 1]\n",
        "fpr, tpr, thresholds = roc_curve(y_test, y_pred_proba)\n",
        "roc_auc = auc(fpr, tpr)\n",
        "\n",
        "plt.figure()\n",
        "plt.plot(fpr, tpr, color='darkorange', lw=2, label='ROC curve (area = %0.2f)' % roc_auc)\n",
        "plt.plot([0, 1], [0, 1], color='navy', lw=2, linestyle='--')\n",
        "plt.xlim([0.0, 1.0])\n",
        "plt.ylim([0.0, 1.05])\n",
        "plt.xlabel('False Positive Rate')\n",
        "plt.ylabel('True Positive Rate')\n",
        "plt.title('Receiver Operating Characteristic')\n",
        "plt.legend(loc=\"lower right\")\n",
        "plt.show()"
      ],
      "metadata": {
        "colab": {
          "base_uri": "https://localhost:8080/",
          "height": 472
        },
        "id": "RlMsEv2r_yre",
        "outputId": "53318f6a-be41-4a1b-927e-caf2845541f7"
      },
      "execution_count": 29,
      "outputs": [
        {
          "output_type": "display_data",
          "data": {
            "text/plain": [
              "<Figure size 640x480 with 1 Axes>"
            ],
            "image/png": "[encoded data removed]"
          },
          "metadata": {}
        }
      ]
    },
    {
      "cell_type": "markdown",
      "source": [
        "**Bernoulli Naive Bayes**"
      ],
      "metadata": {
        "id": "bHdtR1t3CTSf"
      }
    },
    {
      "cell_type": "code",
      "source": [
        "bnb_model = BernoulliNB(alpha=1.0, fit_prior=True, class_prior=None)\n",
        "bnb_model.fit(X_train, y_train)"
      ],
      "metadata": {
        "colab": {
          "base_uri": "https://localhost:8080/",
          "height": 80
        },
        "id": "YnSgqlVnCa-P",
        "outputId": "94521d47-f309-4665-b5d2-e42c4005a642"
      },
      "execution_count": 30,
      "outputs": [
        {
          "output_type": "execute_result",
          "data": {
            "text/plain": [
              "BernoulliNB()"
            ],
            "text/html": [
              "<style>#sk-container-id-2 {\n",
              "  /* Definition of color scheme common for light and dark mode */\n",
              "  --sklearn-color-text: #000;\n",
              "  --sklearn-color-text-muted: #666;\n",
              "  --sklearn-color-line: gray;\n",
              "  /* Definition of color scheme for unfitted estimators */\n",
              "  --sklearn-color-unfitted-level-0: #fff5e6;\n",
              "  --sklearn-color-unfitted-level-1: #f6e4d2;\n",
              "  --sklearn-color-unfitted-level-2: #ffe0b3;\n",
              "  --sklearn-color-unfitted-level-3: chocolate;\n",
              "  /* Definition of color scheme for fitted estimators */\n",
              "  --sklearn-color-fitted-level-0: #f0f8ff;\n",
              "  --sklearn-color-fitted-level-1: #d4ebff;\n",
              "  --sklearn-color-fitted-level-2: #b3dbfd;\n",
              "  --sklearn-color-fitted-level-3: cornflowerblue;\n",
              "\n",
              "  /* Specific color for light theme */\n",
              "  --sklearn-color-text-on-default-background: var(--sg-text-color, var(--theme-code-foreground, var(--jp-content-font-color1, black)));\n",
              "  --sklearn-color-background: var(--sg-background-color, var(--theme-background, var(--jp-layout-color0, white)));\n",
              "  --sklearn-color-border-box: var(--sg-text-color, var(--theme-code-foreground, var(--jp-content-font-color1, black)));\n",
              "  --sklearn-color-icon: #696969;\n",
              "\n",
              "  @media (prefers-color-scheme: dark) {\n",
              "    /* Redefinition of color scheme for dark theme */\n",
              "    --sklearn-color-text-on-default-background: var(--sg-text-color, var(--theme-code-foreground, var(--jp-content-font-color1, white)));\n",
              "    --sklearn-color-background: var(--sg-background-color, var(--theme-background, var(--jp-layout-color0, #111)));\n",
              "    --sklearn-color-border-box: var(--sg-text-color, var(--theme-code-foreground, var(--jp-content-font-color1, white)));\n",
              "    --sklearn-color-icon: #878787;\n",
              "  }\n",
              "}\n",
              "\n",
              "#sk-container-id-2 {\n",
              "  color: var(--sklearn-color-text);\n",
              "}\n",
              "\n",
              "#sk-container-id-2 pre {\n",
              "  padding: 0;\n",
              "}\n",
              "\n",
              "#sk-container-id-2 input.sk-hidden--visually {\n",
              "  border: 0;\n",
              "  clip: rect(1px 1px 1px 1px);\n",
              "  clip: rect(1px, 1px, 1px, 1px);\n",
              "  height: 1px;\n",
              "  margin: -1px;\n",
              "  overflow: hidden;\n",
              "  padding: 0;\n",
              "  position: absolute;\n",
              "  width: 1px;\n",
              "}\n",
              "\n",
              "#sk-container-id-2 div.sk-dashed-wrapped {\n",
              "  border: 1px dashed var(--sklearn-color-line);\n",
              "  margin: 0 0.4em 0.5em 0.4em;\n",
              "  box-sizing: border-box;\n",
              "  padding-bottom: 0.4em;\n",
              "  background-color: var(--sklearn-color-background);\n",
              "}\n",
              "\n",
              "#sk-container-id-2 div.sk-container {\n",
              "  /* jupyter's `normalize.less` sets `[hidden] { display: none; }`\n",
              "     but bootstrap.min.css set `[hidden] { display: none !important; }`\n",
              "     so we also need the `!important` here to be able to override the\n",
              "     default hidden behavior on the sphinx rendered scikit-learn.org.\n",
              "     See: https://github.com/scikit-learn/scikit-learn/issues/21755 */\n",
              "  display: inline-block !important;\n",
              "  position: relative;\n",
              "}\n",
              "\n",
              "#sk-container-id-2 div.sk-text-repr-fallback {\n",
              "  display: none;\n",
              "}\n",
              "\n",
              "div.sk-parallel-item,\n",
              "div.sk-serial,\n",
              "div.sk-item {\n",
              "  /* draw centered vertical line to link estimators */\n",
              "  background-image: linear-gradient(var(--sklearn-color-text-on-default-background), var(--sklearn-color-text-on-default-background));\n",
              "  background-size: 2px 100%;\n",
              "  background-repeat: no-repeat;\n",
              "  background-position: center center;\n",
              "}\n",
              "\n",
              "/* Parallel-specific style estimator block */\n",
              "\n",
              "#sk-container-id-2 div.sk-parallel-item::after {\n",
              "  content: \"\";\n",
              "  width: 100%;\n",
              "  border-bottom: 2px solid var(--sklearn-color-text-on-default-background);\n",
              "  flex-grow: 1;\n",
              "}\n",
              "\n",
              "#sk-container-id-2 div.sk-parallel {\n",
              "  display: flex;\n",
              "  align-items: stretch;\n",
              "  justify-content: center;\n",
              "  background-color: var(--sklearn-color-background);\n",
              "  position: relative;\n",
              "}\n",
              "\n",
              "#sk-container-id-2 div.sk-parallel-item {\n",
              "  display: flex;\n",
              "  flex-direction: column;\n",
              "}\n",
              "\n",
              "#sk-container-id-2 div.sk-parallel-item:first-child::after {\n",
              "  align-self: flex-end;\n",
              "  width: 50%;\n",
              "}\n",
              "\n",
              "#sk-container-id-2 div.sk-parallel-item:last-child::after {\n",
              "  align-self: flex-start;\n",
              "  width: 50%;\n",
              "}\n",
              "\n",
              "#sk-container-id-2 div.sk-parallel-item:only-child::after {\n",
              "  width: 0;\n",
              "}\n",
              "\n",
              "/* Serial-specific style estimator block */\n",
              "\n",
              "#sk-container-id-2 div.sk-serial {\n",
              "  display: flex;\n",
              "  flex-direction: column;\n",
              "  align-items: center;\n",
              "  background-color: var(--sklearn-color-background);\n",
              "  padding-right: 1em;\n",
              "  padding-left: 1em;\n",
              "}\n",
              "\n",
              "\n",
              "/* Toggleable style: style used for estimator/Pipeline/ColumnTransformer box that is\n",
              "clickable and can be expanded/collapsed.\n",
              "- Pipeline and ColumnTransformer use this feature and define the default style\n",
              "- Estimators will overwrite some part of the style using the `sk-estimator` class\n",
              "*/\n",
              "\n",
              "/* Pipeline and ColumnTransformer style (default) */\n",
              "\n",
              "#sk-container-id-2 div.sk-toggleable {\n",
              "  /* Default theme specific background. It is overwritten whether we have a\n",
              "  specific estimator or a Pipeline/ColumnTransformer */\n",
              "  background-color: var(--sklearn-color-background);\n",
              "}\n",
              "\n",
              "/* Toggleable label */\n",
              "#sk-container-id-2 label.sk-toggleable__label {\n",
              "  cursor: pointer;\n",
              "  display: flex;\n",
              "  width: 100%;\n",
              "  margin-bottom: 0;\n",
              "  padding: 0.5em;\n",
              "  box-sizing: border-box;\n",
              "  text-align: center;\n",
              "  align-items: start;\n",
              "  justify-content: space-between;\n",
              "  gap: 0.5em;\n",
              "}\n",
              "\n",
              "#sk-container-id-2 label.sk-toggleable__label .caption {\n",
              "  font-size: 0.6rem;\n",
              "  font-weight: lighter;\n",
              "  color: var(--sklearn-color-text-muted);\n",
              "}\n",
              "\n",
              "#sk-container-id-2 label.sk-toggleable__label-arrow:before {\n",
              "  /* Arrow on the left of the label */\n",
              "  content: \"▸\";\n",
              "  float: left;\n",
              "  margin-right: 0.25em;\n",
              "  color: var(--sklearn-color-icon);\n",
              "}\n",
              "\n",
              "#sk-container-id-2 label.sk-toggleable__label-arrow:hover:before {\n",
              "  color: var(--sklearn-color-text);\n",
              "}\n",
              "\n",
              "/* Toggleable content - dropdown */\n",
              "\n",
              "#sk-container-id-2 div.sk-toggleable__content {\n",
              "  max-height: 0;\n",
              "  max-width: 0;\n",
              "  overflow: hidden;\n",
              "  text-align: left;\n",
              "  /* unfitted */\n",
              "  background-color: var(--sklearn-color-unfitted-level-0);\n",
              "}\n",
              "\n",
              "#sk-container-id-2 div.sk-toggleable__content.fitted {\n",
              "  /* fitted */\n",
              "  background-color: var(--sklearn-color-fitted-level-0);\n",
              "}\n",
              "\n",
              "#sk-container-id-2 div.sk-toggleable__content pre {\n",
              "  margin: 0.2em;\n",
              "  border-radius: 0.25em;\n",
              "  color: var(--sklearn-color-text);\n",
              "  /* unfitted */\n",
              "  background-color: var(--sklearn-color-unfitted-level-0);\n",
              "}\n",
              "\n",
              "#sk-container-id-2 div.sk-toggleable__content.fitted pre {\n",
              "  /* unfitted */\n",
              "  background-color: var(--sklearn-color-fitted-level-0);\n",
              "}\n",
              "\n",
              "#sk-container-id-2 input.sk-toggleable__control:checked~div.sk-toggleable__content {\n",
              "  /* Expand drop-down */\n",
              "  max-height: 200px;\n",
              "  max-width: 100%;\n",
              "  overflow: auto;\n",
              "}\n",
              "\n",
              "#sk-container-id-2 input.sk-toggleable__control:checked~label.sk-toggleable__label-arrow:before {\n",
              "  content: \"▾\";\n",
              "}\n",
              "\n",
              "/* Pipeline/ColumnTransformer-specific style */\n",
              "\n",
              "#sk-container-id-2 div.sk-label input.sk-toggleable__control:checked~label.sk-toggleable__label {\n",
              "  color: var(--sklearn-color-text);\n",
              "  background-color: var(--sklearn-color-unfitted-level-2);\n",
              "}\n",
              "\n",
              "#sk-container-id-2 div.sk-label.fitted input.sk-toggleable__control:checked~label.sk-toggleable__label {\n",
              "  background-color: var(--sklearn-color-fitted-level-2);\n",
              "}\n",
              "\n",
              "/* Estimator-specific style */\n",
              "\n",
              "/* Colorize estimator box */\n",
              "#sk-container-id-2 div.sk-estimator input.sk-toggleable__control:checked~label.sk-toggleable__label {\n",
              "  /* unfitted */\n",
              "  background-color: var(--sklearn-color-unfitted-level-2);\n",
              "}\n",
              "\n",
              "#sk-container-id-2 div.sk-estimator.fitted input.sk-toggleable__control:checked~label.sk-toggleable__label {\n",
              "  /* fitted */\n",
              "  background-color: var(--sklearn-color-fitted-level-2);\n",
              "}\n",
              "\n",
              "#sk-container-id-2 div.sk-label label.sk-toggleable__label,\n",
              "#sk-container-id-2 div.sk-label label {\n",
              "  /* The background is the default theme color */\n",
              "  color: var(--sklearn-color-text-on-default-background);\n",
              "}\n",
              "\n",
              "/* On hover, darken the color of the background */\n",
              "#sk-container-id-2 div.sk-label:hover label.sk-toggleable__label {\n",
              "  color: var(--sklearn-color-text);\n",
              "  background-color: var(--sklearn-color-unfitted-level-2);\n",
              "}\n",
              "\n",
              "/* Label box, darken color on hover, fitted */\n",
              "#sk-container-id-2 div.sk-label.fitted:hover label.sk-toggleable__label.fitted {\n",
              "  color: var(--sklearn-color-text);\n",
              "  background-color: var(--sklearn-color-fitted-level-2);\n",
              "}\n",
              "\n",
              "/* Estimator label */\n",
              "\n",
              "#sk-container-id-2 div.sk-label label {\n",
              "  font-family: monospace;\n",
              "  font-weight: bold;\n",
              "  display: inline-block;\n",
              "  line-height: 1.2em;\n",
              "}\n",
              "\n",
              "#sk-container-id-2 div.sk-label-container {\n",
              "  text-align: center;\n",
              "}\n",
              "\n",
              "/* Estimator-specific */\n",
              "#sk-container-id-2 div.sk-estimator {\n",
              "  font-family: monospace;\n",
              "  border: 1px dotted var(--sklearn-color-border-box);\n",
              "  border-radius: 0.25em;\n",
              "  box-sizing: border-box;\n",
              "  margin-bottom: 0.5em;\n",
              "  /* unfitted */\n",
              "  background-color: var(--sklearn-color-unfitted-level-0);\n",
              "}\n",
              "\n",
              "#sk-container-id-2 div.sk-estimator.fitted {\n",
              "  /* fitted */\n",
              "  background-color: var(--sklearn-color-fitted-level-0);\n",
              "}\n",
              "\n",
              "/* on hover */\n",
              "#sk-container-id-2 div.sk-estimator:hover {\n",
              "  /* unfitted */\n",
              "  background-color: var(--sklearn-color-unfitted-level-2);\n",
              "}\n",
              "\n",
              "#sk-container-id-2 div.sk-estimator.fitted:hover {\n",
              "  /* fitted */\n",
              "  background-color: var(--sklearn-color-fitted-level-2);\n",
              "}\n",
              "\n",
              "/* Specification for estimator info (e.g. \"i\" and \"?\") */\n",
              "\n",
              "/* Common style for \"i\" and \"?\" */\n",
              "\n",
              ".sk-estimator-doc-link,\n",
              "a:link.sk-estimator-doc-link,\n",
              "a:visited.sk-estimator-doc-link {\n",
              "  float: right;\n",
              "  font-size: smaller;\n",
              "  line-height: 1em;\n",
              "  font-family: monospace;\n",
              "  background-color: var(--sklearn-color-background);\n",
              "  border-radius: 1em;\n",
              "  height: 1em;\n",
              "  width: 1em;\n",
              "  text-decoration: none !important;\n",
              "  margin-left: 0.5em;\n",
              "  text-align: center;\n",
              "  /* unfitted */\n",
              "  border: var(--sklearn-color-unfitted-level-1) 1pt solid;\n",
              "  color: var(--sklearn-color-unfitted-level-1);\n",
              "}\n",
              "\n",
              ".sk-estimator-doc-link.fitted,\n",
              "a:link.sk-estimator-doc-link.fitted,\n",
              "a:visited.sk-estimator-doc-link.fitted {\n",
              "  /* fitted */\n",
              "  border: var(--sklearn-color-fitted-level-1) 1pt solid;\n",
              "  color: var(--sklearn-color-fitted-level-1);\n",
              "}\n",
              "\n",
              "/* On hover */\n",
              "div.sk-estimator:hover .sk-estimator-doc-link:hover,\n",
              ".sk-estimator-doc-link:hover,\n",
              "div.sk-label-container:hover .sk-estimator-doc-link:hover,\n",
              ".sk-estimator-doc-link:hover {\n",
              "  /* unfitted */\n",
              "  background-color: var(--sklearn-color-unfitted-level-3);\n",
              "  color: var(--sklearn-color-background);\n",
              "  text-decoration: none;\n",
              "}\n",
              "\n",
              "div.sk-estimator.fitted:hover .sk-estimator-doc-link.fitted:hover,\n",
              ".sk-estimator-doc-link.fitted:hover,\n",
              "div.sk-label-container:hover .sk-estimator-doc-link.fitted:hover,\n",
              ".sk-estimator-doc-link.fitted:hover {\n",
              "  /* fitted */\n",
              "  background-color: var(--sklearn-color-fitted-level-3);\n",
              "  color: var(--sklearn-color-background);\n",
              "  text-decoration: none;\n",
              "}\n",
              "\n",
              "/* Span, style for the box shown on hovering the info icon */\n",
              ".sk-estimator-doc-link span {\n",
              "  display: none;\n",
              "  z-index: 9999;\n",
              "  position: relative;\n",
              "  font-weight: normal;\n",
              "  right: .2ex;\n",
              "  padding: .5ex;\n",
              "  margin: .5ex;\n",
              "  width: min-content;\n",
              "  min-width: 20ex;\n",
              "  max-width: 50ex;\n",
              "  color: var(--sklearn-color-text);\n",
              "  box-shadow: 2pt 2pt 4pt #999;\n",
              "  /* unfitted */\n",
              "  background: var(--sklearn-color-unfitted-level-0);\n",
              "  border: .5pt solid var(--sklearn-color-unfitted-level-3);\n",
              "}\n",
              "\n",
              ".sk-estimator-doc-link.fitted span {\n",
              "  /* fitted */\n",
              "  background: var(--sklearn-color-fitted-level-0);\n",
              "  border: var(--sklearn-color-fitted-level-3);\n",
              "}\n",
              "\n",
              ".sk-estimator-doc-link:hover span {\n",
              "  display: block;\n",
              "}\n",
              "\n",
              "/* \"?\"-specific style due to the `<a>` HTML tag */\n",
              "\n",
              "#sk-container-id-2 a.estimator_doc_link {\n",
              "  float: right;\n",
              "  font-size: 1rem;\n",
              "  line-height: 1em;\n",
              "  font-family: monospace;\n",
              "  background-color: var(--sklearn-color-background);\n",
              "  border-radius: 1rem;\n",
              "  height: 1rem;\n",
              "  width: 1rem;\n",
              "  text-decoration: none;\n",
              "  /* unfitted */\n",
              "  color: var(--sklearn-color-unfitted-level-1);\n",
              "  border: var(--sklearn-color-unfitted-level-1) 1pt solid;\n",
              "}\n",
              "\n",
              "#sk-container-id-2 a.estimator_doc_link.fitted {\n",
              "  /* fitted */\n",
              "  border: var(--sklearn-color-fitted-level-1) 1pt solid;\n",
              "  color: var(--sklearn-color-fitted-level-1);\n",
              "}\n",
              "\n",
              "/* On hover */\n",
              "#sk-container-id-2 a.estimator_doc_link:hover {\n",
              "  /* unfitted */\n",
              "  background-color: var(--sklearn-color-unfitted-level-3);\n",
              "  color: var(--sklearn-color-background);\n",
              "  text-decoration: none;\n",
              "}\n",
              "\n",
              "#sk-container-id-2 a.estimator_doc_link.fitted:hover {\n",
              "  /* fitted */\n",
              "  background-color: var(--sklearn-color-fitted-level-3);\n",
              "}\n",
              "</style><div id=\"sk-container-id-2\" class=\"sk-top-container\"><div class=\"sk-text-repr-fallback\"><pre>BernoulliNB()</pre><b>In a Jupyter environment, please rerun this cell to show the HTML representation or trust the notebook. <br />On GitHub, the HTML representation is unable to render, please try loading this page with nbviewer.org.</b></div><div class=\"sk-container\" hidden><div class=\"sk-item\"><div class=\"sk-estimator fitted sk-toggleable\"><input class=\"sk-toggleable__control sk-hidden--visually\" id=\"sk-estimator-id-2\" type=\"checkbox\" checked><label for=\"sk-estimator-id-2\" class=\"sk-toggleable__label fitted sk-toggleable__label-arrow\"><div><div>BernoulliNB</div></div><div><a class=\"sk-estimator-doc-link fitted\" rel=\"noreferrer\" target=\"_blank\" href=\"https://scikit-learn.org/1.6/modules/generated/sklearn.naive_bayes.BernoulliNB.html\">?<span>Documentation for BernoulliNB</span></a><span class=\"sk-estimator-doc-link fitted\">i<span>Fitted</span></span></div></label><div class=\"sk-toggleable__content fitted\"><pre>BernoulliNB()</pre></div> </div></div></div></div>"
            ]
          },
          "metadata": {},
          "execution_count": 30
        }
      ]
    },
    {
      "cell_type": "code",
      "source": [
        "bnb_result = evaluate_model(bnb_model, X_test, y_test)\n",
        "bnb_result"
      ],
      "metadata": {
        "colab": {
          "base_uri": "https://localhost:8080/"
        },
        "id": "s8lCahFmClnm",
        "outputId": "ef8a1b1f-5fc9-4d28-ffc6-497b6551a917"
      },
      "execution_count": 31,
      "outputs": [
        {
          "output_type": "execute_result",
          "data": {
            "text/plain": [
              "{'Accuracy': 0.9330093717459216,\n",
              " 'Confusion Matrix': array([[1360,   97],\n",
              "        [  96, 1328]])}"
            ]
          },
          "metadata": {},
          "execution_count": 31
        }
      ]
    },
    {
      "cell_type": "code",
      "source": [
        "cm_bnb = confusion_matrix(y_test, bnb_model.predict(X_test))\n",
        "cm_bnb"
      ],
      "metadata": {
        "colab": {
          "base_uri": "https://localhost:8080/"
        },
        "id": "KhzJG75jCvSk",
        "outputId": "fef776be-a3d7-4e71-f24c-a15ee9db5ac5"
      },
      "execution_count": 32,
      "outputs": [
        {
          "output_type": "execute_result",
          "data": {
            "text/plain": [
              "array([[1360,   97],\n",
              "       [  96, 1328]])"
            ]
          },
          "metadata": {},
          "execution_count": 32
        }
      ]
    },
    {
      "cell_type": "code",
      "source": [
        "# Create a heatmap\n",
        "\n",
        "plt.figure(figsize=(10, 6))\n",
        "sns.heatmap(cm_bnb, annot=True, fmt='d', cmap='Blues', cbar=False,\n",
        "            xticklabels=['Predicted_Fake', 'Predicted_Real'], yticklabels=['Actual_Fake', 'Actual_Real'])\n",
        "plt.xlabel('Predicted')\n",
        "plt.ylabel('Actual')\n",
        "plt.title('Confusion Matrix')\n",
        "plt.show()"
      ],
      "metadata": {
        "colab": {
          "base_uri": "https://localhost:8080/",
          "height": 537
        },
        "id": "6XcGZk2DDN7U",
        "outputId": "17ca8a73-902f-4190-b3ec-613b1f2abcd4"
      },
      "execution_count": 33,
      "outputs": [
        {
          "output_type": "display_data",
          "data": {
            "text/plain": [
              "<Figure size 1000x600 with 1 Axes>"
            ],
            "image/png": "[encoded data removed]"
          },
          "metadata": {}
        }
      ]
    },
    {
      "cell_type": "code",
      "source": [
        "print(classification_report(y_test, bnb_model.predict(X_test)))"
      ],
      "metadata": {
        "colab": {
          "base_uri": "https://localhost:8080/"
        },
        "id": "9p6M01d2FEXj",
        "outputId": "e081d4c9-e3c5-4d2b-9275-944737ebaa9b"
      },
      "execution_count": 34,
      "outputs": [
        {
          "output_type": "stream",
          "name": "stdout",
          "text": [
            "              precision    recall  f1-score   support\n",
            "\n",
            "           0       0.93      0.93      0.93      1457\n",
            "           1       0.93      0.93      0.93      1424\n",
            "\n",
            "    accuracy                           0.93      2881\n",
            "   macro avg       0.93      0.93      0.93      2881\n",
            "weighted avg       0.93      0.93      0.93      2881\n",
            "\n"
          ]
        }
      ]
    },
    {
      "cell_type": "code",
      "source": [
        "y_pred_proba = bnb_model.predict_proba(X_test)[:, 1]\n",
        "fpr, tpr, thresholds = roc_curve(y_test, y_pred_proba)\n",
        "roc_auc = auc(fpr, tpr)\n",
        "\n",
        "plt.figure()\n",
        "plt.plot(fpr, tpr, color='darkgreen', lw=2, label='ROC curve (area = %0.2f)' % roc_auc)\n",
        "plt.plot([0, 1], [0, 1], color='navy', lw=2, linestyle='--')\n",
        "plt.xlim([0.0, 1.0])\n",
        "plt.ylim([0.0, 1.05])\n",
        "plt.xlabel('False Positive Rate')\n",
        "plt.ylabel('True Positive Rate')\n",
        "plt.title('Receiver Operating Characteristic')\n",
        "plt.legend(loc=\"lower right\")\n",
        "plt.show()"
      ],
      "metadata": {
        "colab": {
          "base_uri": "https://localhost:8080/",
          "height": 472
        },
        "id": "ZjtxHVO3GRnG",
        "outputId": "cc204684-dfbb-455a-aa39-ef2fdedabf15"
      },
      "execution_count": 35,
      "outputs": [
        {
          "output_type": "display_data",
          "data": {
            "text/plain": [
              "<Figure size 640x480 with 1 Axes>"
            ],
            "image/png": "[encoded data removed]"
          },
          "metadata": {}
        }
      ]
    },
    {
      "cell_type": "markdown",
      "source": [
        "**Apply Logistic Regression**"
      ],
      "metadata": {
        "id": "7zYXwS20Hzfz"
      }
    },
    {
      "cell_type": "code",
      "source": [
        "lr_model = LogisticRegression(max_iter=1000)\n",
        "lr_model.fit(X_train, y_train)"
      ],
      "metadata": {
        "colab": {
          "base_uri": "https://localhost:8080/",
          "height": 80
        },
        "id": "zDvsYXM1H73j",
        "outputId": "25d8774d-90d1-4547-c4d1-6081523f1171"
      },
      "execution_count": 36,
      "outputs": [
        {
          "output_type": "execute_result",
          "data": {
            "text/plain": [
              "LogisticRegression(max_iter=1000)"
            ],
            "text/html": [
              "<style>#sk-container-id-3 {\n",
              "  /* Definition of color scheme common for light and dark mode */\n",
              "  --sklearn-color-text: #000;\n",
              "  --sklearn-color-text-muted: #666;\n",
              "  --sklearn-color-line: gray;\n",
              "  /* Definition of color scheme for unfitted estimators */\n",
              "  --sklearn-color-unfitted-level-0: #fff5e6;\n",
              "  --sklearn-color-unfitted-level-1: #f6e4d2;\n",
              "  --sklearn-color-unfitted-level-2: #ffe0b3;\n",
              "  --sklearn-color-unfitted-level-3: chocolate;\n",
              "  /* Definition of color scheme for fitted estimators */\n",
              "  --sklearn-color-fitted-level-0: #f0f8ff;\n",
              "  --sklearn-color-fitted-level-1: #d4ebff;\n",
              "  --sklearn-color-fitted-level-2: #b3dbfd;\n",
              "  --sklearn-color-fitted-level-3: cornflowerblue;\n",
              "\n",
              "  /* Specific color for light theme */\n",
              "  --sklearn-color-text-on-default-background: var(--sg-text-color, var(--theme-code-foreground, var(--jp-content-font-color1, black)));\n",
              "  --sklearn-color-background: var(--sg-background-color, var(--theme-background, var(--jp-layout-color0, white)));\n",
              "  --sklearn-color-border-box: var(--sg-text-color, var(--theme-code-foreground, var(--jp-content-font-color1, black)));\n",
              "  --sklearn-color-icon: #696969;\n",
              "\n",
              "  @media (prefers-color-scheme: dark) {\n",
              "    /* Redefinition of color scheme for dark theme */\n",
              "    --sklearn-color-text-on-default-background: var(--sg-text-color, var(--theme-code-foreground, var(--jp-content-font-color1, white)));\n",
              "    --sklearn-color-background: var(--sg-background-color, var(--theme-background, var(--jp-layout-color0, #111)));\n",
              "    --sklearn-color-border-box: var(--sg-text-color, var(--theme-code-foreground, var(--jp-content-font-color1, white)));\n",
              "    --sklearn-color-icon: #878787;\n",
              "  }\n",
              "}\n",
              "\n",
              "#sk-container-id-3 {\n",
              "  color: var(--sklearn-color-text);\n",
              "}\n",
              "\n",
              "#sk-container-id-3 pre {\n",
              "  padding: 0;\n",
              "}\n",
              "\n",
              "#sk-container-id-3 input.sk-hidden--visually {\n",
              "  border: 0;\n",
              "  clip: rect(1px 1px 1px 1px);\n",
              "  clip: rect(1px, 1px, 1px, 1px);\n",
              "  height: 1px;\n",
              "  margin: -1px;\n",
              "  overflow: hidden;\n",
              "  padding: 0;\n",
              "  position: absolute;\n",
              "  width: 1px;\n",
              "}\n",
              "\n",
              "#sk-container-id-3 div.sk-dashed-wrapped {\n",
              "  border: 1px dashed var(--sklearn-color-line);\n",
              "  margin: 0 0.4em 0.5em 0.4em;\n",
              "  box-sizing: border-box;\n",
              "  padding-bottom: 0.4em;\n",
              "  background-color: var(--sklearn-color-background);\n",
              "}\n",
              "\n",
              "#sk-container-id-3 div.sk-container {\n",
              "  /* jupyter's `normalize.less` sets `[hidden] { display: none; }`\n",
              "     but bootstrap.min.css set `[hidden] { display: none !important; }`\n",
              "     so we also need the `!important` here to be able to override the\n",
              "     default hidden behavior on the sphinx rendered scikit-learn.org.\n",
              "     See: https://github.com/scikit-learn/scikit-learn/issues/21755 */\n",
              "  display: inline-block !important;\n",
              "  position: relative;\n",
              "}\n",
              "\n",
              "#sk-container-id-3 div.sk-text-repr-fallback {\n",
              "  display: none;\n",
              "}\n",
              "\n",
              "div.sk-parallel-item,\n",
              "div.sk-serial,\n",
              "div.sk-item {\n",
              "  /* draw centered vertical line to link estimators */\n",
              "  background-image: linear-gradient(var(--sklearn-color-text-on-default-background), var(--sklearn-color-text-on-default-background));\n",
              "  background-size: 2px 100%;\n",
              "  background-repeat: no-repeat;\n",
              "  background-position: center center;\n",
              "}\n",
              "\n",
              "/* Parallel-specific style estimator block */\n",
              "\n",
              "#sk-container-id-3 div.sk-parallel-item::after {\n",
              "  content: \"\";\n",
              "  width: 100%;\n",
              "  border-bottom: 2px solid var(--sklearn-color-text-on-default-background);\n",
              "  flex-grow: 1;\n",
              "}\n",
              "\n",
              "#sk-container-id-3 div.sk-parallel {\n",
              "  display: flex;\n",
              "  align-items: stretch;\n",
              "  justify-content: center;\n",
              "  background-color: var(--sklearn-color-background);\n",
              "  position: relative;\n",
              "}\n",
              "\n",
              "#sk-container-id-3 div.sk-parallel-item {\n",
              "  display: flex;\n",
              "  flex-direction: column;\n",
              "}\n",
              "\n",
              "#sk-container-id-3 div.sk-parallel-item:first-child::after {\n",
              "  align-self: flex-end;\n",
              "  width: 50%;\n",
              "}\n",
              "\n",
              "#sk-container-id-3 div.sk-parallel-item:last-child::after {\n",
              "  align-self: flex-start;\n",
              "  width: 50%;\n",
              "}\n",
              "\n",
              "#sk-container-id-3 div.sk-parallel-item:only-child::after {\n",
              "  width: 0;\n",
              "}\n",
              "\n",
              "/* Serial-specific style estimator block */\n",
              "\n",
              "#sk-container-id-3 div.sk-serial {\n",
              "  display: flex;\n",
              "  flex-direction: column;\n",
              "  align-items: center;\n",
              "  background-color: var(--sklearn-color-background);\n",
              "  padding-right: 1em;\n",
              "  padding-left: 1em;\n",
              "}\n",
              "\n",
              "\n",
              "/* Toggleable style: style used for estimator/Pipeline/ColumnTransformer box that is\n",
              "clickable and can be expanded/collapsed.\n",
              "- Pipeline and ColumnTransformer use this feature and define the default style\n",
              "- Estimators will overwrite some part of the style using the `sk-estimator` class\n",
              "*/\n",
              "\n",
              "/* Pipeline and ColumnTransformer style (default) */\n",
              "\n",
              "#sk-container-id-3 div.sk-toggleable {\n",
              "  /* Default theme specific background. It is overwritten whether we have a\n",
              "  specific estimator or a Pipeline/ColumnTransformer */\n",
              "  background-color: var(--sklearn-color-background);\n",
              "}\n",
              "\n",
              "/* Toggleable label */\n",
              "#sk-container-id-3 label.sk-toggleable__label {\n",
              "  cursor: pointer;\n",
              "  display: flex;\n",
              "  width: 100%;\n",
              "  margin-bottom: 0;\n",
              "  padding: 0.5em;\n",
              "  box-sizing: border-box;\n",
              "  text-align: center;\n",
              "  align-items: start;\n",
              "  justify-content: space-between;\n",
              "  gap: 0.5em;\n",
              "}\n",
              "\n",
              "#sk-container-id-3 label.sk-toggleable__label .caption {\n",
              "  font-size: 0.6rem;\n",
              "  font-weight: lighter;\n",
              "  color: var(--sklearn-color-text-muted);\n",
              "}\n",
              "\n",
              "#sk-container-id-3 label.sk-toggleable__label-arrow:before {\n",
              "  /* Arrow on the left of the label */\n",
              "  content: \"▸\";\n",
              "  float: left;\n",
              "  margin-right: 0.25em;\n",
              "  color: var(--sklearn-color-icon);\n",
              "}\n",
              "\n",
              "#sk-container-id-3 label.sk-toggleable__label-arrow:hover:before {\n",
              "  color: var(--sklearn-color-text);\n",
              "}\n",
              "\n",
              "/* Toggleable content - dropdown */\n",
              "\n",
              "#sk-container-id-3 div.sk-toggleable__content {\n",
              "  max-height: 0;\n",
              "  max-width: 0;\n",
              "  overflow: hidden;\n",
              "  text-align: left;\n",
              "  /* unfitted */\n",
              "  background-color: var(--sklearn-color-unfitted-level-0);\n",
              "}\n",
              "\n",
              "#sk-container-id-3 div.sk-toggleable__content.fitted {\n",
              "  /* fitted */\n",
              "  background-color: var(--sklearn-color-fitted-level-0);\n",
              "}\n",
              "\n",
              "#sk-container-id-3 div.sk-toggleable__content pre {\n",
              "  margin: 0.2em;\n",
              "  border-radius: 0.25em;\n",
              "  color: var(--sklearn-color-text);\n",
              "  /* unfitted */\n",
              "  background-color: var(--sklearn-color-unfitted-level-0);\n",
              "}\n",
              "\n",
              "#sk-container-id-3 div.sk-toggleable__content.fitted pre {\n",
              "  /* unfitted */\n",
              "  background-color: var(--sklearn-color-fitted-level-0);\n",
              "}\n",
              "\n",
              "#sk-container-id-3 input.sk-toggleable__control:checked~div.sk-toggleable__content {\n",
              "  /* Expand drop-down */\n",
              "  max-height: 200px;\n",
              "  max-width: 100%;\n",
              "  overflow: auto;\n",
              "}\n",
              "\n",
              "#sk-container-id-3 input.sk-toggleable__control:checked~label.sk-toggleable__label-arrow:before {\n",
              "  content: \"▾\";\n",
              "}\n",
              "\n",
              "/* Pipeline/ColumnTransformer-specific style */\n",
              "\n",
              "#sk-container-id-3 div.sk-label input.sk-toggleable__control:checked~label.sk-toggleable__label {\n",
              "  color: var(--sklearn-color-text);\n",
              "  background-color: var(--sklearn-color-unfitted-level-2);\n",
              "}\n",
              "\n",
              "#sk-container-id-3 div.sk-label.fitted input.sk-toggleable__control:checked~label.sk-toggleable__label {\n",
              "  background-color: var(--sklearn-color-fitted-level-2);\n",
              "}\n",
              "\n",
              "/* Estimator-specific style */\n",
              "\n",
              "/* Colorize estimator box */\n",
              "#sk-container-id-3 div.sk-estimator input.sk-toggleable__control:checked~label.sk-toggleable__label {\n",
              "  /* unfitted */\n",
              "  background-color: var(--sklearn-color-unfitted-level-2);\n",
              "}\n",
              "\n",
              "#sk-container-id-3 div.sk-estimator.fitted input.sk-toggleable__control:checked~label.sk-toggleable__label {\n",
              "  /* fitted */\n",
              "  background-color: var(--sklearn-color-fitted-level-2);\n",
              "}\n",
              "\n",
              "#sk-container-id-3 div.sk-label label.sk-toggleable__label,\n",
              "#sk-container-id-3 div.sk-label label {\n",
              "  /* The background is the default theme color */\n",
              "  color: var(--sklearn-color-text-on-default-background);\n",
              "}\n",
              "\n",
              "/* On hover, darken the color of the background */\n",
              "#sk-container-id-3 div.sk-label:hover label.sk-toggleable__label {\n",
              "  color: var(--sklearn-color-text);\n",
              "  background-color: var(--sklearn-color-unfitted-level-2);\n",
              "}\n",
              "\n",
              "/* Label box, darken color on hover, fitted */\n",
              "#sk-container-id-3 div.sk-label.fitted:hover label.sk-toggleable__label.fitted {\n",
              "  color: var(--sklearn-color-text);\n",
              "  background-color: var(--sklearn-color-fitted-level-2);\n",
              "}\n",
              "\n",
              "/* Estimator label */\n",
              "\n",
              "#sk-container-id-3 div.sk-label label {\n",
              "  font-family: monospace;\n",
              "  font-weight: bold;\n",
              "  display: inline-block;\n",
              "  line-height: 1.2em;\n",
              "}\n",
              "\n",
              "#sk-container-id-3 div.sk-label-container {\n",
              "  text-align: center;\n",
              "}\n",
              "\n",
              "/* Estimator-specific */\n",
              "#sk-container-id-3 div.sk-estimator {\n",
              "  font-family: monospace;\n",
              "  border: 1px dotted var(--sklearn-color-border-box);\n",
              "  border-radius: 0.25em;\n",
              "  box-sizing: border-box;\n",
              "  margin-bottom: 0.5em;\n",
              "  /* unfitted */\n",
              "  background-color: var(--sklearn-color-unfitted-level-0);\n",
              "}\n",
              "\n",
              "#sk-container-id-3 div.sk-estimator.fitted {\n",
              "  /* fitted */\n",
              "  background-color: var(--sklearn-color-fitted-level-0);\n",
              "}\n",
              "\n",
              "/* on hover */\n",
              "#sk-container-id-3 div.sk-estimator:hover {\n",
              "  /* unfitted */\n",
              "  background-color: var(--sklearn-color-unfitted-level-2);\n",
              "}\n",
              "\n",
              "#sk-container-id-3 div.sk-estimator.fitted:hover {\n",
              "  /* fitted */\n",
              "  background-color: var(--sklearn-color-fitted-level-2);\n",
              "}\n",
              "\n",
              "/* Specification for estimator info (e.g. \"i\" and \"?\") */\n",
              "\n",
              "/* Common style for \"i\" and \"?\" */\n",
              "\n",
              ".sk-estimator-doc-link,\n",
              "a:link.sk-estimator-doc-link,\n",
              "a:visited.sk-estimator-doc-link {\n",
              "  float: right;\n",
              "  font-size: smaller;\n",
              "  line-height: 1em;\n",
              "  font-family: monospace;\n",
              "  background-color: var(--sklearn-color-background);\n",
              "  border-radius: 1em;\n",
              "  height: 1em;\n",
              "  width: 1em;\n",
              "  text-decoration: none !important;\n",
              "  margin-left: 0.5em;\n",
              "  text-align: center;\n",
              "  /* unfitted */\n",
              "  border: var(--sklearn-color-unfitted-level-1) 1pt solid;\n",
              "  color: var(--sklearn-color-unfitted-level-1);\n",
              "}\n",
              "\n",
              ".sk-estimator-doc-link.fitted,\n",
              "a:link.sk-estimator-doc-link.fitted,\n",
              "a:visited.sk-estimator-doc-link.fitted {\n",
              "  /* fitted */\n",
              "  border: var(--sklearn-color-fitted-level-1) 1pt solid;\n",
              "  color: var(--sklearn-color-fitted-level-1);\n",
              "}\n",
              "\n",
              "/* On hover */\n",
              "div.sk-estimator:hover .sk-estimator-doc-link:hover,\n",
              ".sk-estimator-doc-link:hover,\n",
              "div.sk-label-container:hover .sk-estimator-doc-link:hover,\n",
              ".sk-estimator-doc-link:hover {\n",
              "  /* unfitted */\n",
              "  background-color: var(--sklearn-color-unfitted-level-3);\n",
              "  color: var(--sklearn-color-background);\n",
              "  text-decoration: none;\n",
              "}\n",
              "\n",
              "div.sk-estimator.fitted:hover .sk-estimator-doc-link.fitted:hover,\n",
              ".sk-estimator-doc-link.fitted:hover,\n",
              "div.sk-label-container:hover .sk-estimator-doc-link.fitted:hover,\n",
              ".sk-estimator-doc-link.fitted:hover {\n",
              "  /* fitted */\n",
              "  background-color: var(--sklearn-color-fitted-level-3);\n",
              "  color: var(--sklearn-color-background);\n",
              "  text-decoration: none;\n",
              "}\n",
              "\n",
              "/* Span, style for the box shown on hovering the info icon */\n",
              ".sk-estimator-doc-link span {\n",
              "  display: none;\n",
              "  z-index: 9999;\n",
              "  position: relative;\n",
              "  font-weight: normal;\n",
              "  right: .2ex;\n",
              "  padding: .5ex;\n",
              "  margin: .5ex;\n",
              "  width: min-content;\n",
              "  min-width: 20ex;\n",
              "  max-width: 50ex;\n",
              "  color: var(--sklearn-color-text);\n",
              "  box-shadow: 2pt 2pt 4pt #999;\n",
              "  /* unfitted */\n",
              "  background: var(--sklearn-color-unfitted-level-0);\n",
              "  border: .5pt solid var(--sklearn-color-unfitted-level-3);\n",
              "}\n",
              "\n",
              ".sk-estimator-doc-link.fitted span {\n",
              "  /* fitted */\n",
              "  background: var(--sklearn-color-fitted-level-0);\n",
              "  border: var(--sklearn-color-fitted-level-3);\n",
              "}\n",
              "\n",
              ".sk-estimator-doc-link:hover span {\n",
              "  display: block;\n",
              "}\n",
              "\n",
              "/* \"?\"-specific style due to the `<a>` HTML tag */\n",
              "\n",
              "#sk-container-id-3 a.estimator_doc_link {\n",
              "  float: right;\n",
              "  font-size: 1rem;\n",
              "  line-height: 1em;\n",
              "  font-family: monospace;\n",
              "  background-color: var(--sklearn-color-background);\n",
              "  border-radius: 1rem;\n",
              "  height: 1rem;\n",
              "  width: 1rem;\n",
              "  text-decoration: none;\n",
              "  /* unfitted */\n",
              "  color: var(--sklearn-color-unfitted-level-1);\n",
              "  border: var(--sklearn-color-unfitted-level-1) 1pt solid;\n",
              "}\n",
              "\n",
              "#sk-container-id-3 a.estimator_doc_link.fitted {\n",
              "  /* fitted */\n",
              "  border: var(--sklearn-color-fitted-level-1) 1pt solid;\n",
              "  color: var(--sklearn-color-fitted-level-1);\n",
              "}\n",
              "\n",
              "/* On hover */\n",
              "#sk-container-id-3 a.estimator_doc_link:hover {\n",
              "  /* unfitted */\n",
              "  background-color: var(--sklearn-color-unfitted-level-3);\n",
              "  color: var(--sklearn-color-background);\n",
              "  text-decoration: none;\n",
              "}\n",
              "\n",
              "#sk-container-id-3 a.estimator_doc_link.fitted:hover {\n",
              "  /* fitted */\n",
              "  background-color: var(--sklearn-color-fitted-level-3);\n",
              "}\n",
              "</style><div id=\"sk-container-id-3\" class=\"sk-top-container\"><div class=\"sk-text-repr-fallback\"><pre>LogisticRegression(max_iter=1000)</pre><b>In a Jupyter environment, please rerun this cell to show the HTML representation or trust the notebook. <br />On GitHub, the HTML representation is unable to render, please try loading this page with nbviewer.org.</b></div><div class=\"sk-container\" hidden><div class=\"sk-item\"><div class=\"sk-estimator fitted sk-toggleable\"><input class=\"sk-toggleable__control sk-hidden--visually\" id=\"sk-estimator-id-3\" type=\"checkbox\" checked><label for=\"sk-estimator-id-3\" class=\"sk-toggleable__label fitted sk-toggleable__label-arrow\"><div><div>LogisticRegression</div></div><div><a class=\"sk-estimator-doc-link fitted\" rel=\"noreferrer\" target=\"_blank\" href=\"https://scikit-learn.org/1.6/modules/generated/sklearn.linear_model.LogisticRegression.html\">?<span>Documentation for LogisticRegression</span></a><span class=\"sk-estimator-doc-link fitted\">i<span>Fitted</span></span></div></label><div class=\"sk-toggleable__content fitted\"><pre>LogisticRegression(max_iter=1000)</pre></div> </div></div></div></div>"
            ]
          },
          "metadata": {},
          "execution_count": 36
        }
      ]
    },
    {
      "cell_type": "code",
      "source": [
        "lr_results = evaluate_model(lr_model, X_test, y_test)\n",
        "lr_results"
      ],
      "metadata": {
        "colab": {
          "base_uri": "https://localhost:8080/"
        },
        "id": "uhHeAq7fIrCO",
        "outputId": "3deddd80-c71a-4df0-f1e1-d2435acbfd25"
      },
      "execution_count": 37,
      "outputs": [
        {
          "output_type": "execute_result",
          "data": {
            "text/plain": [
              "{'Accuracy': 0.9507115584866366,\n",
              " 'Confusion Matrix': array([[1409,   48],\n",
              "        [  94, 1330]])}"
            ]
          },
          "metadata": {},
          "execution_count": 37
        }
      ]
    },
    {
      "cell_type": "code",
      "source": [
        "cm_lr = confusion_matrix(y_test, lr_model.predict(X_test))\n",
        "cm_lr"
      ],
      "metadata": {
        "colab": {
          "base_uri": "https://localhost:8080/"
        },
        "id": "VdyUtpZcJBW1",
        "outputId": "b61a047f-b566-4ae5-af9b-276ece6a1ad5"
      },
      "execution_count": 38,
      "outputs": [
        {
          "output_type": "execute_result",
          "data": {
            "text/plain": [
              "array([[1409,   48],\n",
              "       [  94, 1330]])"
            ]
          },
          "metadata": {},
          "execution_count": 38
        }
      ]
    },
    {
      "cell_type": "code",
      "source": [
        "# Create a heatmap\n",
        "\n",
        "plt.figure(figsize=(10, 6))\n",
        "sns.heatmap(cm_lr, annot=True, fmt='d', cmap='Blues', cbar=False,\n",
        "            xticklabels=['Predicted_Fake', 'Predicted_Real'], yticklabels=['Actual_Fake', 'Actual_Real'])\n",
        "plt.xlabel('Predicted')\n",
        "plt.ylabel('Actual')\n",
        "plt.title('Confusion Matrix')\n",
        "plt.show()"
      ],
      "metadata": {
        "colab": {
          "base_uri": "https://localhost:8080/",
          "height": 537
        },
        "id": "rk4UsYOHJMPu",
        "outputId": "6f5c8dc3-9cdf-4730-dd06-ed5cac58921e"
      },
      "execution_count": 39,
      "outputs": [
        {
          "output_type": "display_data",
          "data": {
            "text/plain": [
              "<Figure size 1000x600 with 1 Axes>"
            ],
            "image/png": "[encoded data removed]"
          },
          "metadata": {}
        }
      ]
    },
    {
      "cell_type": "code",
      "source": [
        "print(classification_report(y_test, lr_model.predict(X_test)))"
      ],
      "metadata": {
        "colab": {
          "base_uri": "https://localhost:8080/"
        },
        "id": "tEhXSAQGJiAq",
        "outputId": "6a8b87ea-6448-4b0e-a839-92e4f38b9df5"
      },
      "execution_count": 40,
      "outputs": [
        {
          "output_type": "stream",
          "name": "stdout",
          "text": [
            "              precision    recall  f1-score   support\n",
            "\n",
            "           0       0.94      0.97      0.95      1457\n",
            "           1       0.97      0.93      0.95      1424\n",
            "\n",
            "    accuracy                           0.95      2881\n",
            "   macro avg       0.95      0.95      0.95      2881\n",
            "weighted avg       0.95      0.95      0.95      2881\n",
            "\n"
          ]
        }
      ]
    },
    {
      "cell_type": "code",
      "source": [
        "y_pred_proba = lr_model.predict_proba(X_test)[:, 1]\n",
        "fpr, tpr, thresholds = roc_curve(y_test, y_pred_proba)\n",
        "roc_auc = auc(fpr, tpr)\n",
        "\n",
        "plt.figure()\n",
        "plt.plot(fpr, tpr, color='purple', lw=2, label='ROC curve (area = %0.2f)' % roc_auc)\n",
        "plt.plot([0, 1], [0, 1], color='navy', lw=2, linestyle='--')\n",
        "plt.xlim([0.0, 1.0])\n",
        "plt.ylim([0.0, 1.05])\n",
        "plt.xlabel('False Positive Rate')\n",
        "plt.ylabel('True Positive Rate')\n",
        "plt.title('Receiver Operating Characteristic')\n",
        "plt.legend(loc=\"lower right\")\n",
        "plt.show()"
      ],
      "metadata": {
        "colab": {
          "base_uri": "https://localhost:8080/",
          "height": 472
        },
        "id": "0BWICgC5J34X",
        "outputId": "2f0e69cd-2154-4571-a356-12a0961ff877"
      },
      "execution_count": 41,
      "outputs": [
        {
          "output_type": "display_data",
          "data": {
            "text/plain": [
              "<Figure size 640x480 with 1 Axes>"
            ],
            "image/png": "[encoded data removed]"
          },
          "metadata": {}
        }
      ]
    },
    {
      "cell_type": "markdown",
      "source": [
        "# **Compare Model Performance with histogram**"
      ],
      "metadata": {
        "id": "JK2AhTYfKc3R"
      }
    },
    {
      "cell_type": "code",
      "source": [
        "def plot_histogram(metric_values, model_names, metric_name):\n",
        "  fig, ax = plt.subplots(figsize=(10, 6))\n",
        "  bars = plt.bar(model_names, metric_values)\n",
        "  plt.xlabel('Models')\n",
        "  plt.ylabel(metric_name)\n",
        "  plt.title(f'{metric_name} Comparison')\n",
        "\n",
        "  for bar in bars:\n",
        "    yval = bar.get_height()\n",
        "    ax.text(bar.get_x() + bar.get_width()/2, yval, round(yval, 3), ha='center', va='bottom', color='black', fontweight='bold')\n",
        "\n",
        "\n",
        "  plt.show()\n",
        "\n",
        "accuracy_values = [nb_result['Accuracy'], bnb_result['Accuracy'], lr_results['Accuracy']]\n",
        "model_names = ['Naive Bayes', 'Bernoulli Naive Bayes', 'Logistic Regression']\n",
        "metric_name = 'Accuracy'\n",
        "\n",
        "plot_histogram(accuracy_values, model_names, metric_name)"
      ],
      "metadata": {
        "colab": {
          "base_uri": "https://localhost:8080/",
          "height": 533
        },
        "id": "YO056SI1KqfH",
        "outputId": "5b9e1a24-d4e7-4a20-f8f9-7cfd70dda029"
      },
      "execution_count": 42,
      "outputs": [
        {
          "output_type": "display_data",
          "data": {
            "text/plain": [
              "<Figure size 1000x600 with 1 Axes>"
            ],
            "image/png": "[encoded data removed]"
          },
          "metadata": {}
        }
      ]
    },
    {
      "cell_type": "markdown",
      "source": [
        "# **Input random text and make a predicton**"
      ],
      "metadata": {
        "id": "bSGmbCd6Oy8k"
      }
    },
    {
      "cell_type": "code",
      "source": [
        "models = [mnb_model, bnb_model, lr_model]"
      ],
      "metadata": {
        "id": "VcShofvWO5VK"
      },
      "execution_count": 43,
      "outputs": []
    },
    {
      "cell_type": "code",
      "source": [
        "random_text = input(\"Enter a text: \")\n",
        "\n",
        "preprocessed_text = preprocess_text(random_text)\n",
        "vectorized_text = vectorizer.transform([preprocessed_text])"
      ],
      "metadata": {
        "colab": {
          "base_uri": "https://localhost:8080/"
        },
        "id": "YEfryeoxPKR6",
        "outputId": "4c985afb-b1e7-457f-db5b-6b5ba334764c"
      },
      "execution_count": 44,
      "outputs": [
        {
          "name": "stdout",
          "output_type": "stream",
          "text": [
            "Enter a text: ক্রিকেট বিশ্বের নতুন চমকের নাম আফগানিস্তান। কয়েক বছরে তাদের পারফরম্যান্স নজর কেড়েছে ক্রিকেট জগতের। এশিয়া কাপের ১৪তম আসরেও দারুণ ছন্দে আছে আফগান ক্রিকেটাররা। পাঁচবারের এশিয়া কাপ চ্যাম্পিয়ন শ্রীলঙ্কাকে হারিয়ে এরই মধ্যে সেরা চারে পৌঁছে গেছে তারা। তবে দলের এমন ভালো সময়ে হঠাৎ করেই পদত্যাগ করেন আফগান ক্রিকেট বোর্ড (এসিবি) প্রধান আতিফ মাশাল। তবে হঠাৎ কী কারণে তার এই পদত্যাগ- এ নিয়ে ওঠা প্রশ্নের জবাব দিয়েছেন আতিফ। তিনি জানান, সরকারের অন্য একটি বিশেষ পদে তাকে নিয়োগ দেওয়ার কারণেই বোর্ডের দায়িত্ব থেকে অব্যাহতি। তার পরিবর্তে এসিবির দায়িত্ব নেবেন আফগান বোর্ডের সাবেক সহ সভাপতি আজিজ উল্লাহ ফজলে।\\xa0\\xa0 ২০১৭ সালের জানুয়ারিতে পাঁচ বছরের জন্য আতিফকে বোর্ড প্রধান নির্বাচন করা হলেও দায়িত্বের আড়াই বছরের মাথায় দায়িত্ব থেকে অব্যাহতি দিলেন তিনি। বিডি প্রতিদিন/ ওয়াসিফ\n"
          ]
        }
      ]
    },
    {
      "cell_type": "code",
      "source": [
        "for model in models:\n",
        "  prediction = model.predict(vectorized_text)\n",
        "  print(f\"Prediction using {model.__class__.__name__}: {prediction[0]}\")"
      ],
      "metadata": {
        "colab": {
          "base_uri": "https://localhost:8080/"
        },
        "id": "TXiZG3qyijN3",
        "outputId": "ce6dc5e4-887d-465b-b953-ff53afcc7952"
      },
      "execution_count": 45,
      "outputs": [
        {
          "output_type": "stream",
          "name": "stdout",
          "text": [
            "Prediction using MultinomialNB: 1\n",
            "Prediction using BernoulliNB: 1\n",
            "Prediction using LogisticRegression: 1\n"
          ]
        }
      ]
    },
    {
      "cell_type": "code",
      "source": [
        "print(\"Fake News:\\n\")\n",
        "fake['content'][12]"
      ],
      "metadata": {
        "colab": {
          "base_uri": "https://localhost:8080/",
          "height": 226
        },
        "id": "91Umq-aykyWI",
        "outputId": "571574a7-5518-493c-faa1-a7f407e2de23"
      },
      "execution_count": 46,
      "outputs": [
        {
          "output_type": "stream",
          "name": "stdout",
          "text": [
            "Fake News:\n",
            "\n"
          ]
        },
        {
          "output_type": "execute_result",
          "data": {
            "text/plain": [
              "'ঈদ অনুষ্ঠানের সময় বেশি বিজ্ঞাপন না দেওয়ায় টিভি ভাঙলেন ইউনাইটেড স্টেটস অফ মিরপুরের এক বাসিন্দা। জানা যায় শুধু বিজ্ঞাপন দেখার আশাতেই ঈদের অনুষ্ঠান দেখা শুরু করেছিলেন মিরপুরের ঐ ব্যক্তি। এ ব্যাপারে ক্ষিপ্ত সেই ভাইটি আমাদের বেশি বেশি বিজ্ঞাপন দেখানোর শর্তে বলেন “ঈদ অনুষ্ঠানে সারাজীবন ধইরা বেশি বেশি বিজ্ঞাপন দেখে আসছি। বিজ্ঞাপনের ফাঁকে ফাঁকে নাটক সিনেমা দিলে সেইটা মানা যায়। এইবার ঈদে এগুলা কি শুরু করসে এই চ্যানেল গুলা! বিরতিহীন নাটকের নামে প্রহসন। ছোটকাল থেকে গড়ে উঠা অভ্যাস কি এমন হুট করে ছেড়ে দেওয়া যায়? আমি বিজ্ঞাপন দেখার আশায় টিভির সামনে বসছি আর এখন পর্যন্ত কোন বিজ্ঞাপনই দেখলাম না, জিদের চোটে টিভিই ভাইঙ্গা ফেলসি! যা শালা টিভিই দেখুম না। কি একটা আজব ঈদ! মিরপুরে জ্যাম নাই টিভিতে বিজ্ঞাপন নাই। আই মিস মাই চাইল্ডহুড”।এদিকে ঈদ অনুষ্ঠানে বেশি পরিমানে বিজ্ঞাপন থাকার সংস্কৃতিকে ধীরে ধীরে বাংলার মাটি থেকে মুছে ফেলার চক্রান্তকে মিরপুরের ধুলার সাথে মিশিয়ে দিতে ঈদের পরেই দলবল নিয়ে আন্দোলনে নামার ঘোষণা দিয়েছেন আমরা বিজ্ঞাপনের ফ্যান (আবিফ্যা)’র সভাপতি বিজ্ঞ আলী।'"
            ],
            "application/vnd.google.colaboratory.intrinsic+json": {
              "type": "string"
            }
          },
          "metadata": {},
          "execution_count": 46
        }
      ]
    },
    {
      "cell_type": "code",
      "source": [
        "print(\"Real News:\\n\")\n",
        "real['content'][100]"
      ],
      "metadata": {
        "id": "cpwIuHR7lbP2"
      },
      "execution_count": null,
      "outputs": []
    }
  ]
}